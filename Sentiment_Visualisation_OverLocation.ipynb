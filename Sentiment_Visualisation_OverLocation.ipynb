{
 "cells": [
  {
   "cell_type": "code",
   "execution_count": 1,
   "metadata": {},
   "outputs": [],
   "source": [
    "import pandas as pd"
   ]
  },
  {
   "cell_type": "code",
   "execution_count": 2,
   "metadata": {},
   "outputs": [
    {
     "data": {
      "text/plain": [
       "'C:\\\\Users\\\\basharm\\\\PythonJupyter\\\\CoVID19CodeGit\\\\data\\\\australian_space\\\\'"
      ]
     },
     "execution_count": 2,
     "metadata": {},
     "output_type": "execute_result"
    }
   ],
   "source": [
    "BASE_UNLABELLED = 'C:\\\\Users\\\\basharm\\\\PythonJupyter\\\\CoVID19CodeGit\\\\data\\\\australian_space\\\\'\n",
    "BASE_UNLABELLED"
   ]
  },
  {
   "cell_type": "code",
   "execution_count": 3,
   "metadata": {},
   "outputs": [],
   "source": [
    "df_in = pd.read_csv(BASE_UNLABELLED+'au_tweet_sentiment.csv', encoding='utf8')"
   ]
  },
  {
   "cell_type": "code",
   "execution_count": 237,
   "metadata": {},
   "outputs": [
    {
     "data": {
      "text/html": [
       "<div>\n",
       "<style scoped>\n",
       "    .dataframe tbody tr th:only-of-type {\n",
       "        vertical-align: middle;\n",
       "    }\n",
       "\n",
       "    .dataframe tbody tr th {\n",
       "        vertical-align: top;\n",
       "    }\n",
       "\n",
       "    .dataframe thead th {\n",
       "        text-align: right;\n",
       "    }\n",
       "</style>\n",
       "<table border=\"1\" class=\"dataframe\">\n",
       "  <thead>\n",
       "    <tr style=\"text-align: right;\">\n",
       "      <th></th>\n",
       "      <th>Text</th>\n",
       "      <th>Time</th>\n",
       "      <th>Location</th>\n",
       "      <th>Name</th>\n",
       "      <th>Sentiment</th>\n",
       "      <th>DinY</th>\n",
       "      <th>WinY</th>\n",
       "      <th>MinY</th>\n",
       "    </tr>\n",
       "  </thead>\n",
       "  <tbody>\n",
       "    <tr>\n",
       "      <th>2701250</th>\n",
       "      <td>good morn song billion care fight</td>\n",
       "      <td>2020-04-07 22:54:19</td>\n",
       "      <td>NaN</td>\n",
       "      <td>MelissaSweetDr</td>\n",
       "      <td>1</td>\n",
       "      <td>463.0</td>\n",
       "      <td>67.0</td>\n",
       "      <td>16.0</td>\n",
       "    </tr>\n",
       "    <tr>\n",
       "      <th>2701251</th>\n",
       "      <td>bound built brutal human exploit environment o...</td>\n",
       "      <td>2020-04-07 22:54:36</td>\n",
       "      <td>NaN</td>\n",
       "      <td>MelissaSweetDr</td>\n",
       "      <td>0</td>\n",
       "      <td>463.0</td>\n",
       "      <td>67.0</td>\n",
       "      <td>16.0</td>\n",
       "    </tr>\n",
       "    <tr>\n",
       "      <th>2701252</th>\n",
       "      <td>dilemma mani cramp home home park class</td>\n",
       "      <td>2020-04-07 22:55:42</td>\n",
       "      <td>NaN</td>\n",
       "      <td>MelissaSweetDr</td>\n",
       "      <td>0</td>\n",
       "      <td>463.0</td>\n",
       "      <td>67.0</td>\n",
       "      <td>16.0</td>\n",
       "    </tr>\n",
       "    <tr>\n",
       "      <th>2701253</th>\n",
       "      <td>honest public servant speak truth power afraid...</td>\n",
       "      <td>2020-04-07 22:55:48</td>\n",
       "      <td>Australia</td>\n",
       "      <td>MaryannWeston</td>\n",
       "      <td>0</td>\n",
       "      <td>463.0</td>\n",
       "      <td>67.0</td>\n",
       "      <td>16.0</td>\n",
       "    </tr>\n",
       "    <tr>\n",
       "      <th>2701254</th>\n",
       "      <td>act student hit hard impact intern student hom...</td>\n",
       "      <td>2020-04-07 22:55:49</td>\n",
       "      <td>NaN</td>\n",
       "      <td>MelissaSweetDr</td>\n",
       "      <td>0</td>\n",
       "      <td>463.0</td>\n",
       "      <td>67.0</td>\n",
       "      <td>16.0</td>\n",
       "    </tr>\n",
       "    <tr>\n",
       "      <th>2701255</th>\n",
       "      <td>new white press said month ago spread</td>\n",
       "      <td>2020-04-07 22:55:54</td>\n",
       "      <td>Australia</td>\n",
       "      <td>MaryannWeston</td>\n",
       "      <td>1</td>\n",
       "      <td>463.0</td>\n",
       "      <td>67.0</td>\n",
       "      <td>16.0</td>\n",
       "    </tr>\n",
       "    <tr>\n",
       "      <th>2701256</th>\n",
       "      <td>govern plan infect build overwhelm health system</td>\n",
       "      <td>2020-04-07 22:56:22</td>\n",
       "      <td>Australia</td>\n",
       "      <td>lynlinking</td>\n",
       "      <td>0</td>\n",
       "      <td>463.0</td>\n",
       "      <td>67.0</td>\n",
       "      <td>16.0</td>\n",
       "    </tr>\n",
       "    <tr>\n",
       "      <th>2701257</th>\n",
       "      <td>husband told watch govern deal watch magic dea...</td>\n",
       "      <td>2020-04-07 22:57:34</td>\n",
       "      <td>NaN</td>\n",
       "      <td>Dontkillpunk</td>\n",
       "      <td>1</td>\n",
       "      <td>463.0</td>\n",
       "      <td>67.0</td>\n",
       "      <td>16.0</td>\n",
       "    </tr>\n",
       "    <tr>\n",
       "      <th>2701258</th>\n",
       "      <td>prison risk crowd jail</td>\n",
       "      <td>2020-04-07 23:04:31</td>\n",
       "      <td>Australia</td>\n",
       "      <td>TheWillowGhost</td>\n",
       "      <td>0</td>\n",
       "      <td>463.0</td>\n",
       "      <td>67.0</td>\n",
       "      <td>16.0</td>\n",
       "    </tr>\n",
       "    <tr>\n",
       "      <th>2701259</th>\n",
       "      <td>yesterday free program attack organ help respo...</td>\n",
       "      <td>2020-04-07 23:09:01</td>\n",
       "      <td>NaN</td>\n",
       "      <td>Bugcrowd</td>\n",
       "      <td>1</td>\n",
       "      <td>463.0</td>\n",
       "      <td>67.0</td>\n",
       "      <td>16.0</td>\n",
       "    </tr>\n",
       "    <tr>\n",
       "      <th>2701260</th>\n",
       "      <td>price war ha fallen petrol price stuff away us...</td>\n",
       "      <td>2020-04-07 23:13:24</td>\n",
       "      <td>Nerdtania</td>\n",
       "      <td>weezmgk</td>\n",
       "      <td>0</td>\n",
       "      <td>463.0</td>\n",
       "      <td>67.0</td>\n",
       "      <td>16.0</td>\n",
       "    </tr>\n",
       "    <tr>\n",
       "      <th>2701261</th>\n",
       "      <td>South</td>\n",
       "      <td>NaT</td>\n",
       "      <td>stephen6300</td>\n",
       "      <td>NaN</td>\n",
       "      <td>1</td>\n",
       "      <td>NaN</td>\n",
       "      <td>NaN</td>\n",
       "      <td>NaN</td>\n",
       "    </tr>\n",
       "    <tr>\n",
       "      <th>2701262</th>\n",
       "      <td>South</td>\n",
       "      <td>NaT</td>\n",
       "      <td>stephen6300</td>\n",
       "      <td>NaN</td>\n",
       "      <td>1</td>\n",
       "      <td>NaN</td>\n",
       "      <td>NaN</td>\n",
       "      <td>NaN</td>\n",
       "    </tr>\n",
       "    <tr>\n",
       "      <th>2701263</th>\n",
       "      <td>AUSTRALIA</td>\n",
       "      <td>NaT</td>\n",
       "      <td>SouthernGeo</td>\n",
       "      <td>NaN</td>\n",
       "      <td>1</td>\n",
       "      <td>NaN</td>\n",
       "      <td>NaN</td>\n",
       "      <td>NaN</td>\n",
       "    </tr>\n",
       "    <tr>\n",
       "      <th>2701264</th>\n",
       "      <td>South</td>\n",
       "      <td>NaT</td>\n",
       "      <td>stephen6300</td>\n",
       "      <td>NaN</td>\n",
       "      <td>1</td>\n",
       "      <td>NaN</td>\n",
       "      <td>NaN</td>\n",
       "      <td>NaN</td>\n",
       "    </tr>\n",
       "    <tr>\n",
       "      <th>2701265</th>\n",
       "      <td>Australia</td>\n",
       "      <td>NaT</td>\n",
       "      <td>KellsOnTheBeach</td>\n",
       "      <td>NaN</td>\n",
       "      <td>1</td>\n",
       "      <td>NaN</td>\n",
       "      <td>NaN</td>\n",
       "      <td>NaN</td>\n",
       "    </tr>\n",
       "    <tr>\n",
       "      <th>2701266</th>\n",
       "      <td>MichelleRamoos</td>\n",
       "      <td>NaT</td>\n",
       "      <td>NaN</td>\n",
       "      <td>NaN</td>\n",
       "      <td>1</td>\n",
       "      <td>NaN</td>\n",
       "      <td>NaN</td>\n",
       "      <td>NaN</td>\n",
       "    </tr>\n",
       "    <tr>\n",
       "      <th>2701267</th>\n",
       "      <td>South</td>\n",
       "      <td>NaT</td>\n",
       "      <td>stephen6300</td>\n",
       "      <td>NaN</td>\n",
       "      <td>1</td>\n",
       "      <td>NaN</td>\n",
       "      <td>NaN</td>\n",
       "      <td>NaN</td>\n",
       "    </tr>\n",
       "    <tr>\n",
       "      <th>2701268</th>\n",
       "      <td>South</td>\n",
       "      <td>NaT</td>\n",
       "      <td>stephen6300</td>\n",
       "      <td>NaN</td>\n",
       "      <td>1</td>\n",
       "      <td>NaN</td>\n",
       "      <td>NaN</td>\n",
       "      <td>NaN</td>\n",
       "    </tr>\n",
       "    <tr>\n",
       "      <th>2701269</th>\n",
       "      <td>South</td>\n",
       "      <td>NaT</td>\n",
       "      <td>stephen6300</td>\n",
       "      <td>NaN</td>\n",
       "      <td>1</td>\n",
       "      <td>NaN</td>\n",
       "      <td>NaN</td>\n",
       "      <td>NaN</td>\n",
       "    </tr>\n",
       "  </tbody>\n",
       "</table>\n",
       "</div>"
      ],
      "text/plain": [
       "                                                      Text  \\\n",
       "2701250                  good morn song billion care fight   \n",
       "2701251  bound built brutal human exploit environment o...   \n",
       "2701252            dilemma mani cramp home home park class   \n",
       "2701253  honest public servant speak truth power afraid...   \n",
       "2701254  act student hit hard impact intern student hom...   \n",
       "2701255              new white press said month ago spread   \n",
       "2701256   govern plan infect build overwhelm health system   \n",
       "2701257  husband told watch govern deal watch magic dea...   \n",
       "2701258                             prison risk crowd jail   \n",
       "2701259  yesterday free program attack organ help respo...   \n",
       "2701260  price war ha fallen petrol price stuff away us...   \n",
       "2701261                                              South   \n",
       "2701262                                              South   \n",
       "2701263                                          AUSTRALIA   \n",
       "2701264                                              South   \n",
       "2701265                                          Australia   \n",
       "2701266                                     MichelleRamoos   \n",
       "2701267                                              South   \n",
       "2701268                                              South   \n",
       "2701269                                              South   \n",
       "\n",
       "                       Time         Location            Name  Sentiment  \\\n",
       "2701250 2020-04-07 22:54:19              NaN  MelissaSweetDr          1   \n",
       "2701251 2020-04-07 22:54:36              NaN  MelissaSweetDr          0   \n",
       "2701252 2020-04-07 22:55:42              NaN  MelissaSweetDr          0   \n",
       "2701253 2020-04-07 22:55:48        Australia   MaryannWeston          0   \n",
       "2701254 2020-04-07 22:55:49              NaN  MelissaSweetDr          0   \n",
       "2701255 2020-04-07 22:55:54        Australia   MaryannWeston          1   \n",
       "2701256 2020-04-07 22:56:22        Australia      lynlinking          0   \n",
       "2701257 2020-04-07 22:57:34              NaN    Dontkillpunk          1   \n",
       "2701258 2020-04-07 23:04:31        Australia  TheWillowGhost          0   \n",
       "2701259 2020-04-07 23:09:01              NaN        Bugcrowd          1   \n",
       "2701260 2020-04-07 23:13:24        Nerdtania         weezmgk          0   \n",
       "2701261                 NaT      stephen6300             NaN          1   \n",
       "2701262                 NaT      stephen6300             NaN          1   \n",
       "2701263                 NaT      SouthernGeo             NaN          1   \n",
       "2701264                 NaT      stephen6300             NaN          1   \n",
       "2701265                 NaT  KellsOnTheBeach             NaN          1   \n",
       "2701266                 NaT              NaN             NaN          1   \n",
       "2701267                 NaT      stephen6300             NaN          1   \n",
       "2701268                 NaT      stephen6300             NaN          1   \n",
       "2701269                 NaT      stephen6300             NaN          1   \n",
       "\n",
       "          DinY  WinY  MinY  \n",
       "2701250  463.0  67.0  16.0  \n",
       "2701251  463.0  67.0  16.0  \n",
       "2701252  463.0  67.0  16.0  \n",
       "2701253  463.0  67.0  16.0  \n",
       "2701254  463.0  67.0  16.0  \n",
       "2701255  463.0  67.0  16.0  \n",
       "2701256  463.0  67.0  16.0  \n",
       "2701257  463.0  67.0  16.0  \n",
       "2701258  463.0  67.0  16.0  \n",
       "2701259  463.0  67.0  16.0  \n",
       "2701260  463.0  67.0  16.0  \n",
       "2701261    NaN   NaN   NaN  \n",
       "2701262    NaN   NaN   NaN  \n",
       "2701263    NaN   NaN   NaN  \n",
       "2701264    NaN   NaN   NaN  \n",
       "2701265    NaN   NaN   NaN  \n",
       "2701266    NaN   NaN   NaN  \n",
       "2701267    NaN   NaN   NaN  \n",
       "2701268    NaN   NaN   NaN  \n",
       "2701269    NaN   NaN   NaN  "
      ]
     },
     "execution_count": 237,
     "metadata": {},
     "output_type": "execute_result"
    }
   ],
   "source": [
    "df_in.tail(20)"
   ]
  },
  {
   "cell_type": "code",
   "execution_count": 5,
   "metadata": {},
   "outputs": [],
   "source": [
    "df_in['Time'] =pd.to_datetime(df_in['Time'])"
   ]
  },
  {
   "cell_type": "code",
   "execution_count": 6,
   "metadata": {},
   "outputs": [
    {
     "data": {
      "text/html": [
       "<div>\n",
       "<style scoped>\n",
       "    .dataframe tbody tr th:only-of-type {\n",
       "        vertical-align: middle;\n",
       "    }\n",
       "\n",
       "    .dataframe tbody tr th {\n",
       "        vertical-align: top;\n",
       "    }\n",
       "\n",
       "    .dataframe thead th {\n",
       "        text-align: right;\n",
       "    }\n",
       "</style>\n",
       "<table border=\"1\" class=\"dataframe\">\n",
       "  <thead>\n",
       "    <tr style=\"text-align: right;\">\n",
       "      <th></th>\n",
       "      <th>Text</th>\n",
       "      <th>Time</th>\n",
       "      <th>Location</th>\n",
       "      <th>Name</th>\n",
       "      <th>Sentiment</th>\n",
       "      <th>DinY</th>\n",
       "    </tr>\n",
       "  </thead>\n",
       "  <tbody>\n",
       "    <tr>\n",
       "      <th>0</th>\n",
       "      <td>bat sever human cell</td>\n",
       "      <td>2019-11-27 18:52:31</td>\n",
       "      <td>Australia</td>\n",
       "      <td>batpapers</td>\n",
       "      <td>1</td>\n",
       "      <td>331.0</td>\n",
       "    </tr>\n",
       "    <tr>\n",
       "      <th>1</th>\n",
       "      <td>virologist learn spread year later infect peni...</td>\n",
       "      <td>2019-12-05 19:55:24</td>\n",
       "      <td>NaN</td>\n",
       "      <td>tgk3130</td>\n",
       "      <td>0</td>\n",
       "      <td>339.0</td>\n",
       "    </tr>\n",
       "    <tr>\n",
       "      <th>2</th>\n",
       "      <td>remind flu flu think flu actual cold late</td>\n",
       "      <td>2019-12-09 06:21:20</td>\n",
       "      <td>Australia</td>\n",
       "      <td>DidiFrench</td>\n",
       "      <td>0</td>\n",
       "      <td>343.0</td>\n",
       "    </tr>\n",
       "    <tr>\n",
       "      <th>3</th>\n",
       "      <td>outbreak news east</td>\n",
       "      <td>2019-12-26 18:20:06</td>\n",
       "      <td>NaN</td>\n",
       "      <td>katrinamurphyir</td>\n",
       "      <td>0</td>\n",
       "      <td>360.0</td>\n",
       "    </tr>\n",
       "    <tr>\n",
       "      <th>4</th>\n",
       "      <td>detect sort known patient case time winter</td>\n",
       "      <td>2019-12-31 21:35:02</td>\n",
       "      <td>Australia</td>\n",
       "      <td>MackayIM</td>\n",
       "      <td>1</td>\n",
       "      <td>365.0</td>\n",
       "    </tr>\n",
       "  </tbody>\n",
       "</table>\n",
       "</div>"
      ],
      "text/plain": [
       "                                                Text                Time  \\\n",
       "0                               bat sever human cell 2019-11-27 18:52:31   \n",
       "1  virologist learn spread year later infect peni... 2019-12-05 19:55:24   \n",
       "2          remind flu flu think flu actual cold late 2019-12-09 06:21:20   \n",
       "3                                 outbreak news east 2019-12-26 18:20:06   \n",
       "4         detect sort known patient case time winter 2019-12-31 21:35:02   \n",
       "\n",
       "    Location             Name  Sentiment   DinY  \n",
       "0  Australia        batpapers          1  331.0  \n",
       "1        NaN          tgk3130          0  339.0  \n",
       "2  Australia       DidiFrench          0  343.0  \n",
       "3        NaN  katrinamurphyir          0  360.0  \n",
       "4  Australia         MackayIM          1  365.0  "
      ]
     },
     "execution_count": 6,
     "metadata": {},
     "output_type": "execute_result"
    }
   ],
   "source": [
    "df_in['DinY'] = df_in['Time'].dt.dayofyear + (df_in['Time'].dt.year-2019)*365\n",
    "df_in.head()"
   ]
  },
  {
   "cell_type": "code",
   "execution_count": 7,
   "metadata": {},
   "outputs": [
    {
     "data": {
      "text/html": [
       "<div>\n",
       "<style scoped>\n",
       "    .dataframe tbody tr th:only-of-type {\n",
       "        vertical-align: middle;\n",
       "    }\n",
       "\n",
       "    .dataframe tbody tr th {\n",
       "        vertical-align: top;\n",
       "    }\n",
       "\n",
       "    .dataframe thead th {\n",
       "        text-align: right;\n",
       "    }\n",
       "</style>\n",
       "<table border=\"1\" class=\"dataframe\">\n",
       "  <thead>\n",
       "    <tr style=\"text-align: right;\">\n",
       "      <th></th>\n",
       "      <th>Text</th>\n",
       "      <th>Time</th>\n",
       "      <th>Location</th>\n",
       "      <th>Name</th>\n",
       "      <th>Sentiment</th>\n",
       "      <th>DinY</th>\n",
       "      <th>WinY</th>\n",
       "    </tr>\n",
       "  </thead>\n",
       "  <tbody>\n",
       "    <tr>\n",
       "      <th>0</th>\n",
       "      <td>bat sever human cell</td>\n",
       "      <td>2019-11-27 18:52:31</td>\n",
       "      <td>Australia</td>\n",
       "      <td>batpapers</td>\n",
       "      <td>1</td>\n",
       "      <td>331.0</td>\n",
       "      <td>48.0</td>\n",
       "    </tr>\n",
       "    <tr>\n",
       "      <th>1</th>\n",
       "      <td>virologist learn spread year later infect peni...</td>\n",
       "      <td>2019-12-05 19:55:24</td>\n",
       "      <td>NaN</td>\n",
       "      <td>tgk3130</td>\n",
       "      <td>0</td>\n",
       "      <td>339.0</td>\n",
       "      <td>49.0</td>\n",
       "    </tr>\n",
       "    <tr>\n",
       "      <th>2</th>\n",
       "      <td>remind flu flu think flu actual cold late</td>\n",
       "      <td>2019-12-09 06:21:20</td>\n",
       "      <td>Australia</td>\n",
       "      <td>DidiFrench</td>\n",
       "      <td>0</td>\n",
       "      <td>343.0</td>\n",
       "      <td>50.0</td>\n",
       "    </tr>\n",
       "    <tr>\n",
       "      <th>3</th>\n",
       "      <td>outbreak news east</td>\n",
       "      <td>2019-12-26 18:20:06</td>\n",
       "      <td>NaN</td>\n",
       "      <td>katrinamurphyir</td>\n",
       "      <td>0</td>\n",
       "      <td>360.0</td>\n",
       "      <td>52.0</td>\n",
       "    </tr>\n",
       "    <tr>\n",
       "      <th>4</th>\n",
       "      <td>detect sort known patient case time winter</td>\n",
       "      <td>2019-12-31 21:35:02</td>\n",
       "      <td>Australia</td>\n",
       "      <td>MackayIM</td>\n",
       "      <td>1</td>\n",
       "      <td>365.0</td>\n",
       "      <td>1.0</td>\n",
       "    </tr>\n",
       "    <tr>\n",
       "      <th>5</th>\n",
       "      <td>east viral novel east wa</td>\n",
       "      <td>2020-01-01 06:58:55</td>\n",
       "      <td>Saudi</td>\n",
       "      <td>Da5eel</td>\n",
       "      <td>1</td>\n",
       "      <td>366.0</td>\n",
       "      <td>53.0</td>\n",
       "    </tr>\n",
       "    <tr>\n",
       "      <th>6</th>\n",
       "      <td>wait news china talk social media sever ill pa...</td>\n",
       "      <td>2020-01-01 11:07:07</td>\n",
       "      <td>Australia</td>\n",
       "      <td>MackayIM</td>\n",
       "      <td>1</td>\n",
       "      <td>366.0</td>\n",
       "      <td>53.0</td>\n",
       "    </tr>\n",
       "    <tr>\n",
       "      <th>7</th>\n",
       "      <td>purport lab report share medic detect result h...</td>\n",
       "      <td>2020-01-01 15:18:56</td>\n",
       "      <td>NaN</td>\n",
       "      <td>alexandraphelan</td>\n",
       "      <td>0</td>\n",
       "      <td>366.0</td>\n",
       "      <td>53.0</td>\n",
       "    </tr>\n",
       "    <tr>\n",
       "      <th>8</th>\n",
       "      <td>comment genet segment wa detect corona</td>\n",
       "      <td>2020-01-01 21:05:03</td>\n",
       "      <td>Australia</td>\n",
       "      <td>MackayIM</td>\n",
       "      <td>1</td>\n",
       "      <td>366.0</td>\n",
       "      <td>53.0</td>\n",
       "    </tr>\n",
       "    <tr>\n",
       "      <th>9</th>\n",
       "      <td>hong level pneumonia outbreak word sar era aw ...</td>\n",
       "      <td>2020-01-05 05:05:36</td>\n",
       "      <td>Australia</td>\n",
       "      <td>drng</td>\n",
       "      <td>0</td>\n",
       "      <td>370.0</td>\n",
       "      <td>53.0</td>\n",
       "    </tr>\n",
       "  </tbody>\n",
       "</table>\n",
       "</div>"
      ],
      "text/plain": [
       "                                                Text                Time  \\\n",
       "0                               bat sever human cell 2019-11-27 18:52:31   \n",
       "1  virologist learn spread year later infect peni... 2019-12-05 19:55:24   \n",
       "2          remind flu flu think flu actual cold late 2019-12-09 06:21:20   \n",
       "3                                 outbreak news east 2019-12-26 18:20:06   \n",
       "4         detect sort known patient case time winter 2019-12-31 21:35:02   \n",
       "5                           east viral novel east wa 2020-01-01 06:58:55   \n",
       "6  wait news china talk social media sever ill pa... 2020-01-01 11:07:07   \n",
       "7  purport lab report share medic detect result h... 2020-01-01 15:18:56   \n",
       "8             comment genet segment wa detect corona 2020-01-01 21:05:03   \n",
       "9  hong level pneumonia outbreak word sar era aw ... 2020-01-05 05:05:36   \n",
       "\n",
       "    Location             Name  Sentiment   DinY  WinY  \n",
       "0  Australia        batpapers          1  331.0  48.0  \n",
       "1        NaN          tgk3130          0  339.0  49.0  \n",
       "2  Australia       DidiFrench          0  343.0  50.0  \n",
       "3        NaN  katrinamurphyir          0  360.0  52.0  \n",
       "4  Australia         MackayIM          1  365.0   1.0  \n",
       "5      Saudi           Da5eel          1  366.0  53.0  \n",
       "6  Australia         MackayIM          1  366.0  53.0  \n",
       "7        NaN  alexandraphelan          0  366.0  53.0  \n",
       "8  Australia         MackayIM          1  366.0  53.0  \n",
       "9  Australia             drng          0  370.0  53.0  "
      ]
     },
     "execution_count": 7,
     "metadata": {},
     "output_type": "execute_result"
    }
   ],
   "source": [
    "df_in['WinY'] = df_in['Time'].dt.week + (df_in['Time'].dt.year-2019)*52\n",
    "df_in.head(10)"
   ]
  },
  {
   "cell_type": "code",
   "execution_count": 8,
   "metadata": {},
   "outputs": [
    {
     "data": {
      "text/html": [
       "<div>\n",
       "<style scoped>\n",
       "    .dataframe tbody tr th:only-of-type {\n",
       "        vertical-align: middle;\n",
       "    }\n",
       "\n",
       "    .dataframe tbody tr th {\n",
       "        vertical-align: top;\n",
       "    }\n",
       "\n",
       "    .dataframe thead th {\n",
       "        text-align: right;\n",
       "    }\n",
       "</style>\n",
       "<table border=\"1\" class=\"dataframe\">\n",
       "  <thead>\n",
       "    <tr style=\"text-align: right;\">\n",
       "      <th></th>\n",
       "      <th>Text</th>\n",
       "      <th>Time</th>\n",
       "      <th>Location</th>\n",
       "      <th>Name</th>\n",
       "      <th>Sentiment</th>\n",
       "      <th>DinY</th>\n",
       "      <th>WinY</th>\n",
       "      <th>MinY</th>\n",
       "    </tr>\n",
       "  </thead>\n",
       "  <tbody>\n",
       "    <tr>\n",
       "      <th>0</th>\n",
       "      <td>bat sever human cell</td>\n",
       "      <td>2019-11-27 18:52:31</td>\n",
       "      <td>Australia</td>\n",
       "      <td>batpapers</td>\n",
       "      <td>1</td>\n",
       "      <td>331.0</td>\n",
       "      <td>48.0</td>\n",
       "      <td>11.0</td>\n",
       "    </tr>\n",
       "    <tr>\n",
       "      <th>1</th>\n",
       "      <td>virologist learn spread year later infect peni...</td>\n",
       "      <td>2019-12-05 19:55:24</td>\n",
       "      <td>NaN</td>\n",
       "      <td>tgk3130</td>\n",
       "      <td>0</td>\n",
       "      <td>339.0</td>\n",
       "      <td>49.0</td>\n",
       "      <td>12.0</td>\n",
       "    </tr>\n",
       "    <tr>\n",
       "      <th>2</th>\n",
       "      <td>remind flu flu think flu actual cold late</td>\n",
       "      <td>2019-12-09 06:21:20</td>\n",
       "      <td>Australia</td>\n",
       "      <td>DidiFrench</td>\n",
       "      <td>0</td>\n",
       "      <td>343.0</td>\n",
       "      <td>50.0</td>\n",
       "      <td>12.0</td>\n",
       "    </tr>\n",
       "    <tr>\n",
       "      <th>3</th>\n",
       "      <td>outbreak news east</td>\n",
       "      <td>2019-12-26 18:20:06</td>\n",
       "      <td>NaN</td>\n",
       "      <td>katrinamurphyir</td>\n",
       "      <td>0</td>\n",
       "      <td>360.0</td>\n",
       "      <td>52.0</td>\n",
       "      <td>12.0</td>\n",
       "    </tr>\n",
       "    <tr>\n",
       "      <th>4</th>\n",
       "      <td>detect sort known patient case time winter</td>\n",
       "      <td>2019-12-31 21:35:02</td>\n",
       "      <td>Australia</td>\n",
       "      <td>MackayIM</td>\n",
       "      <td>1</td>\n",
       "      <td>365.0</td>\n",
       "      <td>1.0</td>\n",
       "      <td>12.0</td>\n",
       "    </tr>\n",
       "    <tr>\n",
       "      <th>5</th>\n",
       "      <td>east viral novel east wa</td>\n",
       "      <td>2020-01-01 06:58:55</td>\n",
       "      <td>Saudi</td>\n",
       "      <td>Da5eel</td>\n",
       "      <td>1</td>\n",
       "      <td>366.0</td>\n",
       "      <td>53.0</td>\n",
       "      <td>13.0</td>\n",
       "    </tr>\n",
       "    <tr>\n",
       "      <th>6</th>\n",
       "      <td>wait news china talk social media sever ill pa...</td>\n",
       "      <td>2020-01-01 11:07:07</td>\n",
       "      <td>Australia</td>\n",
       "      <td>MackayIM</td>\n",
       "      <td>1</td>\n",
       "      <td>366.0</td>\n",
       "      <td>53.0</td>\n",
       "      <td>13.0</td>\n",
       "    </tr>\n",
       "    <tr>\n",
       "      <th>7</th>\n",
       "      <td>purport lab report share medic detect result h...</td>\n",
       "      <td>2020-01-01 15:18:56</td>\n",
       "      <td>NaN</td>\n",
       "      <td>alexandraphelan</td>\n",
       "      <td>0</td>\n",
       "      <td>366.0</td>\n",
       "      <td>53.0</td>\n",
       "      <td>13.0</td>\n",
       "    </tr>\n",
       "    <tr>\n",
       "      <th>8</th>\n",
       "      <td>comment genet segment wa detect corona</td>\n",
       "      <td>2020-01-01 21:05:03</td>\n",
       "      <td>Australia</td>\n",
       "      <td>MackayIM</td>\n",
       "      <td>1</td>\n",
       "      <td>366.0</td>\n",
       "      <td>53.0</td>\n",
       "      <td>13.0</td>\n",
       "    </tr>\n",
       "    <tr>\n",
       "      <th>9</th>\n",
       "      <td>hong level pneumonia outbreak word sar era aw ...</td>\n",
       "      <td>2020-01-05 05:05:36</td>\n",
       "      <td>Australia</td>\n",
       "      <td>drng</td>\n",
       "      <td>0</td>\n",
       "      <td>370.0</td>\n",
       "      <td>53.0</td>\n",
       "      <td>13.0</td>\n",
       "    </tr>\n",
       "  </tbody>\n",
       "</table>\n",
       "</div>"
      ],
      "text/plain": [
       "                                                Text                Time  \\\n",
       "0                               bat sever human cell 2019-11-27 18:52:31   \n",
       "1  virologist learn spread year later infect peni... 2019-12-05 19:55:24   \n",
       "2          remind flu flu think flu actual cold late 2019-12-09 06:21:20   \n",
       "3                                 outbreak news east 2019-12-26 18:20:06   \n",
       "4         detect sort known patient case time winter 2019-12-31 21:35:02   \n",
       "5                           east viral novel east wa 2020-01-01 06:58:55   \n",
       "6  wait news china talk social media sever ill pa... 2020-01-01 11:07:07   \n",
       "7  purport lab report share medic detect result h... 2020-01-01 15:18:56   \n",
       "8             comment genet segment wa detect corona 2020-01-01 21:05:03   \n",
       "9  hong level pneumonia outbreak word sar era aw ... 2020-01-05 05:05:36   \n",
       "\n",
       "    Location             Name  Sentiment   DinY  WinY  MinY  \n",
       "0  Australia        batpapers          1  331.0  48.0  11.0  \n",
       "1        NaN          tgk3130          0  339.0  49.0  12.0  \n",
       "2  Australia       DidiFrench          0  343.0  50.0  12.0  \n",
       "3        NaN  katrinamurphyir          0  360.0  52.0  12.0  \n",
       "4  Australia         MackayIM          1  365.0   1.0  12.0  \n",
       "5      Saudi           Da5eel          1  366.0  53.0  13.0  \n",
       "6  Australia         MackayIM          1  366.0  53.0  13.0  \n",
       "7        NaN  alexandraphelan          0  366.0  53.0  13.0  \n",
       "8  Australia         MackayIM          1  366.0  53.0  13.0  \n",
       "9  Australia             drng          0  370.0  53.0  13.0  "
      ]
     },
     "execution_count": 8,
     "metadata": {},
     "output_type": "execute_result"
    }
   ],
   "source": [
    "df_in['MinY'] = df_in['Time'].dt.month + (df_in['Time'].dt.year-2019)*12\n",
    "df_in.head(10)"
   ]
  },
  {
   "cell_type": "code",
   "execution_count": 10,
   "metadata": {},
   "outputs": [],
   "source": [
    "df_in.drop( df_in[df_in['WinY'] == 1].index , inplace=True)"
   ]
  },
  {
   "cell_type": "code",
   "execution_count": 232,
   "metadata": {},
   "outputs": [],
   "source": [
    "df_in.to_csv(BASE_UNLABELLED+'au_tweet_sentiment_fe.csv', index=None, encoding='utf8')"
   ]
  },
  {
   "cell_type": "code",
   "execution_count": 9,
   "metadata": {},
   "outputs": [],
   "source": [
    "import matplotlib.pyplot as plt"
   ]
  },
  {
   "cell_type": "code",
   "execution_count": null,
   "metadata": {},
   "outputs": [],
   "source": [
    "tempo = 'DinY'\n",
    "sizes = df_in.groupby(tempo).Sentiment.size()\n",
    "maxi = max(sizes)\n",
    "plt.plot(df_in.groupby(tempo).Sentiment.size()/maxi)\n",
    "plt.plot(df_in.groupby(tempo).Sentiment.sum()/maxi)\n",
    "plt.plot(df_in.groupby(tempo).Sentiment.sum()/sizes)\n",
    "plt.ylabel('Sentiment')\n",
    "plt.xlabel('Day')\n",
    "plt.legend(['Total', 'Positive', 'Positive%'])\n",
    "plt.show()"
   ]
  },
  {
   "cell_type": "code",
   "execution_count": 238,
   "metadata": {},
   "outputs": [
    {
     "data": {
      "image/png": "[encoded data removed]",
      "text/plain": [
       "<Figure size 432x288 with 1 Axes>"
      ]
     },
     "metadata": {
      "needs_background": "light"
     },
     "output_type": "display_data"
    }
   ],
   "source": [
    "tempo = 'WinY'\n",
    "sizes = df_in.groupby(tempo).Sentiment.size()\n",
    "maxi = max(sizes)\n",
    "plt.plot(df_in.groupby(tempo).Sentiment.size()/maxi)\n",
    "plt.plot(df_in.groupby(tempo).Sentiment.sum()/maxi)\n",
    "plt.plot(df_in.groupby(tempo).Sentiment.sum()/sizes)\n",
    "plt.ylabel('Sentiment')\n",
    "plt.xlabel('Week')\n",
    "plt.legend(['Total', 'Positive', 'Positive%'])\n",
    "plt.show()"
   ]
  },
  {
   "cell_type": "code",
   "execution_count": null,
   "metadata": {},
   "outputs": [],
   "source": [
    "tempo = 'MinY'\n",
    "sizes = df_in.groupby(tempo).Sentiment.size()\n",
    "maxi = max(sizes)\n",
    "plt.plot(df_in.groupby(tempo).Sentiment.size()/maxi)\n",
    "plt.plot(df_in.groupby(tempo).Sentiment.sum()/maxi)\n",
    "plt.plot(df_in.groupby(tempo).Sentiment.sum()/sizes)\n",
    "plt.ylabel('Sentiment')\n",
    "plt.xlabel('Month')\n",
    "plt.legend(['Total', 'Positive', 'Positive%'])\n",
    "plt.show()"
   ]
  },
  {
   "cell_type": "code",
   "execution_count": null,
   "metadata": {},
   "outputs": [],
   "source": [
    "df_in[(df_in['MinY']>12) & (df_in['MinY']<14)]"
   ]
  },
  {
   "cell_type": "code",
   "execution_count": 11,
   "metadata": {},
   "outputs": [
    {
     "data": {
      "text/html": [
       "<div>\n",
       "<style scoped>\n",
       "    .dataframe tbody tr th:only-of-type {\n",
       "        vertical-align: middle;\n",
       "    }\n",
       "\n",
       "    .dataframe tbody tr th {\n",
       "        vertical-align: top;\n",
       "    }\n",
       "\n",
       "    .dataframe thead th {\n",
       "        text-align: right;\n",
       "    }\n",
       "</style>\n",
       "<table border=\"1\" class=\"dataframe\">\n",
       "  <thead>\n",
       "    <tr style=\"text-align: right;\">\n",
       "      <th></th>\n",
       "      <th>Text</th>\n",
       "      <th>Time</th>\n",
       "      <th>Location</th>\n",
       "      <th>Name</th>\n",
       "      <th>Sentiment</th>\n",
       "      <th>DinY</th>\n",
       "      <th>WinY</th>\n",
       "      <th>MinY</th>\n",
       "    </tr>\n",
       "  </thead>\n",
       "  <tbody>\n",
       "    <tr>\n",
       "      <th>0</th>\n",
       "      <td>bat sever human cell</td>\n",
       "      <td>2019-11-27 18:52:31</td>\n",
       "      <td>Australia</td>\n",
       "      <td>batpapers</td>\n",
       "      <td>1</td>\n",
       "      <td>331.0</td>\n",
       "      <td>48.0</td>\n",
       "      <td>11.0</td>\n",
       "    </tr>\n",
       "    <tr>\n",
       "      <th>2</th>\n",
       "      <td>remind flu flu think flu actual cold late</td>\n",
       "      <td>2019-12-09 06:21:20</td>\n",
       "      <td>Australia</td>\n",
       "      <td>DidiFrench</td>\n",
       "      <td>0</td>\n",
       "      <td>343.0</td>\n",
       "      <td>50.0</td>\n",
       "      <td>12.0</td>\n",
       "    </tr>\n",
       "    <tr>\n",
       "      <th>5</th>\n",
       "      <td>east viral novel east wa</td>\n",
       "      <td>2020-01-01 06:58:55</td>\n",
       "      <td>Saudi</td>\n",
       "      <td>Da5eel</td>\n",
       "      <td>1</td>\n",
       "      <td>366.0</td>\n",
       "      <td>53.0</td>\n",
       "      <td>13.0</td>\n",
       "    </tr>\n",
       "    <tr>\n",
       "      <th>6</th>\n",
       "      <td>wait news china talk social media sever ill pa...</td>\n",
       "      <td>2020-01-01 11:07:07</td>\n",
       "      <td>Australia</td>\n",
       "      <td>MackayIM</td>\n",
       "      <td>1</td>\n",
       "      <td>366.0</td>\n",
       "      <td>53.0</td>\n",
       "      <td>13.0</td>\n",
       "    </tr>\n",
       "    <tr>\n",
       "      <th>8</th>\n",
       "      <td>comment genet segment wa detect corona</td>\n",
       "      <td>2020-01-01 21:05:03</td>\n",
       "      <td>Australia</td>\n",
       "      <td>MackayIM</td>\n",
       "      <td>1</td>\n",
       "      <td>366.0</td>\n",
       "      <td>53.0</td>\n",
       "      <td>13.0</td>\n",
       "    </tr>\n",
       "    <tr>\n",
       "      <th>9</th>\n",
       "      <td>hong level pneumonia outbreak word sar era aw ...</td>\n",
       "      <td>2020-01-05 05:05:36</td>\n",
       "      <td>Australia</td>\n",
       "      <td>drng</td>\n",
       "      <td>0</td>\n",
       "      <td>370.0</td>\n",
       "      <td>53.0</td>\n",
       "      <td>13.0</td>\n",
       "    </tr>\n",
       "    <tr>\n",
       "      <th>12</th>\n",
       "      <td>report link novel pneumonia cluster</td>\n",
       "      <td>2020-01-08 14:47:51</td>\n",
       "      <td>Australia</td>\n",
       "      <td>MackayIM</td>\n",
       "      <td>0</td>\n",
       "      <td>373.0</td>\n",
       "      <td>54.0</td>\n",
       "      <td>13.0</td>\n",
       "    </tr>\n",
       "    <tr>\n",
       "      <th>13</th>\n",
       "      <td>A new thought live probabl mammal urban environ</td>\n",
       "      <td>2020-01-08 15:05:10</td>\n",
       "      <td>Australia</td>\n",
       "      <td>MackayIM</td>\n",
       "      <td>1</td>\n",
       "      <td>373.0</td>\n",
       "      <td>54.0</td>\n",
       "      <td>13.0</td>\n",
       "    </tr>\n",
       "    <tr>\n",
       "      <th>15</th>\n",
       "      <td>accord news report bat jump host pass human co...</td>\n",
       "      <td>2020-01-08 16:18:50</td>\n",
       "      <td>Saudi</td>\n",
       "      <td>AhmedShehrii</td>\n",
       "      <td>1</td>\n",
       "      <td>373.0</td>\n",
       "      <td>54.0</td>\n",
       "      <td>13.0</td>\n",
       "    </tr>\n",
       "    <tr>\n",
       "      <th>16</th>\n",
       "      <td>china novel found patient</td>\n",
       "      <td>2020-01-08 18:43:29</td>\n",
       "      <td>Canberra</td>\n",
       "      <td>Virologica</td>\n",
       "      <td>1</td>\n",
       "      <td>373.0</td>\n",
       "      <td>54.0</td>\n",
       "      <td>13.0</td>\n",
       "    </tr>\n",
       "  </tbody>\n",
       "</table>\n",
       "</div>"
      ],
      "text/plain": [
       "                                                 Text                Time  \\\n",
       "0                                bat sever human cell 2019-11-27 18:52:31   \n",
       "2           remind flu flu think flu actual cold late 2019-12-09 06:21:20   \n",
       "5                            east viral novel east wa 2020-01-01 06:58:55   \n",
       "6   wait news china talk social media sever ill pa... 2020-01-01 11:07:07   \n",
       "8              comment genet segment wa detect corona 2020-01-01 21:05:03   \n",
       "9   hong level pneumonia outbreak word sar era aw ... 2020-01-05 05:05:36   \n",
       "12                report link novel pneumonia cluster 2020-01-08 14:47:51   \n",
       "13    A new thought live probabl mammal urban environ 2020-01-08 15:05:10   \n",
       "15  accord news report bat jump host pass human co... 2020-01-08 16:18:50   \n",
       "16                          china novel found patient 2020-01-08 18:43:29   \n",
       "\n",
       "     Location          Name  Sentiment   DinY  WinY  MinY  \n",
       "0   Australia     batpapers          1  331.0  48.0  11.0  \n",
       "2   Australia    DidiFrench          0  343.0  50.0  12.0  \n",
       "5       Saudi        Da5eel          1  366.0  53.0  13.0  \n",
       "6   Australia      MackayIM          1  366.0  53.0  13.0  \n",
       "8   Australia      MackayIM          1  366.0  53.0  13.0  \n",
       "9   Australia          drng          0  370.0  53.0  13.0  \n",
       "12  Australia      MackayIM          0  373.0  54.0  13.0  \n",
       "13  Australia      MackayIM          1  373.0  54.0  13.0  \n",
       "15      Saudi  AhmedShehrii          1  373.0  54.0  13.0  \n",
       "16   Canberra    Virologica          1  373.0  54.0  13.0  "
      ]
     },
     "execution_count": 11,
     "metadata": {},
     "output_type": "execute_result"
    }
   ],
   "source": [
    "df_in2 = df_in.drop(df_in[df_in['Location'].isna()].index)\n",
    "df_in2.head(10)"
   ]
  },
  {
   "cell_type": "code",
   "execution_count": 12,
   "metadata": {},
   "outputs": [],
   "source": [
    "locs = [loc.lower() for loc in list(df_in2['Location'])]"
   ]
  },
  {
   "cell_type": "code",
   "execution_count": 13,
   "metadata": {},
   "outputs": [],
   "source": [
    "loc2nic = {'australia':'au',\n",
    "           'oceania':'au',\n",
    "           'oz':'au',\n",
    "           'australian capital territory':'act',\n",
    "           'new south wales':'nsw',\n",
    "           'northern territory':'nt',\n",
    "           'queensland':'qld',\n",
    "           'south australia':'sa',\n",
    "           'tasmania':'tas',\n",
    "           'victoria':'vic',\n",
    "           'victoria.':'vic',\n",
    "           'western australia':'wa',\n",
    "           'sydney':'syd',\n",
    "           'brisbane':'bne',\n",
    "           'adelaide':'ald',\n",
    "           'hobart':'ymhb',\n",
    "           'melbourne':'mel',\n",
    "           'perth':'per',\n",
    "           'canberra':'can'}"
   ]
  },
  {
   "cell_type": "code",
   "execution_count": 14,
   "metadata": {},
   "outputs": [],
   "source": [
    "for i, loc in enumerate(locs):\n",
    "    if loc in loc2nic.keys():\n",
    "        locs[i] = loc2nic[loc]"
   ]
  },
  {
   "cell_type": "code",
   "execution_count": 15,
   "metadata": {},
   "outputs": [],
   "source": [
    "for i, loc in enumerate(locs):\n",
    "    if loc not in loc2nic.values():\n",
    "        locs[i] = 'oth'"
   ]
  },
  {
   "cell_type": "code",
   "execution_count": 16,
   "metadata": {},
   "outputs": [
    {
     "data": {
      "text/plain": [
       "{'ald',\n",
       " 'au',\n",
       " 'bne',\n",
       " 'can',\n",
       " 'mel',\n",
       " 'nsw',\n",
       " 'oth',\n",
       " 'per',\n",
       " 'qld',\n",
       " 'syd',\n",
       " 'tas',\n",
       " 'vic',\n",
       " 'ymhb'}"
      ]
     },
     "execution_count": 16,
     "metadata": {},
     "output_type": "execute_result"
    }
   ],
   "source": [
    "set(locs)"
   ]
  },
  {
   "cell_type": "code",
   "execution_count": 17,
   "metadata": {},
   "outputs": [],
   "source": [
    "df_in2['Location'] = locs"
   ]
  },
  {
   "cell_type": "code",
   "execution_count": 18,
   "metadata": {},
   "outputs": [],
   "source": [
    "loc2frq = {}\n",
    "for loc in locs:\n",
    "    if loc in loc2frq.keys():\n",
    "        loc2frq[loc] += 1\n",
    "    else:\n",
    "        loc2frq[loc] = 1\n",
    "#loc2id"
   ]
  },
  {
   "cell_type": "code",
   "execution_count": 19,
   "metadata": {},
   "outputs": [],
   "source": [
    "loc2frq = {k:v for k,v in sorted(loc2frq.items(), key=lambda item: item[1], reverse=True)}"
   ]
  },
  {
   "cell_type": "code",
   "execution_count": 26,
   "metadata": {},
   "outputs": [
    {
     "data": {
      "image/png": "[encoded data removed]",
      "text/plain": [
       "<Figure size 432x288 with 1 Axes>"
      ]
     },
     "metadata": {
      "needs_background": "light"
     },
     "output_type": "display_data"
    }
   ],
   "source": [
    "plt.bar(list(loc2frq.keys()), list(loc2frq.values()))\n",
    "plt.ylabel('Tweet Count')\n",
    "plt.xlabel('Location')\n",
    "plt.show()"
   ]
  },
  {
   "cell_type": "code",
   "execution_count": 27,
   "metadata": {},
   "outputs": [
    {
     "data": {
      "text/html": [
       "<div>\n",
       "<style scoped>\n",
       "    .dataframe tbody tr th:only-of-type {\n",
       "        vertical-align: middle;\n",
       "    }\n",
       "\n",
       "    .dataframe tbody tr th {\n",
       "        vertical-align: top;\n",
       "    }\n",
       "\n",
       "    .dataframe thead th {\n",
       "        text-align: right;\n",
       "    }\n",
       "</style>\n",
       "<table border=\"1\" class=\"dataframe\">\n",
       "  <thead>\n",
       "    <tr style=\"text-align: right;\">\n",
       "      <th></th>\n",
       "      <th>Text</th>\n",
       "      <th>Time</th>\n",
       "      <th>Location</th>\n",
       "      <th>Name</th>\n",
       "      <th>Sentiment</th>\n",
       "      <th>DinY</th>\n",
       "      <th>WinY</th>\n",
       "      <th>MinY</th>\n",
       "    </tr>\n",
       "  </thead>\n",
       "  <tbody>\n",
       "    <tr>\n",
       "      <th>0</th>\n",
       "      <td>bat sever human cell</td>\n",
       "      <td>2019-11-27 18:52:31</td>\n",
       "      <td>au</td>\n",
       "      <td>batpapers</td>\n",
       "      <td>1</td>\n",
       "      <td>331.0</td>\n",
       "      <td>48.0</td>\n",
       "      <td>11.0</td>\n",
       "    </tr>\n",
       "    <tr>\n",
       "      <th>2</th>\n",
       "      <td>remind flu flu think flu actual cold late</td>\n",
       "      <td>2019-12-09 06:21:20</td>\n",
       "      <td>au</td>\n",
       "      <td>DidiFrench</td>\n",
       "      <td>0</td>\n",
       "      <td>343.0</td>\n",
       "      <td>50.0</td>\n",
       "      <td>12.0</td>\n",
       "    </tr>\n",
       "    <tr>\n",
       "      <th>5</th>\n",
       "      <td>east viral novel east wa</td>\n",
       "      <td>2020-01-01 06:58:55</td>\n",
       "      <td>oth</td>\n",
       "      <td>Da5eel</td>\n",
       "      <td>1</td>\n",
       "      <td>366.0</td>\n",
       "      <td>53.0</td>\n",
       "      <td>13.0</td>\n",
       "    </tr>\n",
       "    <tr>\n",
       "      <th>6</th>\n",
       "      <td>wait news china talk social media sever ill pa...</td>\n",
       "      <td>2020-01-01 11:07:07</td>\n",
       "      <td>au</td>\n",
       "      <td>MackayIM</td>\n",
       "      <td>1</td>\n",
       "      <td>366.0</td>\n",
       "      <td>53.0</td>\n",
       "      <td>13.0</td>\n",
       "    </tr>\n",
       "    <tr>\n",
       "      <th>8</th>\n",
       "      <td>comment genet segment wa detect corona</td>\n",
       "      <td>2020-01-01 21:05:03</td>\n",
       "      <td>au</td>\n",
       "      <td>MackayIM</td>\n",
       "      <td>1</td>\n",
       "      <td>366.0</td>\n",
       "      <td>53.0</td>\n",
       "      <td>13.0</td>\n",
       "    </tr>\n",
       "  </tbody>\n",
       "</table>\n",
       "</div>"
      ],
      "text/plain": [
       "                                                Text                Time  \\\n",
       "0                               bat sever human cell 2019-11-27 18:52:31   \n",
       "2          remind flu flu think flu actual cold late 2019-12-09 06:21:20   \n",
       "5                           east viral novel east wa 2020-01-01 06:58:55   \n",
       "6  wait news china talk social media sever ill pa... 2020-01-01 11:07:07   \n",
       "8             comment genet segment wa detect corona 2020-01-01 21:05:03   \n",
       "\n",
       "  Location        Name  Sentiment   DinY  WinY  MinY  \n",
       "0       au   batpapers          1  331.0  48.0  11.0  \n",
       "2       au  DidiFrench          0  343.0  50.0  12.0  \n",
       "5      oth      Da5eel          1  366.0  53.0  13.0  \n",
       "6       au    MackayIM          1  366.0  53.0  13.0  \n",
       "8       au    MackayIM          1  366.0  53.0  13.0  "
      ]
     },
     "execution_count": 27,
     "metadata": {},
     "output_type": "execute_result"
    }
   ],
   "source": [
    "df_in2.head()"
   ]
  },
  {
   "cell_type": "code",
   "execution_count": 40,
   "metadata": {},
   "outputs": [
    {
     "data": {
      "text/html": [
       "<div>\n",
       "<style scoped>\n",
       "    .dataframe tbody tr th:only-of-type {\n",
       "        vertical-align: middle;\n",
       "    }\n",
       "\n",
       "    .dataframe tbody tr th {\n",
       "        vertical-align: top;\n",
       "    }\n",
       "\n",
       "    .dataframe thead th {\n",
       "        text-align: right;\n",
       "    }\n",
       "</style>\n",
       "<table border=\"1\" class=\"dataframe\">\n",
       "  <thead>\n",
       "    <tr style=\"text-align: right;\">\n",
       "      <th></th>\n",
       "      <th>Location</th>\n",
       "      <th>ptv_senti</th>\n",
       "    </tr>\n",
       "  </thead>\n",
       "  <tbody>\n",
       "    <tr>\n",
       "      <th>0</th>\n",
       "      <td>ald</td>\n",
       "      <td>4265</td>\n",
       "    </tr>\n",
       "    <tr>\n",
       "      <th>1</th>\n",
       "      <td>au</td>\n",
       "      <td>402975</td>\n",
       "    </tr>\n",
       "    <tr>\n",
       "      <th>2</th>\n",
       "      <td>bne</td>\n",
       "      <td>3423</td>\n",
       "    </tr>\n",
       "    <tr>\n",
       "      <th>3</th>\n",
       "      <td>can</td>\n",
       "      <td>20442</td>\n",
       "    </tr>\n",
       "    <tr>\n",
       "      <th>4</th>\n",
       "      <td>mel</td>\n",
       "      <td>53213</td>\n",
       "    </tr>\n",
       "    <tr>\n",
       "      <th>5</th>\n",
       "      <td>nsw</td>\n",
       "      <td>91</td>\n",
       "    </tr>\n",
       "    <tr>\n",
       "      <th>6</th>\n",
       "      <td>oth</td>\n",
       "      <td>216792</td>\n",
       "    </tr>\n",
       "    <tr>\n",
       "      <th>7</th>\n",
       "      <td>per</td>\n",
       "      <td>12251</td>\n",
       "    </tr>\n",
       "    <tr>\n",
       "      <th>8</th>\n",
       "      <td>qld</td>\n",
       "      <td>33908</td>\n",
       "    </tr>\n",
       "    <tr>\n",
       "      <th>9</th>\n",
       "      <td>syd</td>\n",
       "      <td>69189</td>\n",
       "    </tr>\n",
       "    <tr>\n",
       "      <th>10</th>\n",
       "      <td>tas</td>\n",
       "      <td>6228</td>\n",
       "    </tr>\n",
       "    <tr>\n",
       "      <th>11</th>\n",
       "      <td>vic</td>\n",
       "      <td>41226</td>\n",
       "    </tr>\n",
       "    <tr>\n",
       "      <th>12</th>\n",
       "      <td>ymhb</td>\n",
       "      <td>1605</td>\n",
       "    </tr>\n",
       "  </tbody>\n",
       "</table>\n",
       "</div>"
      ],
      "text/plain": [
       "   Location  ptv_senti\n",
       "0       ald       4265\n",
       "1        au     402975\n",
       "2       bne       3423\n",
       "3       can      20442\n",
       "4       mel      53213\n",
       "5       nsw         91\n",
       "6       oth     216792\n",
       "7       per      12251\n",
       "8       qld      33908\n",
       "9       syd      69189\n",
       "10      tas       6228\n",
       "11      vic      41226\n",
       "12     ymhb       1605"
      ]
     },
     "execution_count": 40,
     "metadata": {},
     "output_type": "execute_result"
    }
   ],
   "source": [
    "df_sentiment = df_in2.groupby(['Location'])['Sentiment'].sum().to_frame(name='ptv_senti').reset_index()\n",
    "df_sentiment"
   ]
  },
  {
   "cell_type": "code",
   "execution_count": 44,
   "metadata": {},
   "outputs": [
    {
     "data": {
      "text/html": [
       "<div>\n",
       "<style scoped>\n",
       "    .dataframe tbody tr th:only-of-type {\n",
       "        vertical-align: middle;\n",
       "    }\n",
       "\n",
       "    .dataframe tbody tr th {\n",
       "        vertical-align: top;\n",
       "    }\n",
       "\n",
       "    .dataframe thead th {\n",
       "        text-align: right;\n",
       "    }\n",
       "</style>\n",
       "<table border=\"1\" class=\"dataframe\">\n",
       "  <thead>\n",
       "    <tr style=\"text-align: right;\">\n",
       "      <th></th>\n",
       "      <th>Location</th>\n",
       "      <th>Count</th>\n",
       "    </tr>\n",
       "  </thead>\n",
       "  <tbody>\n",
       "    <tr>\n",
       "      <th>0</th>\n",
       "      <td>ald</td>\n",
       "      <td>8484</td>\n",
       "    </tr>\n",
       "    <tr>\n",
       "      <th>1</th>\n",
       "      <td>au</td>\n",
       "      <td>769214</td>\n",
       "    </tr>\n",
       "    <tr>\n",
       "      <th>2</th>\n",
       "      <td>bne</td>\n",
       "      <td>6432</td>\n",
       "    </tr>\n",
       "    <tr>\n",
       "      <th>3</th>\n",
       "      <td>can</td>\n",
       "      <td>38311</td>\n",
       "    </tr>\n",
       "    <tr>\n",
       "      <th>4</th>\n",
       "      <td>mel</td>\n",
       "      <td>100236</td>\n",
       "    </tr>\n",
       "    <tr>\n",
       "      <th>5</th>\n",
       "      <td>nsw</td>\n",
       "      <td>172</td>\n",
       "    </tr>\n",
       "    <tr>\n",
       "      <th>6</th>\n",
       "      <td>oth</td>\n",
       "      <td>410464</td>\n",
       "    </tr>\n",
       "    <tr>\n",
       "      <th>7</th>\n",
       "      <td>per</td>\n",
       "      <td>23861</td>\n",
       "    </tr>\n",
       "    <tr>\n",
       "      <th>8</th>\n",
       "      <td>qld</td>\n",
       "      <td>64206</td>\n",
       "    </tr>\n",
       "    <tr>\n",
       "      <th>9</th>\n",
       "      <td>syd</td>\n",
       "      <td>130240</td>\n",
       "    </tr>\n",
       "    <tr>\n",
       "      <th>10</th>\n",
       "      <td>tas</td>\n",
       "      <td>11895</td>\n",
       "    </tr>\n",
       "    <tr>\n",
       "      <th>11</th>\n",
       "      <td>vic</td>\n",
       "      <td>78128</td>\n",
       "    </tr>\n",
       "    <tr>\n",
       "      <th>12</th>\n",
       "      <td>ymhb</td>\n",
       "      <td>3139</td>\n",
       "    </tr>\n",
       "  </tbody>\n",
       "</table>\n",
       "</div>"
      ],
      "text/plain": [
       "   Location   Count\n",
       "0       ald    8484\n",
       "1        au  769214\n",
       "2       bne    6432\n",
       "3       can   38311\n",
       "4       mel  100236\n",
       "5       nsw     172\n",
       "6       oth  410464\n",
       "7       per   23861\n",
       "8       qld   64206\n",
       "9       syd  130240\n",
       "10      tas   11895\n",
       "11      vic   78128\n",
       "12     ymhb    3139"
      ]
     },
     "execution_count": 44,
     "metadata": {},
     "output_type": "execute_result"
    }
   ],
   "source": [
    "df_count = df_in2.groupby(['Location'])['Sentiment'].size().to_frame(name='Count').reset_index()\n",
    "df_count"
   ]
  },
  {
   "cell_type": "code",
   "execution_count": 257,
   "metadata": {
    "scrolled": true
   },
   "outputs": [
    {
     "data": {
      "image/png": "[encoded data removed]",
      "text/plain": [
       "<Figure size 432x288 with 1 Axes>"
      ]
     },
     "metadata": {
      "needs_background": "light"
     },
     "output_type": "display_data"
    }
   ],
   "source": [
    "maxi = max(df_count['Count'])\n",
    "plt.scatter(list(df_sentiment['Location']), df_sentiment['ptv_senti'])\n",
    "plt.scatter(list(df_sentiment['Location']), df_count['Count'])\n",
    "plt.ylabel('Sentiment')\n",
    "plt.xlabel('Location')\n",
    "plt.legend(['Positive', 'Total'])\n",
    "plt.show()"
   ]
  },
  {
   "cell_type": "code",
   "execution_count": 145,
   "metadata": {},
   "outputs": [
    {
     "data": {
      "text/html": [
       "<div>\n",
       "<style scoped>\n",
       "    .dataframe tbody tr th:only-of-type {\n",
       "        vertical-align: middle;\n",
       "    }\n",
       "\n",
       "    .dataframe tbody tr th {\n",
       "        vertical-align: top;\n",
       "    }\n",
       "\n",
       "    .dataframe thead th {\n",
       "        text-align: right;\n",
       "    }\n",
       "</style>\n",
       "<table border=\"1\" class=\"dataframe\">\n",
       "  <thead>\n",
       "    <tr style=\"text-align: right;\">\n",
       "      <th></th>\n",
       "      <th>WinY</th>\n",
       "      <th>ptv_senti</th>\n",
       "    </tr>\n",
       "  </thead>\n",
       "  <tbody>\n",
       "    <tr>\n",
       "      <th>0</th>\n",
       "      <td>48.0</td>\n",
       "      <td>1</td>\n",
       "    </tr>\n",
       "    <tr>\n",
       "      <th>1</th>\n",
       "      <td>50.0</td>\n",
       "      <td>0</td>\n",
       "    </tr>\n",
       "    <tr>\n",
       "      <th>2</th>\n",
       "      <td>53.0</td>\n",
       "      <td>3</td>\n",
       "    </tr>\n",
       "    <tr>\n",
       "      <th>3</th>\n",
       "      <td>54.0</td>\n",
       "      <td>56</td>\n",
       "    </tr>\n",
       "    <tr>\n",
       "      <th>4</th>\n",
       "      <td>55.0</td>\n",
       "      <td>215</td>\n",
       "    </tr>\n",
       "    <tr>\n",
       "      <th>5</th>\n",
       "      <td>56.0</td>\n",
       "      <td>9745</td>\n",
       "    </tr>\n",
       "    <tr>\n",
       "      <th>6</th>\n",
       "      <td>57.0</td>\n",
       "      <td>23443</td>\n",
       "    </tr>\n",
       "    <tr>\n",
       "      <th>7</th>\n",
       "      <td>58.0</td>\n",
       "      <td>12763</td>\n",
       "    </tr>\n",
       "    <tr>\n",
       "      <th>8</th>\n",
       "      <td>59.0</td>\n",
       "      <td>10477</td>\n",
       "    </tr>\n",
       "    <tr>\n",
       "      <th>9</th>\n",
       "      <td>60.0</td>\n",
       "      <td>9462</td>\n",
       "    </tr>\n",
       "    <tr>\n",
       "      <th>10</th>\n",
       "      <td>61.0</td>\n",
       "      <td>31694</td>\n",
       "    </tr>\n",
       "    <tr>\n",
       "      <th>11</th>\n",
       "      <td>62.0</td>\n",
       "      <td>53659</td>\n",
       "    </tr>\n",
       "    <tr>\n",
       "      <th>12</th>\n",
       "      <td>63.0</td>\n",
       "      <td>160477</td>\n",
       "    </tr>\n",
       "    <tr>\n",
       "      <th>13</th>\n",
       "      <td>64.0</td>\n",
       "      <td>205904</td>\n",
       "    </tr>\n",
       "    <tr>\n",
       "      <th>14</th>\n",
       "      <td>65.0</td>\n",
       "      <td>186346</td>\n",
       "    </tr>\n",
       "    <tr>\n",
       "      <th>15</th>\n",
       "      <td>66.0</td>\n",
       "      <td>139677</td>\n",
       "    </tr>\n",
       "    <tr>\n",
       "      <th>16</th>\n",
       "      <td>67.0</td>\n",
       "      <td>21678</td>\n",
       "    </tr>\n",
       "  </tbody>\n",
       "</table>\n",
       "</div>"
      ],
      "text/plain": [
       "    WinY  ptv_senti\n",
       "0   48.0          1\n",
       "1   50.0          0\n",
       "2   53.0          3\n",
       "3   54.0         56\n",
       "4   55.0        215\n",
       "5   56.0       9745\n",
       "6   57.0      23443\n",
       "7   58.0      12763\n",
       "8   59.0      10477\n",
       "9   60.0       9462\n",
       "10  61.0      31694\n",
       "11  62.0      53659\n",
       "12  63.0     160477\n",
       "13  64.0     205904\n",
       "14  65.0     186346\n",
       "15  66.0     139677\n",
       "16  67.0      21678"
      ]
     },
     "execution_count": 145,
     "metadata": {},
     "output_type": "execute_result"
    }
   ],
   "source": [
    "df_week = df_in2.groupby(['WinY'])['Sentiment'].sum().to_frame(name='ptv_senti').reset_index()\n",
    "df_week"
   ]
  },
  {
   "cell_type": "code",
   "execution_count": 239,
   "metadata": {},
   "outputs": [
    {
     "data": {
      "text/plain": [
       "WinY  Location\n",
       "48.0  au             1\n",
       "50.0  au             0\n",
       "53.0  au             2\n",
       "      oth            1\n",
       "54.0  ald            0\n",
       "                  ... \n",
       "67.0  qld          931\n",
       "      syd         1666\n",
       "      tas          159\n",
       "      vic          887\n",
       "      ymhb          39\n",
       "Name: Sentiment, Length: 179, dtype: int64"
      ]
     },
     "execution_count": 239,
     "metadata": {},
     "output_type": "execute_result"
    }
   ],
   "source": [
    "# XYZ = df_in2.groupby(['WinY', 'Location'])['Sentiment'].sum()/df_in2.groupby(['WinY', 'Location'])['Sentiment'].size()\n",
    "# XYZ\n",
    "\n",
    "XYZ = df_in2.groupby(['WinY', 'Location'])['Sentiment'].sum()\n",
    "XYZ"
   ]
  },
  {
   "cell_type": "code",
   "execution_count": 55,
   "metadata": {},
   "outputs": [
    {
     "data": {
      "text/plain": [
       "['ald',\n",
       " 'au',\n",
       " 'bne',\n",
       " 'can',\n",
       " 'mel',\n",
       " 'nsw',\n",
       " 'oth',\n",
       " 'per',\n",
       " 'qld',\n",
       " 'syd',\n",
       " 'tas',\n",
       " 'vic',\n",
       " 'ymhb']"
      ]
     },
     "execution_count": 55,
     "metadata": {},
     "output_type": "execute_result"
    }
   ],
   "source": [
    "column_names = list(df_count['Location'])\n",
    "column_names"
   ]
  },
  {
   "cell_type": "code",
   "execution_count": 146,
   "metadata": {},
   "outputs": [
    {
     "data": {
      "text/plain": [
       "[48.0, 50.0, 53.0, 54.0, 55.0]"
      ]
     },
     "execution_count": 146,
     "metadata": {},
     "output_type": "execute_result"
    }
   ],
   "source": [
    "row_names = list(df_week['WinY'])\n",
    "row_names[:5]"
   ]
  },
  {
   "cell_type": "code",
   "execution_count": 147,
   "metadata": {},
   "outputs": [
    {
     "data": {
      "text/plain": [
       "17"
      ]
     },
     "execution_count": 147,
     "metadata": {},
     "output_type": "execute_result"
    }
   ],
   "source": [
    "len(row_names)"
   ]
  },
  {
   "cell_type": "code",
   "execution_count": 240,
   "metadata": {},
   "outputs": [
    {
     "data": {
      "text/plain": [
       "1"
      ]
     },
     "execution_count": 240,
     "metadata": {},
     "output_type": "execute_result"
    }
   ],
   "source": [
    "XYZ[(48.0, 'au')]"
   ]
  },
  {
   "cell_type": "code",
   "execution_count": 241,
   "metadata": {},
   "outputs": [
    {
     "data": {
      "text/plain": [
       "0"
      ]
     },
     "execution_count": 241,
     "metadata": {},
     "output_type": "execute_result"
    }
   ],
   "source": [
    "data = [[0]*len(column_names)]*len(row_names)\n",
    "data[3][5]"
   ]
  },
  {
   "cell_type": "code",
   "execution_count": 242,
   "metadata": {},
   "outputs": [
    {
     "data": {
      "text/plain": [
       "(17, 17, 13, 13)"
      ]
     },
     "execution_count": 242,
     "metadata": {},
     "output_type": "execute_result"
    }
   ],
   "source": [
    "len(data), len(row_names), len(data[0]),  len(column_names)"
   ]
  },
  {
   "cell_type": "code",
   "execution_count": 243,
   "metadata": {},
   "outputs": [
    {
     "data": {
      "text/plain": [
       "array([[  110, 10116,    54,   547,  1330,    12,  5504,   335,   931,\n",
       "         1666,   159,   887,    39],\n",
       "       [  110, 10116,    54,   547,  1330,    12,  5504,   335,   931,\n",
       "         1666,   159,   887,    39],\n",
       "       [  110, 10116,    54,   547,  1330,    12,  5504,   335,   931,\n",
       "         1666,   159,   887,    39],\n",
       "       [  110, 10116,    54,   547,  1330,    12,  5504,   335,   931,\n",
       "         1666,   159,   887,    39],\n",
       "       [  110, 10116,    54,   547,  1330,    12,  5504,   335,   931,\n",
       "         1666,   159,   887,    39],\n",
       "       [  110, 10116,    54,   547,  1330,    12,  5504,   335,   931,\n",
       "         1666,   159,   887,    39],\n",
       "       [  110, 10116,    54,   547,  1330,    12,  5504,   335,   931,\n",
       "         1666,   159,   887,    39],\n",
       "       [  110, 10116,    54,   547,  1330,    12,  5504,   335,   931,\n",
       "         1666,   159,   887,    39],\n",
       "       [  110, 10116,    54,   547,  1330,    12,  5504,   335,   931,\n",
       "         1666,   159,   887,    39],\n",
       "       [  110, 10116,    54,   547,  1330,    12,  5504,   335,   931,\n",
       "         1666,   159,   887,    39],\n",
       "       [  110, 10116,    54,   547,  1330,    12,  5504,   335,   931,\n",
       "         1666,   159,   887,    39],\n",
       "       [  110, 10116,    54,   547,  1330,    12,  5504,   335,   931,\n",
       "         1666,   159,   887,    39],\n",
       "       [  110, 10116,    54,   547,  1330,    12,  5504,   335,   931,\n",
       "         1666,   159,   887,    39],\n",
       "       [  110, 10116,    54,   547,  1330,    12,  5504,   335,   931,\n",
       "         1666,   159,   887,    39],\n",
       "       [  110, 10116,    54,   547,  1330,    12,  5504,   335,   931,\n",
       "         1666,   159,   887,    39],\n",
       "       [  110, 10116,    54,   547,  1330,    12,  5504,   335,   931,\n",
       "         1666,   159,   887,    39],\n",
       "       [  110, 10116,    54,   547,  1330,    12,  5504,   335,   931,\n",
       "         1666,   159,   887,    39]], dtype=int64)"
      ]
     },
     "execution_count": 243,
     "metadata": {},
     "output_type": "execute_result"
    }
   ],
   "source": [
    "import numpy as np\n",
    "for i, rn in enumerate(row_names):\n",
    "    for j, cn in enumerate(column_names):\n",
    "        if (rn,cn) in XYZ.keys():\n",
    "            data[i][j] = XYZ[(rn,cn)]\n",
    "data = np.array(data)\n",
    "data"
   ]
  },
  {
   "cell_type": "code",
   "execution_count": 244,
   "metadata": {},
   "outputs": [],
   "source": [
    "lx= len(data[0]) # Work out matrix dimensions\n",
    "ly= len(data[:,0])"
   ]
  },
  {
   "cell_type": "code",
   "execution_count": 245,
   "metadata": {},
   "outputs": [],
   "source": [
    "xpos = np.arange(0,lx,1)    # Set up a mesh of positions\n",
    "ypos = np.arange(0,ly,1)"
   ]
  },
  {
   "cell_type": "code",
   "execution_count": 246,
   "metadata": {},
   "outputs": [
    {
     "data": {
      "text/plain": [
       "array([ 0,  1,  2,  3,  4,  5,  6,  7,  8,  9, 10, 11, 12])"
      ]
     },
     "execution_count": 246,
     "metadata": {},
     "output_type": "execute_result"
    }
   ],
   "source": [
    "xpos"
   ]
  },
  {
   "cell_type": "code",
   "execution_count": 247,
   "metadata": {},
   "outputs": [
    {
     "data": {
      "text/plain": [
       "array([ 0,  1,  2,  3,  4,  5,  6,  7,  8,  9, 10, 11, 12, 13, 14, 15, 16])"
      ]
     },
     "execution_count": 247,
     "metadata": {},
     "output_type": "execute_result"
    }
   ],
   "source": [
    "ypos"
   ]
  },
  {
   "cell_type": "code",
   "execution_count": 248,
   "metadata": {},
   "outputs": [],
   "source": [
    "xpos, ypos = np.meshgrid(xpos, ypos)"
   ]
  },
  {
   "cell_type": "code",
   "execution_count": 249,
   "metadata": {},
   "outputs": [
    {
     "data": {
      "text/plain": [
       "array([[ 0,  1,  2,  3,  4,  5,  6,  7,  8,  9, 10, 11, 12],\n",
       "       [ 0,  1,  2,  3,  4,  5,  6,  7,  8,  9, 10, 11, 12],\n",
       "       [ 0,  1,  2,  3,  4,  5,  6,  7,  8,  9, 10, 11, 12],\n",
       "       [ 0,  1,  2,  3,  4,  5,  6,  7,  8,  9, 10, 11, 12],\n",
       "       [ 0,  1,  2,  3,  4,  5,  6,  7,  8,  9, 10, 11, 12],\n",
       "       [ 0,  1,  2,  3,  4,  5,  6,  7,  8,  9, 10, 11, 12],\n",
       "       [ 0,  1,  2,  3,  4,  5,  6,  7,  8,  9, 10, 11, 12],\n",
       "       [ 0,  1,  2,  3,  4,  5,  6,  7,  8,  9, 10, 11, 12],\n",
       "       [ 0,  1,  2,  3,  4,  5,  6,  7,  8,  9, 10, 11, 12],\n",
       "       [ 0,  1,  2,  3,  4,  5,  6,  7,  8,  9, 10, 11, 12],\n",
       "       [ 0,  1,  2,  3,  4,  5,  6,  7,  8,  9, 10, 11, 12],\n",
       "       [ 0,  1,  2,  3,  4,  5,  6,  7,  8,  9, 10, 11, 12],\n",
       "       [ 0,  1,  2,  3,  4,  5,  6,  7,  8,  9, 10, 11, 12],\n",
       "       [ 0,  1,  2,  3,  4,  5,  6,  7,  8,  9, 10, 11, 12],\n",
       "       [ 0,  1,  2,  3,  4,  5,  6,  7,  8,  9, 10, 11, 12],\n",
       "       [ 0,  1,  2,  3,  4,  5,  6,  7,  8,  9, 10, 11, 12],\n",
       "       [ 0,  1,  2,  3,  4,  5,  6,  7,  8,  9, 10, 11, 12]])"
      ]
     },
     "execution_count": 249,
     "metadata": {},
     "output_type": "execute_result"
    }
   ],
   "source": [
    "xpos"
   ]
  },
  {
   "cell_type": "code",
   "execution_count": 250,
   "metadata": {},
   "outputs": [
    {
     "data": {
      "text/plain": [
       "array([[ 0,  0,  0,  0,  0,  0,  0,  0,  0,  0,  0,  0,  0],\n",
       "       [ 1,  1,  1,  1,  1,  1,  1,  1,  1,  1,  1,  1,  1],\n",
       "       [ 2,  2,  2,  2,  2,  2,  2,  2,  2,  2,  2,  2,  2],\n",
       "       [ 3,  3,  3,  3,  3,  3,  3,  3,  3,  3,  3,  3,  3],\n",
       "       [ 4,  4,  4,  4,  4,  4,  4,  4,  4,  4,  4,  4,  4],\n",
       "       [ 5,  5,  5,  5,  5,  5,  5,  5,  5,  5,  5,  5,  5],\n",
       "       [ 6,  6,  6,  6,  6,  6,  6,  6,  6,  6,  6,  6,  6],\n",
       "       [ 7,  7,  7,  7,  7,  7,  7,  7,  7,  7,  7,  7,  7],\n",
       "       [ 8,  8,  8,  8,  8,  8,  8,  8,  8,  8,  8,  8,  8],\n",
       "       [ 9,  9,  9,  9,  9,  9,  9,  9,  9,  9,  9,  9,  9],\n",
       "       [10, 10, 10, 10, 10, 10, 10, 10, 10, 10, 10, 10, 10],\n",
       "       [11, 11, 11, 11, 11, 11, 11, 11, 11, 11, 11, 11, 11],\n",
       "       [12, 12, 12, 12, 12, 12, 12, 12, 12, 12, 12, 12, 12],\n",
       "       [13, 13, 13, 13, 13, 13, 13, 13, 13, 13, 13, 13, 13],\n",
       "       [14, 14, 14, 14, 14, 14, 14, 14, 14, 14, 14, 14, 14],\n",
       "       [15, 15, 15, 15, 15, 15, 15, 15, 15, 15, 15, 15, 15],\n",
       "       [16, 16, 16, 16, 16, 16, 16, 16, 16, 16, 16, 16, 16]])"
      ]
     },
     "execution_count": 250,
     "metadata": {},
     "output_type": "execute_result"
    }
   ],
   "source": [
    "ypos"
   ]
  },
  {
   "cell_type": "code",
   "execution_count": 251,
   "metadata": {},
   "outputs": [],
   "source": [
    "xpos = xpos.flatten()   # Convert positions to 1D array\n",
    "ypos = ypos.flatten()"
   ]
  },
  {
   "cell_type": "code",
   "execution_count": 252,
   "metadata": {},
   "outputs": [
    {
     "data": {
      "text/plain": [
       "array([ 0,  1,  2,  3,  4,  5,  6,  7,  8,  9, 10, 11, 12,  0,  1,  2,  3,\n",
       "        4,  5,  6,  7,  8,  9, 10, 11, 12,  0,  1,  2,  3,  4,  5,  6,  7,\n",
       "        8,  9, 10, 11, 12,  0,  1,  2,  3,  4,  5,  6,  7,  8,  9, 10, 11,\n",
       "       12,  0,  1,  2,  3,  4,  5,  6,  7,  8,  9, 10, 11, 12,  0,  1,  2,\n",
       "        3,  4,  5,  6,  7,  8,  9, 10, 11, 12,  0,  1,  2,  3,  4,  5,  6,\n",
       "        7,  8,  9, 10, 11, 12,  0,  1,  2,  3,  4,  5,  6,  7,  8,  9, 10,\n",
       "       11, 12,  0,  1,  2,  3,  4,  5,  6,  7,  8,  9, 10, 11, 12,  0,  1,\n",
       "        2,  3,  4,  5,  6,  7,  8,  9, 10, 11, 12,  0,  1,  2,  3,  4,  5,\n",
       "        6,  7,  8,  9, 10, 11, 12,  0,  1,  2,  3,  4,  5,  6,  7,  8,  9,\n",
       "       10, 11, 12,  0,  1,  2,  3,  4,  5,  6,  7,  8,  9, 10, 11, 12,  0,\n",
       "        1,  2,  3,  4,  5,  6,  7,  8,  9, 10, 11, 12,  0,  1,  2,  3,  4,\n",
       "        5,  6,  7,  8,  9, 10, 11, 12,  0,  1,  2,  3,  4,  5,  6,  7,  8,\n",
       "        9, 10, 11, 12,  0,  1,  2,  3,  4,  5,  6,  7,  8,  9, 10, 11, 12])"
      ]
     },
     "execution_count": 252,
     "metadata": {},
     "output_type": "execute_result"
    }
   ],
   "source": [
    "xpos"
   ]
  },
  {
   "cell_type": "code",
   "execution_count": 253,
   "metadata": {},
   "outputs": [
    {
     "data": {
      "text/plain": [
       "array([ 0,  0,  0,  0,  0,  0,  0,  0,  0,  0,  0,  0,  0,  1,  1,  1,  1,\n",
       "        1,  1,  1,  1,  1,  1,  1,  1,  1,  2,  2,  2,  2,  2,  2,  2,  2,\n",
       "        2,  2,  2,  2,  2,  3,  3,  3,  3,  3,  3,  3,  3,  3,  3,  3,  3,\n",
       "        3,  4,  4,  4,  4,  4,  4,  4,  4,  4,  4,  4,  4,  4,  5,  5,  5,\n",
       "        5,  5,  5,  5,  5,  5,  5,  5,  5,  5,  6,  6,  6,  6,  6,  6,  6,\n",
       "        6,  6,  6,  6,  6,  6,  7,  7,  7,  7,  7,  7,  7,  7,  7,  7,  7,\n",
       "        7,  7,  8,  8,  8,  8,  8,  8,  8,  8,  8,  8,  8,  8,  8,  9,  9,\n",
       "        9,  9,  9,  9,  9,  9,  9,  9,  9,  9,  9, 10, 10, 10, 10, 10, 10,\n",
       "       10, 10, 10, 10, 10, 10, 10, 11, 11, 11, 11, 11, 11, 11, 11, 11, 11,\n",
       "       11, 11, 11, 12, 12, 12, 12, 12, 12, 12, 12, 12, 12, 12, 12, 12, 13,\n",
       "       13, 13, 13, 13, 13, 13, 13, 13, 13, 13, 13, 13, 14, 14, 14, 14, 14,\n",
       "       14, 14, 14, 14, 14, 14, 14, 14, 15, 15, 15, 15, 15, 15, 15, 15, 15,\n",
       "       15, 15, 15, 15, 16, 16, 16, 16, 16, 16, 16, 16, 16, 16, 16, 16, 16])"
      ]
     },
     "execution_count": 253,
     "metadata": {},
     "output_type": "execute_result"
    }
   ],
   "source": [
    "ypos"
   ]
  },
  {
   "cell_type": "code",
   "execution_count": 254,
   "metadata": {},
   "outputs": [
    {
     "data": {
      "text/plain": [
       "array([0., 0., 0., 0., 0., 0., 0., 0., 0., 0., 0., 0., 0., 0., 0., 0., 0.,\n",
       "       0., 0., 0., 0., 0., 0., 0., 0., 0., 0., 0., 0., 0., 0., 0., 0., 0.,\n",
       "       0., 0., 0., 0., 0., 0., 0., 0., 0., 0., 0., 0., 0., 0., 0., 0., 0.,\n",
       "       0., 0., 0., 0., 0., 0., 0., 0., 0., 0., 0., 0., 0., 0., 0., 0., 0.,\n",
       "       0., 0., 0., 0., 0., 0., 0., 0., 0., 0., 0., 0., 0., 0., 0., 0., 0.,\n",
       "       0., 0., 0., 0., 0., 0., 0., 0., 0., 0., 0., 0., 0., 0., 0., 0., 0.,\n",
       "       0., 0., 0., 0., 0., 0., 0., 0., 0., 0., 0., 0., 0., 0., 0., 0., 0.,\n",
       "       0., 0., 0., 0., 0., 0., 0., 0., 0., 0., 0., 0., 0., 0., 0., 0., 0.,\n",
       "       0., 0., 0., 0., 0., 0., 0., 0., 0., 0., 0., 0., 0., 0., 0., 0., 0.,\n",
       "       0., 0., 0., 0., 0., 0., 0., 0., 0., 0., 0., 0., 0., 0., 0., 0., 0.,\n",
       "       0., 0., 0., 0., 0., 0., 0., 0., 0., 0., 0., 0., 0., 0., 0., 0., 0.,\n",
       "       0., 0., 0., 0., 0., 0., 0., 0., 0., 0., 0., 0., 0., 0., 0., 0., 0.,\n",
       "       0., 0., 0., 0., 0., 0., 0., 0., 0., 0., 0., 0., 0., 0., 0., 0., 0.])"
      ]
     },
     "execution_count": 254,
     "metadata": {},
     "output_type": "execute_result"
    }
   ],
   "source": [
    "zpos = np.zeros(lx*ly)\n",
    "zpos"
   ]
  },
  {
   "cell_type": "code",
   "execution_count": 255,
   "metadata": {},
   "outputs": [],
   "source": [
    "dx = .8 * np.ones_like(zpos)\n",
    "dy = dx.copy()\n",
    "dz = data.flatten()"
   ]
  },
  {
   "cell_type": "code",
   "execution_count": 186,
   "metadata": {},
   "outputs": [],
   "source": [
    "#dx"
   ]
  },
  {
   "cell_type": "code",
   "execution_count": 187,
   "metadata": {},
   "outputs": [],
   "source": [
    "#dy"
   ]
  },
  {
   "cell_type": "code",
   "execution_count": 188,
   "metadata": {},
   "outputs": [],
   "source": [
    "#dz"
   ]
  },
  {
   "cell_type": "code",
   "execution_count": 256,
   "metadata": {},
   "outputs": [
    {
     "data": {
      "image/png": "[encoded data removed]",
      "text/plain": [
       "<Figure size 800x480 with 1 Axes>"
      ]
     },
     "metadata": {},
     "output_type": "display_data"
    }
   ],
   "source": [
    "#### from mpl_toolkits.mplot3d import Axes3D\n",
    "import matplotlib.pyplot as plt\n",
    "import numpy as np\n",
    "\n",
    "fig = plt.figure(num=None, figsize=(10, 6), dpi=80, facecolor='w', edgecolor='k')\n",
    "ax = Axes3D(fig)\n",
    "\n",
    "ax.bar3d(xpos,ypos,zpos, dx, dy, dz, color= 'c', alpha=1.0)\n",
    "\n",
    "\n",
    "plt.xticks(np.arange(0, 13, 1), column_names)\n",
    "#plt.yticks(np.arange(0, 18, 1), row_names)\n",
    "#sh()\n",
    "#ax.w_xaxis.set_ticklabels(column_names)\n",
    "#ax.w_yaxis.set_ticklabels(row_names)\n",
    "ax.set_xlabel('Location')\n",
    "ax.set_ylabel('Week')\n",
    "ax.set_zlabel('Positive Sentiment')\n",
    "\n",
    "#ax.view_init(30, -10)\n",
    "plt.show()\n",
    "# rotate the axes and update\n",
    "# for angle in range(0, 360):\n",
    "#     ax.view_init(30, angle)\n",
    "#     plt.draw()\n",
    "#     plt.show()\n",
    "#     plt.pause(.001)"
   ]
  }
 ],
 "metadata": {
  "kernelspec": {
   "display_name": "Python 3",
   "language": "python",
   "name": "python3"
  },
  "language_info": {
   "codemirror_mode": {
    "name": "ipython",
    "version": 3
   },
   "file_extension": ".py",
   "mimetype": "text/x-python",
   "name": "python",
   "nbconvert_exporter": "python",
   "pygments_lexer": "ipython3",
   "version": "3.7.3"
  }
 },
 "nbformat": 4,
 "nbformat_minor": 2
}
