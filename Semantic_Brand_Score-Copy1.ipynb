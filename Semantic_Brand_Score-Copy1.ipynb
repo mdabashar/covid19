{
 "cells": [
  {
   "cell_type": "markdown",
   "metadata": {},
   "source": [
    "# Source:\n",
    "\n",
    "https://towardsdatascience.com/calculating-the-semantic-brand-score-with-python-3f94fb8372a6"
   ]
  },
  {
   "cell_type": "markdown",
   "metadata": {},
   "source": [
    "#### Theory\n",
    "\n",
    "https://en.wikipedia.org/wiki/Semantic_Brand_Score"
   ]
  },
  {
   "cell_type": "markdown",
   "metadata": {},
   "source": [
    "### Load Data"
   ]
  },
  {
   "cell_type": "code",
   "execution_count": 1,
   "metadata": {},
   "outputs": [],
   "source": [
    "import pandas as pd\n",
    "BASE = 'C:\\\\Users\\\\basharm\\\\PythonJupyter\\\\CoVID19CodeGit\\\\data\\\\initial_data\\\\'"
   ]
  },
  {
   "cell_type": "code",
   "execution_count": 2,
   "metadata": {},
   "outputs": [
    {
     "data": {
      "text/html": [
       "<div>\n",
       "<style scoped>\n",
       "    .dataframe tbody tr th:only-of-type {\n",
       "        vertical-align: middle;\n",
       "    }\n",
       "\n",
       "    .dataframe tbody tr th {\n",
       "        vertical-align: top;\n",
       "    }\n",
       "\n",
       "    .dataframe thead th {\n",
       "        text-align: right;\n",
       "    }\n",
       "</style>\n",
       "<table border=\"1\" class=\"dataframe\">\n",
       "  <thead>\n",
       "    <tr style=\"text-align: right;\">\n",
       "      <th></th>\n",
       "      <th>created_at</th>\n",
       "      <th>verified</th>\n",
       "      <th>name</th>\n",
       "      <th>full_text</th>\n",
       "      <th>location</th>\n",
       "      <th>followers_count</th>\n",
       "      <th>friends_count</th>\n",
       "    </tr>\n",
       "  </thead>\n",
       "  <tbody>\n",
       "    <tr>\n",
       "      <th>0</th>\n",
       "      <td>2020-03-07 11:48:47+00:00</td>\n",
       "      <td>False</td>\n",
       "      <td>occhionotizie.it</td>\n",
       "      <td>lattacco del governatore</td>\n",
       "      <td>Salerno, Campania</td>\n",
       "      <td>2647</td>\n",
       "      <td>81</td>\n",
       "    </tr>\n",
       "    <tr>\n",
       "      <th>1</th>\n",
       "      <td>2020-03-07 11:48:47+00:00</td>\n",
       "      <td>False</td>\n",
       "      <td>Pierre Beaudin M.Ed.</td>\n",
       "      <td>selfquarantine challenging may think good advi...</td>\n",
       "      <td>Canada</td>\n",
       "      <td>2806</td>\n",
       "      <td>4993</td>\n",
       "    </tr>\n",
       "    <tr>\n",
       "      <th>2</th>\n",
       "      <td>2020-03-07 11:48:47+00:00</td>\n",
       "      <td>False</td>\n",
       "      <td>GEGENPAPST</td>\n",
       "      <td>coronavirus gesundheitsministerium beschließt ...</td>\n",
       "      <td>WAHALLA</td>\n",
       "      <td>182</td>\n",
       "      <td>1095</td>\n",
       "    </tr>\n",
       "    <tr>\n",
       "      <th>3</th>\n",
       "      <td>2020-03-07 11:48:48+00:00</td>\n",
       "      <td>False</td>\n",
       "      <td>Lay Zhang Thailand</td>\n",
       "      <td>200307 youku weibo update layzhang บอสมาสอนทำค...</td>\n",
       "      <td>Bangkok, Thailand</td>\n",
       "      <td>1299</td>\n",
       "      <td>48</td>\n",
       "    </tr>\n",
       "    <tr>\n",
       "      <th>4</th>\n",
       "      <td>2020-03-07 11:48:48+00:00</td>\n",
       "      <td>False</td>\n",
       "      <td>Chinese Tea Master</td>\n",
       "      <td>to people think ok joke sacrifice wuhancitizen...</td>\n",
       "      <td>Belgium</td>\n",
       "      <td>101</td>\n",
       "      <td>197</td>\n",
       "    </tr>\n",
       "  </tbody>\n",
       "</table>\n",
       "</div>"
      ],
      "text/plain": [
       "                  created_at  verified                  name  \\\n",
       "0  2020-03-07 11:48:47+00:00     False      occhionotizie.it   \n",
       "1  2020-03-07 11:48:47+00:00     False  Pierre Beaudin M.Ed.   \n",
       "2  2020-03-07 11:48:47+00:00     False            GEGENPAPST   \n",
       "3  2020-03-07 11:48:48+00:00     False    Lay Zhang Thailand   \n",
       "4  2020-03-07 11:48:48+00:00     False    Chinese Tea Master   \n",
       "\n",
       "                                           full_text           location  \\\n",
       "0                           lattacco del governatore  Salerno, Campania   \n",
       "1  selfquarantine challenging may think good advi...             Canada   \n",
       "2  coronavirus gesundheitsministerium beschließt ...            WAHALLA   \n",
       "3  200307 youku weibo update layzhang บอสมาสอนทำค...  Bangkok, Thailand   \n",
       "4  to people think ok joke sacrifice wuhancitizen...            Belgium   \n",
       "\n",
       "   followers_count  friends_count  \n",
       "0             2647             81  \n",
       "1             2806           4993  \n",
       "2              182           1095  \n",
       "3             1299             48  \n",
       "4              101            197  "
      ]
     },
     "execution_count": 2,
     "metadata": {},
     "output_type": "execute_result"
    }
   ],
   "source": [
    "df_in = pd.read_csv(BASE+'links_only_sorted_pp.csv', encoding = 'utf8')\n",
    "#df_in = df_in.iloc[:10]\n",
    "df_in.head(5)"
   ]
  },
  {
   "cell_type": "code",
   "execution_count": 3,
   "metadata": {},
   "outputs": [
    {
     "name": "stdout",
     "output_type": "stream",
     "text": [
      "63211\n"
     ]
    }
   ],
   "source": [
    "print(int(len(df_in)/10))\n",
    "df_in = df_in.iloc[:int(len(df_in)/10)]"
   ]
  },
  {
   "cell_type": "code",
   "execution_count": 4,
   "metadata": {},
   "outputs": [],
   "source": [
    "texts = [t.split() for t in list(df_in['full_text'])]"
   ]
  },
  {
   "cell_type": "markdown",
   "metadata": {},
   "source": [
    "### List Brands"
   ]
  },
  {
   "cell_type": "code",
   "execution_count": 5,
   "metadata": {},
   "outputs": [],
   "source": [
    "#Define brands (lowercase)\n",
    "brands = ['covid19', 'coronavirus']"
   ]
  },
  {
   "cell_type": "markdown",
   "metadata": {},
   "source": [
    "### PREVALENCE"
   ]
  },
  {
   "cell_type": "code",
   "execution_count": 6,
   "metadata": {},
   "outputs": [
    {
     "name": "stdout",
     "output_type": "stream",
     "text": [
      "Prevalence covid19 82.31695608914204\n",
      "Prevalence coronavirus 259.8360004676292\n"
     ]
    }
   ],
   "source": [
    "#PREVALENCE\n",
    "#Import Counter and Numpy\n",
    "from collections import Counter\n",
    "import numpy as np\n",
    "\n",
    "#Create a dictionary with frequency counts for each word\n",
    "countPR = Counter()\n",
    "for t in texts:\n",
    "    countPR.update(Counter(t))\n",
    "\n",
    "#Calculate average score and standard deviation\n",
    "avgPR = np.mean(list(countPR.values()))\n",
    "stdPR = np.std(list(countPR.values()))\n",
    "\n",
    "#Calculate standardized Prevalence for each brand\n",
    "PREVALENCE = {}\n",
    "for brand in brands:\n",
    "    PREVALENCE[brand] = (countPR[brand] - avgPR) / stdPR\n",
    "    print(\"Prevalence\", brand, PREVALENCE[brand])"
   ]
  },
  {
   "cell_type": "markdown",
   "metadata": {},
   "source": [
    "### Word Network\n",
    "Transform texts (list of lists of tokens) into a social network where nodes are words and links are weighted according to the number of co-occurrences between each pair of words.\n",
    "\n",
    "In this step we have to define a co-occurrence range, i.e. a maximum distance between co-occurring words (here it is set to 7). \n",
    "\n",
    "In addition, we might want to remove links which represent negligible co-occurrences, for example those of weight = 1. It can also be useful to remove isolates, if these are not brands."
   ]
  },
  {
   "cell_type": "code",
   "execution_count": 7,
   "metadata": {},
   "outputs": [],
   "source": [
    "#Import Networkx\n",
    "import networkx as nx\n",
    "\n",
    "#Choose a co-occurrence range\n",
    "co_range = 7\n",
    "\n",
    "#Create an undirected Network Graph\n",
    "G = nx.Graph()"
   ]
  },
  {
   "cell_type": "code",
   "execution_count": 8,
   "metadata": {},
   "outputs": [],
   "source": [
    "#Each word is a network node\n",
    "nodes = set([item for sublist in texts for item in sublist])\n",
    "G.add_nodes_from(nodes)"
   ]
  },
  {
   "cell_type": "code",
   "execution_count": 9,
   "metadata": {},
   "outputs": [],
   "source": [
    "#Add links based on co-occurrences\n",
    "for doc in texts:\n",
    "    w_list = []\n",
    "    length= len(doc)\n",
    "    for k, w in enumerate(doc):\n",
    "        #Define range, based on document length\n",
    "        if (k+co_range) >= length:\n",
    "            superior = length\n",
    "        else:\n",
    "            superior = k+co_range+1\n",
    "        #Create the list of co-occurring words\n",
    "        if k < length-1:\n",
    "            for i in range(k+1,superior):\n",
    "                linked_word = doc[i].split()\n",
    "                w_list = w_list + linked_word\n",
    "        #If the list is not empty, create the network links\n",
    "        if w_list:    \n",
    "            for p in w_list:\n",
    "                if G.has_edge(w,p):\n",
    "                    G[w][p]['weight'] += 1\n",
    "                else:\n",
    "                    G.add_edge(w, p, weight=1)\n",
    "        w_list = []"
   ]
  },
  {
   "cell_type": "code",
   "execution_count": 10,
   "metadata": {},
   "outputs": [],
   "source": [
    "#Remove negligible co-occurrences based on a filter\n",
    "link_filter = 2\n",
    "#Create a new Graph which has only links above\n",
    "#the minimum co-occurrence threshold\n",
    "G_filtered = nx.Graph() \n",
    "G_filtered.add_nodes_from(G)\n",
    "for u,v,data in G.edges(data=True):\n",
    "    if data['weight'] >= link_filter:\n",
    "        G_filtered.add_edge(u, v, weight=data['weight'])\n"
   ]
  },
  {
   "cell_type": "code",
   "execution_count": 11,
   "metadata": {},
   "outputs": [],
   "source": [
    "#Optional removal of isolates\n",
    "isolates = set(nx.isolates(G_filtered))\n",
    "isolates -= set(brands)\n",
    "G_filtered.remove_nodes_from(isolates)"
   ]
  },
  {
   "cell_type": "code",
   "execution_count": 12,
   "metadata": {},
   "outputs": [
    {
     "name": "stdout",
     "output_type": "stream",
     "text": [
      "Original Network\n",
      "No. of Nodes: 108989 No. of Edges: 2258868\n",
      "Filtered Network\n",
      "No. of Nodes: 53111 No. of Edges: 549113\n"
     ]
    }
   ],
   "source": [
    "#Check the resulting graph (for small test graphs)\n",
    "#G_filtered.nodes()\n",
    "#G_filtered.edges(data = True)\n",
    "print(\"Original Network\\nNo. of Nodes:\", G.number_of_nodes(), \"No. of Edges:\", G.number_of_edges())\n",
    "print(\"Filtered Network\\nNo. of Nodes:\", G_filtered.number_of_nodes(), \"No. of Edges:\", G_filtered.number_of_edges())\n"
   ]
  },
  {
   "cell_type": "markdown",
   "metadata": {},
   "source": [
    "### Diversity and Connectivity\n",
    "\n",
    "Having determined the co-occurrence network, we can now calculate diversity and connectivity, which are distinctiveness centrality (previously we used degree) and weighted betweenness centrality of a brand node. \n",
    "\n",
    "We standardize these values as we did with prevalence. More information about distinctiveness centrality is given in [this paper](https://arxiv.org/abs/1912.03391). \n",
    "\n",
    "You will also need to install the [Python distinctivenss package](https://github.com/iandreafc/distinctiveness)."
   ]
  },
  {
   "cell_type": "code",
   "execution_count": 13,
   "metadata": {},
   "outputs": [],
   "source": [
    "#INSTALL AND IMPORT THE DISTINCTIVENESS PACKAGE\n",
    "#pip install -U distinctiveness\n",
    "from distinctiveness.dc import dc_all"
   ]
  },
  {
   "cell_type": "code",
   "execution_count": 14,
   "metadata": {},
   "outputs": [
    {
     "name": "stdout",
     "output_type": "stream",
     "text": [
      "WARNING: Loops will be ignored.\n"
     ]
    }
   ],
   "source": [
    "#DIVERSITY\n",
    "#Calculate Distinctiveness Centrality\n",
    "DC = dc_all(G_filtered, normalize = False, alpha = 1)\n",
    "DIVERSITY_sequence=DC[\"D2\"]"
   ]
  },
  {
   "cell_type": "code",
   "execution_count": 15,
   "metadata": {},
   "outputs": [
    {
     "name": "stdout",
     "output_type": "stream",
     "text": [
      "Diversity covid19 64.58285838730278\n",
      "Diversity coronavirus 135.78734347833748\n"
     ]
    }
   ],
   "source": [
    "#Calculate average score and standard deviation\n",
    "avgDI = np.mean(list(DIVERSITY_sequence.values()))\n",
    "stdDI = np.std(list(DIVERSITY_sequence.values()))\n",
    "#Calculate standardized Diversity for each brand\n",
    "DIVERSITY = {}\n",
    "for brand in brands:\n",
    "    DIVERSITY[brand] = (DIVERSITY_sequence[brand] - avgDI) / stdDI\n",
    "    print(\"Diversity\", brand, DIVERSITY[brand])"
   ]
  },
  {
   "cell_type": "markdown",
   "metadata": {},
   "source": [
    "If we calculate connectivity as weighted betweenness centraliy, we first have to define inverse weights, as weights are treated by Networkx as distances (which is the opposite of what we want)."
   ]
  },
  {
   "cell_type": "code",
   "execution_count": 16,
   "metadata": {},
   "outputs": [
    {
     "name": "stdout",
     "output_type": "stream",
     "text": [
      "Connectivity covid19 41.352462473024296\n",
      "Connectivity coronavirus 205.99825025249197\n"
     ]
    }
   ],
   "source": [
    "#Define inverse weights \n",
    "for u,v,data in G_filtered.edges(data=True):\n",
    "    if 'weight' in data and data['weight'] != 0:\n",
    "        data['inverse'] = 1/data['weight']\n",
    "    else:\n",
    "        data['inverse'] = 1   \n",
    "\n",
    "#CONNECTIVITY\n",
    "CONNECTIVITY_sequence=nx.betweenness_centrality(G_filtered, normalized=False, weight ='inverse')\n",
    "#Calculate average score and standard deviation\n",
    "avgCO = np.mean(list(CONNECTIVITY_sequence.values()))\n",
    "stdCO = np.std(list(CONNECTIVITY_sequence.values()))\n",
    "#Calculate standardized Prevalence for each brand\n",
    "CONNECTIVITY = {}\n",
    "for brand in brands:\n",
    "    CONNECTIVITY[brand] = (CONNECTIVITY_sequence[brand] - avgCO) / stdCO\n",
    "    print(\"Connectivity\", brand, CONNECTIVITY[brand])"
   ]
  },
  {
   "cell_type": "markdown",
   "metadata": {},
   "source": [
    "### Semantic Brand Score\n",
    "\n",
    "The Semantic Brand Score of each brand is finally obtained by summing the standardized values of prevalence, diversity and connectivity. Different approaches are also possible."
   ]
  },
  {
   "cell_type": "code",
   "execution_count": 17,
   "metadata": {},
   "outputs": [
    {
     "name": "stdout",
     "output_type": "stream",
     "text": [
      "SBS covid19 188.25227694946912\n",
      "SBS coronavirus 601.6215941984586\n"
     ]
    }
   ],
   "source": [
    "#Obtain the Semantic Brand Score of each brand\n",
    "SBS = {}\n",
    "for brand in brands:\n",
    "    SBS[brand] = PREVALENCE[brand] + DIVERSITY[brand] + CONNECTIVITY[brand]\n",
    "    print(\"SBS\", brand, SBS[brand])"
   ]
  },
  {
   "cell_type": "code",
   "execution_count": 18,
   "metadata": {},
   "outputs": [
    {
     "data": {
      "text/html": [
       "<div>\n",
       "<style scoped>\n",
       "    .dataframe tbody tr th:only-of-type {\n",
       "        vertical-align: middle;\n",
       "    }\n",
       "\n",
       "    .dataframe tbody tr th {\n",
       "        vertical-align: top;\n",
       "    }\n",
       "\n",
       "    .dataframe thead th {\n",
       "        text-align: right;\n",
       "    }\n",
       "</style>\n",
       "<table border=\"1\" class=\"dataframe\">\n",
       "  <thead>\n",
       "    <tr style=\"text-align: right;\">\n",
       "      <th></th>\n",
       "      <th>PREVALENCE</th>\n",
       "      <th>DIVERSITY</th>\n",
       "      <th>CONNECTIVITY</th>\n",
       "      <th>SBS</th>\n",
       "    </tr>\n",
       "  </thead>\n",
       "  <tbody>\n",
       "    <tr>\n",
       "      <th>covid19</th>\n",
       "      <td>82.316956</td>\n",
       "      <td>64.582858</td>\n",
       "      <td>41.352462</td>\n",
       "      <td>188.252277</td>\n",
       "    </tr>\n",
       "    <tr>\n",
       "      <th>coronavirus</th>\n",
       "      <td>259.836000</td>\n",
       "      <td>135.787343</td>\n",
       "      <td>205.998250</td>\n",
       "      <td>601.621594</td>\n",
       "    </tr>\n",
       "  </tbody>\n",
       "</table>\n",
       "</div>"
      ],
      "text/plain": [
       "             PREVALENCE   DIVERSITY  CONNECTIVITY         SBS\n",
       "covid19       82.316956   64.582858     41.352462  188.252277\n",
       "coronavirus  259.836000  135.787343    205.998250  601.621594"
      ]
     },
     "execution_count": 18,
     "metadata": {},
     "output_type": "execute_result"
    }
   ],
   "source": [
    "#Generate a final pandas data frame with all results\n",
    "import pandas as pd\n",
    "\n",
    "PREVALENCE = pd.DataFrame.from_dict(PREVALENCE, orient=\"index\", columns = [\"PREVALENCE\"])\n",
    "DIVERSITY = pd.DataFrame.from_dict(DIVERSITY, orient=\"index\", columns = [\"DIVERSITY\"])\n",
    "CONNECTIVITY = pd.DataFrame.from_dict(CONNECTIVITY, orient=\"index\", columns = [\"CONNECTIVITY\"])\n",
    "SBS = pd.DataFrame.from_dict(SBS, orient=\"index\", columns = [\"SBS\"])\n",
    "\n",
    "SBS = pd.concat([PREVALENCE, DIVERSITY, CONNECTIVITY, SBS], axis=1, sort=False)\n",
    "SBS"
   ]
  },
  {
   "cell_type": "markdown",
   "metadata": {},
   "source": [
    "### Visualise Graph"
   ]
  },
  {
   "cell_type": "code",
   "execution_count": 19,
   "metadata": {},
   "outputs": [
    {
     "name": "stderr",
     "output_type": "stream",
     "text": [
      "C:\\Users\\basharm\\AppData\\Local\\Continuum\\anaconda3\\lib\\site-packages\\networkx\\drawing\\nx_pylab.py:563: MatplotlibDeprecationWarning: \n",
      "The iterable function was deprecated in Matplotlib 3.1 and will be removed in 3.3. Use np.iterable instead.\n",
      "  if not cb.iterable(width):\n",
      "C:\\Users\\basharm\\AppData\\Local\\Continuum\\anaconda3\\lib\\site-packages\\networkx\\drawing\\nx_pylab.py:611: MatplotlibDeprecationWarning: \n",
      "The is_numlike function was deprecated in Matplotlib 3.0 and will be removed in 3.2. Use isinstance(..., numbers.Number) instead.\n",
      "  if cb.is_numlike(alpha):\n"
     ]
    },
    {
     "data": {
      "image/png": "[encoded data removed]",
      "text/plain": [
       "<Figure size 432x288 with 1 Axes>"
      ]
     },
     "metadata": {},
     "output_type": "display_data"
    }
   ],
   "source": [
    "import matplotlib.pyplot as plt\n",
    "%matplotlib inline\n",
    "nx.draw(G)\n",
    "plt.savefig(\"simple_path.png\") # save as png\n",
    "plt.show(\"simple_path.png\") # display"
   ]
  },
  {
   "cell_type": "code",
   "execution_count": 20,
   "metadata": {},
   "outputs": [],
   "source": [
    "# import networkx as nx\n",
    "# import matplotlib.pyplot as plt\n",
    "# G = nx.Graph()\n",
    "# G.add_edge(1,2)\n",
    "# G.add_edge(1,3)\n",
    "# nx.draw(G, with_labels=True)\n",
    "# plt.show()"
   ]
  },
  {
   "cell_type": "markdown",
   "metadata": {},
   "source": [
    "#### Here are some other visualisations\n",
    "\n",
    "https://semanticbrandscore.com/demographs/graphs.html"
   ]
  }
 ],
 "metadata": {
  "kernelspec": {
   "display_name": "Python 3",
   "language": "python",
   "name": "python3"
  },
  "language_info": {
   "codemirror_mode": {
    "name": "ipython",
    "version": 3
   },
   "file_extension": ".py",
   "mimetype": "text/x-python",
   "name": "python",
   "nbconvert_exporter": "python",
   "pygments_lexer": "ipython3",
   "version": "3.7.3"
  }
 },
 "nbformat": 4,
 "nbformat_minor": 2
}
