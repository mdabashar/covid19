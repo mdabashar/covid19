{
 "cells": [
  {
   "cell_type": "markdown",
   "metadata": {},
   "source": [
    "# Source:\n",
    "    \n",
    "https://markroxor.github.io/gensim/static/notebooks/ldaseqmodel.html#topic=0&lambda=1&term="
   ]
  },
  {
   "cell_type": "markdown",
   "metadata": {},
   "source": [
    "### Setting up our imports"
   ]
  },
  {
   "cell_type": "code",
   "execution_count": 1,
   "metadata": {},
   "outputs": [
    {
     "name": "stderr",
     "output_type": "stream",
     "text": [
      "C:\\Users\\basharm\\AppData\\Local\\Continuum\\anaconda3\\lib\\site-packages\\gensim\\utils.py:1197: UserWarning: detected Windows; aliasing chunkize to chunkize_serial\n",
      "  warnings.warn(\"detected Windows; aliasing chunkize to chunkize_serial\")\n"
     ]
    }
   ],
   "source": [
    "#from gensim.models import ldaseqmodel\n",
    "from gensim.models import LdaModel\n",
    "from gensim.test.utils import common_texts\n",
    "from gensim.corpora import Dictionary, bleicorpus\n",
    "import pandas as pd\n",
    "BASE = 'C:\\\\Users\\\\basharm\\\\PythonJupyter\\\\CoVID19CodeGit\\\\data\\\\initial_data\\\\'"
   ]
  },
  {
   "cell_type": "markdown",
   "metadata": {},
   "source": [
    "### Read data"
   ]
  },
  {
   "cell_type": "code",
   "execution_count": 2,
   "metadata": {
    "scrolled": true
   },
   "outputs": [
    {
     "data": {
      "text/html": [
       "<div>\n",
       "<style scoped>\n",
       "    .dataframe tbody tr th:only-of-type {\n",
       "        vertical-align: middle;\n",
       "    }\n",
       "\n",
       "    .dataframe tbody tr th {\n",
       "        vertical-align: top;\n",
       "    }\n",
       "\n",
       "    .dataframe thead th {\n",
       "        text-align: right;\n",
       "    }\n",
       "</style>\n",
       "<table border=\"1\" class=\"dataframe\">\n",
       "  <thead>\n",
       "    <tr style=\"text-align: right;\">\n",
       "      <th></th>\n",
       "      <th>created_at</th>\n",
       "      <th>verified</th>\n",
       "      <th>name</th>\n",
       "      <th>full_text</th>\n",
       "      <th>location</th>\n",
       "      <th>followers_count</th>\n",
       "      <th>friends_count</th>\n",
       "    </tr>\n",
       "  </thead>\n",
       "  <tbody>\n",
       "    <tr>\n",
       "      <th>0</th>\n",
       "      <td>2020-03-07 11:48:47+00:00</td>\n",
       "      <td>False</td>\n",
       "      <td>occhionotizie.it</td>\n",
       "      <td>lattacco del governatore</td>\n",
       "      <td>Salerno, Campania</td>\n",
       "      <td>2647</td>\n",
       "      <td>81</td>\n",
       "    </tr>\n",
       "    <tr>\n",
       "      <th>1</th>\n",
       "      <td>2020-03-07 11:48:47+00:00</td>\n",
       "      <td>False</td>\n",
       "      <td>Pierre Beaudin M.Ed.</td>\n",
       "      <td>selfquarantine challenging may think good advi...</td>\n",
       "      <td>Canada</td>\n",
       "      <td>2806</td>\n",
       "      <td>4993</td>\n",
       "    </tr>\n",
       "    <tr>\n",
       "      <th>2</th>\n",
       "      <td>2020-03-07 11:48:47+00:00</td>\n",
       "      <td>False</td>\n",
       "      <td>GEGENPAPST</td>\n",
       "      <td>coronavirus gesundheitsministerium beschließt ...</td>\n",
       "      <td>WAHALLA</td>\n",
       "      <td>182</td>\n",
       "      <td>1095</td>\n",
       "    </tr>\n",
       "    <tr>\n",
       "      <th>3</th>\n",
       "      <td>2020-03-07 11:48:48+00:00</td>\n",
       "      <td>False</td>\n",
       "      <td>Lay Zhang Thailand</td>\n",
       "      <td>200307 youku weibo update layzhang บอสมาสอนทำค...</td>\n",
       "      <td>Bangkok, Thailand</td>\n",
       "      <td>1299</td>\n",
       "      <td>48</td>\n",
       "    </tr>\n",
       "    <tr>\n",
       "      <th>4</th>\n",
       "      <td>2020-03-07 11:48:48+00:00</td>\n",
       "      <td>False</td>\n",
       "      <td>Chinese Tea Master</td>\n",
       "      <td>to people think ok joke sacrifice wuhancitizen...</td>\n",
       "      <td>Belgium</td>\n",
       "      <td>101</td>\n",
       "      <td>197</td>\n",
       "    </tr>\n",
       "  </tbody>\n",
       "</table>\n",
       "</div>"
      ],
      "text/plain": [
       "                  created_at  verified                  name  \\\n",
       "0  2020-03-07 11:48:47+00:00     False      occhionotizie.it   \n",
       "1  2020-03-07 11:48:47+00:00     False  Pierre Beaudin M.Ed.   \n",
       "2  2020-03-07 11:48:47+00:00     False            GEGENPAPST   \n",
       "3  2020-03-07 11:48:48+00:00     False    Lay Zhang Thailand   \n",
       "4  2020-03-07 11:48:48+00:00     False    Chinese Tea Master   \n",
       "\n",
       "                                           full_text           location  \\\n",
       "0                           lattacco del governatore  Salerno, Campania   \n",
       "1  selfquarantine challenging may think good advi...             Canada   \n",
       "2  coronavirus gesundheitsministerium beschließt ...            WAHALLA   \n",
       "3  200307 youku weibo update layzhang บอสมาสอนทำค...  Bangkok, Thailand   \n",
       "4  to people think ok joke sacrifice wuhancitizen...            Belgium   \n",
       "\n",
       "   followers_count  friends_count  \n",
       "0             2647             81  \n",
       "1             2806           4993  \n",
       "2              182           1095  \n",
       "3             1299             48  \n",
       "4              101            197  "
      ]
     },
     "execution_count": 2,
     "metadata": {},
     "output_type": "execute_result"
    }
   ],
   "source": [
    "df_in = pd.read_csv(BASE+'links_only_sorted_pp.csv', encoding = 'utf8')\n",
    "#df_in = df_in.iloc[:10]\n",
    "df_in.head(5)"
   ]
  },
  {
   "cell_type": "markdown",
   "metadata": {},
   "source": [
    "### Prepare Data"
   ]
  },
  {
   "cell_type": "code",
   "execution_count": 3,
   "metadata": {},
   "outputs": [],
   "source": [
    "corpus = map(lambda x: x.split(), list(df_in['full_text']))"
   ]
  },
  {
   "cell_type": "code",
   "execution_count": 4,
   "metadata": {},
   "outputs": [],
   "source": [
    "corpus = list(corpus)"
   ]
  },
  {
   "cell_type": "code",
   "execution_count": 5,
   "metadata": {},
   "outputs": [],
   "source": [
    "corpus_dictionary = Dictionary(corpus)"
   ]
  },
  {
   "cell_type": "code",
   "execution_count": 6,
   "metadata": {},
   "outputs": [],
   "source": [
    "#list(corpus_dictionary.items())"
   ]
  },
  {
   "cell_type": "code",
   "execution_count": 7,
   "metadata": {},
   "outputs": [],
   "source": [
    "bow_corpus = [corpus_dictionary.doc2bow(text) for text in corpus]"
   ]
  },
  {
   "cell_type": "code",
   "execution_count": 8,
   "metadata": {},
   "outputs": [],
   "source": [
    "#bow_corpus"
   ]
  },
  {
   "cell_type": "markdown",
   "metadata": {},
   "source": [
    "### Train Model"
   ]
  },
  {
   "cell_type": "code",
   "execution_count": 9,
   "metadata": {},
   "outputs": [],
   "source": [
    "#lda = LdaModel(bow_corpus, num_topics=10)\n",
    "lda = LdaModel(corpus=bow_corpus, id2word=corpus_dictionary, num_topics=10)"
   ]
  },
  {
   "cell_type": "markdown",
   "metadata": {},
   "source": [
    "### Save a model to disk, or reload a pre-trained model"
   ]
  },
  {
   "cell_type": "code",
   "execution_count": 10,
   "metadata": {},
   "outputs": [
    {
     "name": "stderr",
     "output_type": "stream",
     "text": [
      "C:\\Users\\basharm\\AppData\\Local\\Continuum\\anaconda3\\lib\\site-packages\\smart_open\\smart_open_lib.py:398: UserWarning: This function is deprecated, use smart_open.open instead. See the migration notes for details: https://github.com/RaRe-Technologies/smart_open/blob/master/README.rst#migrating-to-the-new-open-function\n",
      "  'See the migration notes for details: %s' % _MIGRATION_NOTES_URL\n"
     ]
    }
   ],
   "source": [
    "from gensim.test.utils import datapath\n",
    "temp_file = \"model\"\n",
    "lda.save(temp_file)\n",
    "lda = LdaModel.load(temp_file)"
   ]
  },
  {
   "cell_type": "code",
   "execution_count": 11,
   "metadata": {},
   "outputs": [
    {
     "data": {
      "text/plain": [
       "[(63, 0.05288284),\n",
       " (14, 0.03702635),\n",
       " (53, 0.017977444),\n",
       " (197, 0.01397884),\n",
       " (624, 0.012954778),\n",
       " (259, 0.012472432),\n",
       " (336, 0.011465348),\n",
       " (62, 0.01066079),\n",
       " (605, 0.0088093635),\n",
       " (506, 0.008490001)]"
      ]
     },
     "execution_count": 11,
     "metadata": {},
     "output_type": "execute_result"
    }
   ],
   "source": [
    "lda.get_topic_terms(1,10)"
   ]
  },
  {
   "cell_type": "code",
   "execution_count": 35,
   "metadata": {},
   "outputs": [
    {
     "data": {
      "text/plain": [
       "[(0, 0.010000284),\n",
       " (1, 0.45697695),\n",
       " (2, 0.01000157),\n",
       " (3, 0.010000603),\n",
       " (4, 0.010000008),\n",
       " (5, 0.010000123),\n",
       " (7, 0.010000082),\n",
       " (8, 0.010000073),\n",
       " (9, 0.46302032)]"
      ]
     },
     "execution_count": 35,
     "metadata": {},
     "output_type": "execute_result"
    }
   ],
   "source": [
    "lda.get_document_topics(bow_corpus[1])"
   ]
  },
  {
   "cell_type": "code",
   "execution_count": 13,
   "metadata": {},
   "outputs": [
    {
     "data": {
      "text/plain": [
       "[(0, '0.022*\"coronavirus\" + 0.021*\"covid19\" + 0.019*\"le\" + 0.018*\"de\"'),\n",
       " (1, '0.053*\"-pron-\" + 0.037*\"coronavirus\" + 0.018*\"covid19\" + 0.014*\"be\"'),\n",
       " (2, '0.078*\"coronavirus\" + 0.019*\"via\" + 0.016*\"covid19\" + 0.014*\"outbreak\"'),\n",
       " (3, '0.056*\"coronavirus\" + 0.041*\"case\" + 0.017*\"covid19\" + 0.016*\"new\"'),\n",
       " (4, '0.029*\"covid19\" + 0.016*\"。\" + 0.012*\"sa\" + 0.008*\"️\"'),\n",
       " (5, '0.045*\"coronavirus\" + 0.024*\"di\" + 0.012*\"e\" + 0.012*\"per\"'),\n",
       " (6, '0.066*\"de\" + 0.051*\"el\" + 0.048*\"coronavirus\" + 0.042*\"en\"'),\n",
       " (7, '0.019*\"de\" + 0.012*\"caso\" + 0.009*\"coronavirus\" + 0.009*\"coronavírus\"'),\n",
       " (8,\n",
       "  '0.030*\"covid2019\" + 0.029*\"coronavirusoutbreak\" + 0.029*\"coronavirus\" + 0.023*\"covid19\"'),\n",
       " (9, '0.040*\"coronavirus\" + 0.012*\"ted\" + 0.011*\"know\" + 0.009*\"hand\"')]"
      ]
     },
     "execution_count": 13,
     "metadata": {},
     "output_type": "execute_result"
    }
   ],
   "source": [
    "lda.print_topics(num_words=4)"
   ]
  },
  {
   "cell_type": "code",
   "execution_count": null,
   "metadata": {},
   "outputs": [],
   "source": []
  },
  {
   "cell_type": "code",
   "execution_count": 45,
   "metadata": {},
   "outputs": [],
   "source": [
    "all_doc_topics = []\n",
    "for bow in bow_corpus:\n",
    "    doc_topics = [0]*10\n",
    "    dists = lda.get_document_topics(bow)\n",
    "    for dist in dists:\n",
    "        doc_topics[dist[0]] = dist[1]\n",
    "    all_doc_topics.append(doc_topics)\n"
   ]
  },
  {
   "cell_type": "code",
   "execution_count": 51,
   "metadata": {},
   "outputs": [],
   "source": [
    "all_doc_topics = np.array(all_doc_topics)"
   ]
  },
  {
   "cell_type": "code",
   "execution_count": 54,
   "metadata": {},
   "outputs": [
    {
     "data": {
      "text/plain": [
       "array([0.02500705, 0.01000028, 0.01111217, ..., 0.        , 0.10544534,\n",
       "       0.        ])"
      ]
     },
     "execution_count": 54,
     "metadata": {},
     "output_type": "execute_result"
    }
   ],
   "source": [
    "all_doc_topics = all_doc_topics.transpose()\n",
    "all_doc_topics[0]"
   ]
  },
  {
   "cell_type": "code",
   "execution_count": 14,
   "metadata": {},
   "outputs": [],
   "source": [
    "## Plot\n",
    "from PIL import Image\n",
    "import matplotlib.pyplot as plt\n",
    "%matplotlib inline"
   ]
  },
  {
   "cell_type": "code",
   "execution_count": 87,
   "metadata": {},
   "outputs": [
    {
     "data": {
      "text/plain": [
       "6078"
      ]
     },
     "execution_count": 87,
     "metadata": {},
     "output_type": "execute_result"
    }
   ],
   "source": [
    "bin_size = int(len(all_doc_topics[0])/104)\n",
    "bin_size"
   ]
  },
  {
   "cell_type": "code",
   "execution_count": 105,
   "metadata": {},
   "outputs": [],
   "source": [
    "topic_bins = []\n",
    "for idx in range(10):\n",
    "    bins = []\n",
    "    sum_=0\n",
    "    for i, val in enumerate(all_doc_topics[idx]):\n",
    "        sum_+=val\n",
    "        if i%bin_size==0:\n",
    "            bins.append(sum_/bin_size)\n",
    "            sum_=0\n",
    "    topic_bins.append(bins)"
   ]
  },
  {
   "cell_type": "code",
   "execution_count": 107,
   "metadata": {},
   "outputs": [
    {
     "data": {
      "text/plain": [
       "Text(0, 0.5, 'Intensity')"
      ]
     },
     "execution_count": 107,
     "metadata": {},
     "output_type": "execute_result"
    },
    {
     "data": {
      "image/png": "[encoded data removed]",
      "text/plain": [
       "<Figure size 432x288 with 1 Axes>"
      ]
     },
     "metadata": {
      "needs_background": "light"
     },
     "output_type": "display_data"
    }
   ],
   "source": [
    "#plt.plot(range(len(all_doc_topics[0])), all_doc_topics[0])\n",
    "plt.plot(range(len(topic_bins[0])), topic_bins[0])\n",
    "plt.plot(range(len(topic_bins[0])), topic_bins[1])\n",
    "plt.plot(range(len(topic_bins[0])), topic_bins[2])\n",
    "plt.plot(range(len(topic_bins[0])), topic_bins[3])\n",
    "plt.plot(range(len(topic_bins[0])), topic_bins[4])\n",
    "plt.plot(range(len(topic_bins[0])), topic_bins[5])\n",
    "plt.plot(range(len(topic_bins[0])), topic_bins[6])\n",
    "plt.plot(range(len(topic_bins[0])), topic_bins[7])\n",
    "plt.plot(range(len(topic_bins[0])), topic_bins[8])\n",
    "plt.plot(range(len(topic_bins[0])), topic_bins[9])\n",
    "plt.legend(['Topic '+str(x) for x in range(10)], loc='best')\n",
    "plt.grid(True)\n",
    "plt.xlabel('Time')\n",
    "plt.ylabel('Intensity')\n",
    "#plt.show()"
   ]
  },
  {
   "cell_type": "code",
   "execution_count": 65,
   "metadata": {},
   "outputs": [
    {
     "data": {
      "text/plain": [
       "Text(0, 0.5, 'Intensity')"
      ]
     },
     "execution_count": 65,
     "metadata": {},
     "output_type": "execute_result"
    },
    {
     "data": {
      "image/png": "[encoded data removed]",
      "text/plain": [
       "<Figure size 432x288 with 1 Axes>"
      ]
     },
     "metadata": {
      "needs_background": "light"
     },
     "output_type": "display_data"
    }
   ],
   "source": [
    "#plt.plot(range(len(all_doc_topics[0])), all_doc_topics[0])\n",
    "plt.plot(range(len(all_doc_topics[1])), all_doc_topics[9])\n",
    "plt.legend(['Topic 1', 'Topic 2'])\n",
    "plt.grid(True)\n",
    "plt.xlabel('Time')\n",
    "plt.ylabel('Intensity')\n",
    "#plt.show()"
   ]
  },
  {
   "cell_type": "code",
   "execution_count": 110,
   "metadata": {},
   "outputs": [
    {
     "data": {
      "image/png": "[encoded data removed]",
      "text/plain": [
       "<Figure size 432x288 with 2 Axes>"
      ]
     },
     "metadata": {
      "needs_background": "light"
     },
     "output_type": "display_data"
    }
   ],
   "source": [
    "import numpy as np\n",
    "a = np.random.random((20, 10))\n",
    "plt.imshow(topic_bins, cmap='RdBu', interpolation='nearest')\n",
    "plt.colorbar()\n",
    "plt.show()"
   ]
  },
  {
   "cell_type": "code",
   "execution_count": 46,
   "metadata": {},
   "outputs": [
    {
     "data": {
      "text/plain": [
       "array([[0.84078282, 0.02863675, 0.83084149, 0.71640144, 0.42919998,\n",
       "        0.81692515, 0.8855945 , 0.27073994, 0.33818339, 0.55861337],\n",
       "       [0.4349686 , 0.76799145, 0.95620354, 0.56822812, 0.88214463,\n",
       "        0.40127787, 0.80377066, 0.9379778 , 0.99801782, 0.12565488],\n",
       "       [0.12592867, 0.35690866, 0.16078802, 0.69776472, 0.15070052,\n",
       "        0.98207484, 0.77830692, 0.84059091, 0.39552739, 0.67321268],\n",
       "       [0.11051294, 0.62115428, 0.99377474, 0.6738963 , 0.09536661,\n",
       "        0.5445395 , 0.36254158, 0.50648903, 0.45913306, 0.14226701],\n",
       "       [0.22898999, 0.54945521, 0.24860779, 0.402351  , 0.95285489,\n",
       "        0.02545708, 0.17200247, 0.69626717, 0.61809971, 0.6028618 ],\n",
       "       [0.45759169, 0.91633093, 0.4495903 , 0.73576128, 0.84974734,\n",
       "        0.27470341, 0.33144222, 0.67368234, 0.76640498, 0.47504499],\n",
       "       [0.16893128, 0.44571263, 0.88644197, 0.97464537, 0.87943791,\n",
       "        0.56768874, 0.46622755, 0.86701504, 0.22983402, 0.11791324],\n",
       "       [0.99078675, 0.30608215, 0.39822334, 0.66577005, 0.43340824,\n",
       "        0.79376983, 0.94294923, 0.45124832, 0.00688265, 0.45821876],\n",
       "       [0.7297645 , 0.63001066, 0.34040786, 0.37092865, 0.55557973,\n",
       "        0.59080958, 0.74158161, 0.23779275, 0.87105925, 0.55554252],\n",
       "       [0.4096556 , 0.93051989, 0.03772143, 0.00746167, 0.01112185,\n",
       "        0.69615435, 0.58930991, 0.69006735, 0.31191812, 0.86505241],\n",
       "       [0.06878214, 0.41059596, 0.39171613, 0.39714586, 0.90999902,\n",
       "        0.46614106, 0.04350634, 0.11051932, 0.71037229, 0.2542838 ],\n",
       "       [0.70671339, 0.3278054 , 0.19806614, 0.81481615, 0.39808374,\n",
       "        0.69718403, 0.827727  , 0.23139126, 0.7435472 , 0.59560575],\n",
       "       [0.39665617, 0.03583967, 0.93049078, 0.67642165, 0.00370334,\n",
       "        0.57935434, 0.96352316, 0.1194644 , 0.74474433, 0.32639246],\n",
       "       [0.22803505, 0.7399425 , 0.76855424, 0.50419795, 0.802739  ,\n",
       "        0.22873174, 0.6827671 , 0.09361912, 0.07104382, 0.31827588],\n",
       "       [0.19469216, 0.29165473, 0.05314154, 0.93901835, 0.69311127,\n",
       "        0.76702256, 0.22838631, 0.32732186, 0.40088184, 0.53908132],\n",
       "       [0.06268789, 0.65795987, 0.29235891, 0.96428572, 0.45649336,\n",
       "        0.02784061, 0.65334057, 0.82761446, 0.69293706, 0.88952572],\n",
       "       [0.75476309, 0.52661606, 0.67841746, 0.71970065, 0.31065637,\n",
       "        0.45641539, 0.19206577, 0.73679342, 0.96937925, 0.94944467],\n",
       "       [0.54017149, 0.32979321, 0.03544931, 0.52796206, 0.49054584,\n",
       "        0.53173849, 0.47482595, 0.77864329, 0.67461267, 0.60670977],\n",
       "       [0.89288668, 0.06450785, 0.54967952, 0.23286235, 0.49415757,\n",
       "        0.98151202, 0.90110063, 0.76993472, 0.9318015 , 0.54290141],\n",
       "       [0.10821906, 0.59792807, 0.9243359 , 0.45062244, 0.53035212,\n",
       "        0.94628401, 0.55188558, 0.52069619, 0.12130207, 0.5120596 ]])"
      ]
     },
     "execution_count": 46,
     "metadata": {},
     "output_type": "execute_result"
    }
   ],
   "source": [
    "a"
   ]
  }
 ],
 "metadata": {
  "kernelspec": {
   "display_name": "Python 3",
   "language": "python",
   "name": "python3"
  },
  "language_info": {
   "codemirror_mode": {
    "name": "ipython",
    "version": 3
   },
   "file_extension": ".py",
   "mimetype": "text/x-python",
   "name": "python",
   "nbconvert_exporter": "python",
   "pygments_lexer": "ipython3",
   "version": "3.7.3"
  }
 },
 "nbformat": 4,
 "nbformat_minor": 2
}
