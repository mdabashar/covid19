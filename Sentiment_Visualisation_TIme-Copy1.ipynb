{
 "cells": [
  {
   "cell_type": "code",
   "execution_count": 7,
   "metadata": {},
   "outputs": [],
   "source": [
    "import pandas as pd"
   ]
  },
  {
   "cell_type": "code",
   "execution_count": 8,
   "metadata": {},
   "outputs": [
    {
     "data": {
      "text/plain": [
       "'C:\\\\Users\\\\basharm\\\\PythonJupyter\\\\CoVID19CodeGit\\\\data\\\\australian_space\\\\'"
      ]
     },
     "execution_count": 8,
     "metadata": {},
     "output_type": "execute_result"
    }
   ],
   "source": [
    "BASE_UNLABELLED = 'C:\\\\Users\\\\basharm\\\\PythonJupyter\\\\CoVID19CodeGit\\\\data\\\\australian_space\\\\'\n",
    "BASE_UNLABELLED"
   ]
  },
  {
   "cell_type": "code",
   "execution_count": 9,
   "metadata": {},
   "outputs": [],
   "source": [
    "df_in = pd.read_csv(BASE_UNLABELLED+'au_tweet_sentiment.csv', encoding='utf8')"
   ]
  },
  {
   "cell_type": "code",
   "execution_count": 6,
   "metadata": {},
   "outputs": [
    {
     "data": {
      "text/html": [
       "<div>\n",
       "<style scoped>\n",
       "    .dataframe tbody tr th:only-of-type {\n",
       "        vertical-align: middle;\n",
       "    }\n",
       "\n",
       "    .dataframe tbody tr th {\n",
       "        vertical-align: top;\n",
       "    }\n",
       "\n",
       "    .dataframe thead th {\n",
       "        text-align: right;\n",
       "    }\n",
       "</style>\n",
       "<table border=\"1\" class=\"dataframe\">\n",
       "  <thead>\n",
       "    <tr style=\"text-align: right;\">\n",
       "      <th></th>\n",
       "      <th>Text</th>\n",
       "      <th>Time</th>\n",
       "      <th>Location</th>\n",
       "      <th>Name</th>\n",
       "      <th>Sentiment</th>\n",
       "    </tr>\n",
       "  </thead>\n",
       "  <tbody>\n",
       "    <tr>\n",
       "      <th>0</th>\n",
       "      <td>bat sever human cell</td>\n",
       "      <td>2019-11-27 18:52:31</td>\n",
       "      <td>Australia</td>\n",
       "      <td>batpapers</td>\n",
       "      <td>1</td>\n",
       "    </tr>\n",
       "    <tr>\n",
       "      <th>1</th>\n",
       "      <td>virologist learn spread year later infect peni...</td>\n",
       "      <td>2019-12-05 19:55:24</td>\n",
       "      <td>NaN</td>\n",
       "      <td>tgk3130</td>\n",
       "      <td>0</td>\n",
       "    </tr>\n",
       "    <tr>\n",
       "      <th>2</th>\n",
       "      <td>remind flu flu think flu actual cold late</td>\n",
       "      <td>2019-12-09 06:21:20</td>\n",
       "      <td>Australia</td>\n",
       "      <td>DidiFrench</td>\n",
       "      <td>0</td>\n",
       "    </tr>\n",
       "    <tr>\n",
       "      <th>3</th>\n",
       "      <td>outbreak news east</td>\n",
       "      <td>2019-12-26 18:20:06</td>\n",
       "      <td>NaN</td>\n",
       "      <td>katrinamurphyir</td>\n",
       "      <td>0</td>\n",
       "    </tr>\n",
       "    <tr>\n",
       "      <th>4</th>\n",
       "      <td>detect sort known patient case time winter</td>\n",
       "      <td>2019-12-31 21:35:02</td>\n",
       "      <td>Australia</td>\n",
       "      <td>MackayIM</td>\n",
       "      <td>1</td>\n",
       "    </tr>\n",
       "  </tbody>\n",
       "</table>\n",
       "</div>"
      ],
      "text/plain": [
       "                                                Text                 Time  \\\n",
       "0                               bat sever human cell  2019-11-27 18:52:31   \n",
       "1  virologist learn spread year later infect peni...  2019-12-05 19:55:24   \n",
       "2          remind flu flu think flu actual cold late  2019-12-09 06:21:20   \n",
       "3                                 outbreak news east  2019-12-26 18:20:06   \n",
       "4         detect sort known patient case time winter  2019-12-31 21:35:02   \n",
       "\n",
       "    Location             Name  Sentiment  \n",
       "0  Australia        batpapers          1  \n",
       "1        NaN          tgk3130          0  \n",
       "2  Australia       DidiFrench          0  \n",
       "3        NaN  katrinamurphyir          0  \n",
       "4  Australia         MackayIM          1  "
      ]
     },
     "execution_count": 6,
     "metadata": {},
     "output_type": "execute_result"
    }
   ],
   "source": [
    "df_in.head()"
   ]
  },
  {
   "cell_type": "code",
   "execution_count": 10,
   "metadata": {},
   "outputs": [],
   "source": [
    "df_in['Time'] =pd.to_datetime(df_in['Time'])"
   ]
  },
  {
   "cell_type": "code",
   "execution_count": 11,
   "metadata": {},
   "outputs": [
    {
     "data": {
      "text/html": [
       "<div>\n",
       "<style scoped>\n",
       "    .dataframe tbody tr th:only-of-type {\n",
       "        vertical-align: middle;\n",
       "    }\n",
       "\n",
       "    .dataframe tbody tr th {\n",
       "        vertical-align: top;\n",
       "    }\n",
       "\n",
       "    .dataframe thead th {\n",
       "        text-align: right;\n",
       "    }\n",
       "</style>\n",
       "<table border=\"1\" class=\"dataframe\">\n",
       "  <thead>\n",
       "    <tr style=\"text-align: right;\">\n",
       "      <th></th>\n",
       "      <th>Text</th>\n",
       "      <th>Time</th>\n",
       "      <th>Location</th>\n",
       "      <th>Name</th>\n",
       "      <th>Sentiment</th>\n",
       "      <th>DinY</th>\n",
       "    </tr>\n",
       "  </thead>\n",
       "  <tbody>\n",
       "    <tr>\n",
       "      <th>0</th>\n",
       "      <td>bat sever human cell</td>\n",
       "      <td>2019-11-27 18:52:31</td>\n",
       "      <td>Australia</td>\n",
       "      <td>batpapers</td>\n",
       "      <td>1</td>\n",
       "      <td>331.0</td>\n",
       "    </tr>\n",
       "    <tr>\n",
       "      <th>1</th>\n",
       "      <td>virologist learn spread year later infect peni...</td>\n",
       "      <td>2019-12-05 19:55:24</td>\n",
       "      <td>NaN</td>\n",
       "      <td>tgk3130</td>\n",
       "      <td>0</td>\n",
       "      <td>339.0</td>\n",
       "    </tr>\n",
       "    <tr>\n",
       "      <th>2</th>\n",
       "      <td>remind flu flu think flu actual cold late</td>\n",
       "      <td>2019-12-09 06:21:20</td>\n",
       "      <td>Australia</td>\n",
       "      <td>DidiFrench</td>\n",
       "      <td>0</td>\n",
       "      <td>343.0</td>\n",
       "    </tr>\n",
       "    <tr>\n",
       "      <th>3</th>\n",
       "      <td>outbreak news east</td>\n",
       "      <td>2019-12-26 18:20:06</td>\n",
       "      <td>NaN</td>\n",
       "      <td>katrinamurphyir</td>\n",
       "      <td>0</td>\n",
       "      <td>360.0</td>\n",
       "    </tr>\n",
       "    <tr>\n",
       "      <th>4</th>\n",
       "      <td>detect sort known patient case time winter</td>\n",
       "      <td>2019-12-31 21:35:02</td>\n",
       "      <td>Australia</td>\n",
       "      <td>MackayIM</td>\n",
       "      <td>1</td>\n",
       "      <td>365.0</td>\n",
       "    </tr>\n",
       "  </tbody>\n",
       "</table>\n",
       "</div>"
      ],
      "text/plain": [
       "                                                Text                Time  \\\n",
       "0                               bat sever human cell 2019-11-27 18:52:31   \n",
       "1  virologist learn spread year later infect peni... 2019-12-05 19:55:24   \n",
       "2          remind flu flu think flu actual cold late 2019-12-09 06:21:20   \n",
       "3                                 outbreak news east 2019-12-26 18:20:06   \n",
       "4         detect sort known patient case time winter 2019-12-31 21:35:02   \n",
       "\n",
       "    Location             Name  Sentiment   DinY  \n",
       "0  Australia        batpapers          1  331.0  \n",
       "1        NaN          tgk3130          0  339.0  \n",
       "2  Australia       DidiFrench          0  343.0  \n",
       "3        NaN  katrinamurphyir          0  360.0  \n",
       "4  Australia         MackayIM          1  365.0  "
      ]
     },
     "execution_count": 11,
     "metadata": {},
     "output_type": "execute_result"
    }
   ],
   "source": [
    "df_in['DinY'] = df_in['Time'].dt.dayofyear + (df_in['Time'].dt.year-2019)*365\n",
    "df_in.head()"
   ]
  },
  {
   "cell_type": "code",
   "execution_count": 51,
   "metadata": {},
   "outputs": [],
   "source": [
    "#df_in['Time'].dt.dayofyear + (df_in['Time'].dt.year-2019)*365"
   ]
  },
  {
   "cell_type": "code",
   "execution_count": 12,
   "metadata": {},
   "outputs": [
    {
     "data": {
      "text/html": [
       "<div>\n",
       "<style scoped>\n",
       "    .dataframe tbody tr th:only-of-type {\n",
       "        vertical-align: middle;\n",
       "    }\n",
       "\n",
       "    .dataframe tbody tr th {\n",
       "        vertical-align: top;\n",
       "    }\n",
       "\n",
       "    .dataframe thead th {\n",
       "        text-align: right;\n",
       "    }\n",
       "</style>\n",
       "<table border=\"1\" class=\"dataframe\">\n",
       "  <thead>\n",
       "    <tr style=\"text-align: right;\">\n",
       "      <th></th>\n",
       "      <th>Text</th>\n",
       "      <th>Time</th>\n",
       "      <th>Location</th>\n",
       "      <th>Name</th>\n",
       "      <th>Sentiment</th>\n",
       "      <th>DinY</th>\n",
       "      <th>WinY</th>\n",
       "    </tr>\n",
       "  </thead>\n",
       "  <tbody>\n",
       "    <tr>\n",
       "      <th>0</th>\n",
       "      <td>bat sever human cell</td>\n",
       "      <td>2019-11-27 18:52:31</td>\n",
       "      <td>Australia</td>\n",
       "      <td>batpapers</td>\n",
       "      <td>1</td>\n",
       "      <td>331.0</td>\n",
       "      <td>48.0</td>\n",
       "    </tr>\n",
       "    <tr>\n",
       "      <th>1</th>\n",
       "      <td>virologist learn spread year later infect peni...</td>\n",
       "      <td>2019-12-05 19:55:24</td>\n",
       "      <td>NaN</td>\n",
       "      <td>tgk3130</td>\n",
       "      <td>0</td>\n",
       "      <td>339.0</td>\n",
       "      <td>49.0</td>\n",
       "    </tr>\n",
       "    <tr>\n",
       "      <th>2</th>\n",
       "      <td>remind flu flu think flu actual cold late</td>\n",
       "      <td>2019-12-09 06:21:20</td>\n",
       "      <td>Australia</td>\n",
       "      <td>DidiFrench</td>\n",
       "      <td>0</td>\n",
       "      <td>343.0</td>\n",
       "      <td>50.0</td>\n",
       "    </tr>\n",
       "    <tr>\n",
       "      <th>3</th>\n",
       "      <td>outbreak news east</td>\n",
       "      <td>2019-12-26 18:20:06</td>\n",
       "      <td>NaN</td>\n",
       "      <td>katrinamurphyir</td>\n",
       "      <td>0</td>\n",
       "      <td>360.0</td>\n",
       "      <td>52.0</td>\n",
       "    </tr>\n",
       "    <tr>\n",
       "      <th>4</th>\n",
       "      <td>detect sort known patient case time winter</td>\n",
       "      <td>2019-12-31 21:35:02</td>\n",
       "      <td>Australia</td>\n",
       "      <td>MackayIM</td>\n",
       "      <td>1</td>\n",
       "      <td>365.0</td>\n",
       "      <td>1.0</td>\n",
       "    </tr>\n",
       "    <tr>\n",
       "      <th>5</th>\n",
       "      <td>east viral novel east wa</td>\n",
       "      <td>2020-01-01 06:58:55</td>\n",
       "      <td>Saudi</td>\n",
       "      <td>Da5eel</td>\n",
       "      <td>1</td>\n",
       "      <td>366.0</td>\n",
       "      <td>53.0</td>\n",
       "    </tr>\n",
       "    <tr>\n",
       "      <th>6</th>\n",
       "      <td>wait news china talk social media sever ill pa...</td>\n",
       "      <td>2020-01-01 11:07:07</td>\n",
       "      <td>Australia</td>\n",
       "      <td>MackayIM</td>\n",
       "      <td>1</td>\n",
       "      <td>366.0</td>\n",
       "      <td>53.0</td>\n",
       "    </tr>\n",
       "    <tr>\n",
       "      <th>7</th>\n",
       "      <td>purport lab report share medic detect result h...</td>\n",
       "      <td>2020-01-01 15:18:56</td>\n",
       "      <td>NaN</td>\n",
       "      <td>alexandraphelan</td>\n",
       "      <td>0</td>\n",
       "      <td>366.0</td>\n",
       "      <td>53.0</td>\n",
       "    </tr>\n",
       "    <tr>\n",
       "      <th>8</th>\n",
       "      <td>comment genet segment wa detect corona</td>\n",
       "      <td>2020-01-01 21:05:03</td>\n",
       "      <td>Australia</td>\n",
       "      <td>MackayIM</td>\n",
       "      <td>1</td>\n",
       "      <td>366.0</td>\n",
       "      <td>53.0</td>\n",
       "    </tr>\n",
       "    <tr>\n",
       "      <th>9</th>\n",
       "      <td>hong level pneumonia outbreak word sar era aw ...</td>\n",
       "      <td>2020-01-05 05:05:36</td>\n",
       "      <td>Australia</td>\n",
       "      <td>drng</td>\n",
       "      <td>0</td>\n",
       "      <td>370.0</td>\n",
       "      <td>53.0</td>\n",
       "    </tr>\n",
       "  </tbody>\n",
       "</table>\n",
       "</div>"
      ],
      "text/plain": [
       "                                                Text                Time  \\\n",
       "0                               bat sever human cell 2019-11-27 18:52:31   \n",
       "1  virologist learn spread year later infect peni... 2019-12-05 19:55:24   \n",
       "2          remind flu flu think flu actual cold late 2019-12-09 06:21:20   \n",
       "3                                 outbreak news east 2019-12-26 18:20:06   \n",
       "4         detect sort known patient case time winter 2019-12-31 21:35:02   \n",
       "5                           east viral novel east wa 2020-01-01 06:58:55   \n",
       "6  wait news china talk social media sever ill pa... 2020-01-01 11:07:07   \n",
       "7  purport lab report share medic detect result h... 2020-01-01 15:18:56   \n",
       "8             comment genet segment wa detect corona 2020-01-01 21:05:03   \n",
       "9  hong level pneumonia outbreak word sar era aw ... 2020-01-05 05:05:36   \n",
       "\n",
       "    Location             Name  Sentiment   DinY  WinY  \n",
       "0  Australia        batpapers          1  331.0  48.0  \n",
       "1        NaN          tgk3130          0  339.0  49.0  \n",
       "2  Australia       DidiFrench          0  343.0  50.0  \n",
       "3        NaN  katrinamurphyir          0  360.0  52.0  \n",
       "4  Australia         MackayIM          1  365.0   1.0  \n",
       "5      Saudi           Da5eel          1  366.0  53.0  \n",
       "6  Australia         MackayIM          1  366.0  53.0  \n",
       "7        NaN  alexandraphelan          0  366.0  53.0  \n",
       "8  Australia         MackayIM          1  366.0  53.0  \n",
       "9  Australia             drng          0  370.0  53.0  "
      ]
     },
     "execution_count": 12,
     "metadata": {},
     "output_type": "execute_result"
    }
   ],
   "source": [
    "df_in['WinY'] = df_in['Time'].dt.week + (df_in['Time'].dt.year-2019)*52\n",
    "df_in.head(10)"
   ]
  },
  {
   "cell_type": "code",
   "execution_count": 13,
   "metadata": {},
   "outputs": [
    {
     "data": {
      "text/html": [
       "<div>\n",
       "<style scoped>\n",
       "    .dataframe tbody tr th:only-of-type {\n",
       "        vertical-align: middle;\n",
       "    }\n",
       "\n",
       "    .dataframe tbody tr th {\n",
       "        vertical-align: top;\n",
       "    }\n",
       "\n",
       "    .dataframe thead th {\n",
       "        text-align: right;\n",
       "    }\n",
       "</style>\n",
       "<table border=\"1\" class=\"dataframe\">\n",
       "  <thead>\n",
       "    <tr style=\"text-align: right;\">\n",
       "      <th></th>\n",
       "      <th>Text</th>\n",
       "      <th>Time</th>\n",
       "      <th>Location</th>\n",
       "      <th>Name</th>\n",
       "      <th>Sentiment</th>\n",
       "      <th>DinY</th>\n",
       "      <th>WinY</th>\n",
       "      <th>MinY</th>\n",
       "    </tr>\n",
       "  </thead>\n",
       "  <tbody>\n",
       "    <tr>\n",
       "      <th>0</th>\n",
       "      <td>bat sever human cell</td>\n",
       "      <td>2019-11-27 18:52:31</td>\n",
       "      <td>Australia</td>\n",
       "      <td>batpapers</td>\n",
       "      <td>1</td>\n",
       "      <td>331.0</td>\n",
       "      <td>48.0</td>\n",
       "      <td>11.0</td>\n",
       "    </tr>\n",
       "    <tr>\n",
       "      <th>1</th>\n",
       "      <td>virologist learn spread year later infect peni...</td>\n",
       "      <td>2019-12-05 19:55:24</td>\n",
       "      <td>NaN</td>\n",
       "      <td>tgk3130</td>\n",
       "      <td>0</td>\n",
       "      <td>339.0</td>\n",
       "      <td>49.0</td>\n",
       "      <td>12.0</td>\n",
       "    </tr>\n",
       "    <tr>\n",
       "      <th>2</th>\n",
       "      <td>remind flu flu think flu actual cold late</td>\n",
       "      <td>2019-12-09 06:21:20</td>\n",
       "      <td>Australia</td>\n",
       "      <td>DidiFrench</td>\n",
       "      <td>0</td>\n",
       "      <td>343.0</td>\n",
       "      <td>50.0</td>\n",
       "      <td>12.0</td>\n",
       "    </tr>\n",
       "    <tr>\n",
       "      <th>3</th>\n",
       "      <td>outbreak news east</td>\n",
       "      <td>2019-12-26 18:20:06</td>\n",
       "      <td>NaN</td>\n",
       "      <td>katrinamurphyir</td>\n",
       "      <td>0</td>\n",
       "      <td>360.0</td>\n",
       "      <td>52.0</td>\n",
       "      <td>12.0</td>\n",
       "    </tr>\n",
       "    <tr>\n",
       "      <th>4</th>\n",
       "      <td>detect sort known patient case time winter</td>\n",
       "      <td>2019-12-31 21:35:02</td>\n",
       "      <td>Australia</td>\n",
       "      <td>MackayIM</td>\n",
       "      <td>1</td>\n",
       "      <td>365.0</td>\n",
       "      <td>1.0</td>\n",
       "      <td>12.0</td>\n",
       "    </tr>\n",
       "    <tr>\n",
       "      <th>5</th>\n",
       "      <td>east viral novel east wa</td>\n",
       "      <td>2020-01-01 06:58:55</td>\n",
       "      <td>Saudi</td>\n",
       "      <td>Da5eel</td>\n",
       "      <td>1</td>\n",
       "      <td>366.0</td>\n",
       "      <td>53.0</td>\n",
       "      <td>13.0</td>\n",
       "    </tr>\n",
       "    <tr>\n",
       "      <th>6</th>\n",
       "      <td>wait news china talk social media sever ill pa...</td>\n",
       "      <td>2020-01-01 11:07:07</td>\n",
       "      <td>Australia</td>\n",
       "      <td>MackayIM</td>\n",
       "      <td>1</td>\n",
       "      <td>366.0</td>\n",
       "      <td>53.0</td>\n",
       "      <td>13.0</td>\n",
       "    </tr>\n",
       "    <tr>\n",
       "      <th>7</th>\n",
       "      <td>purport lab report share medic detect result h...</td>\n",
       "      <td>2020-01-01 15:18:56</td>\n",
       "      <td>NaN</td>\n",
       "      <td>alexandraphelan</td>\n",
       "      <td>0</td>\n",
       "      <td>366.0</td>\n",
       "      <td>53.0</td>\n",
       "      <td>13.0</td>\n",
       "    </tr>\n",
       "    <tr>\n",
       "      <th>8</th>\n",
       "      <td>comment genet segment wa detect corona</td>\n",
       "      <td>2020-01-01 21:05:03</td>\n",
       "      <td>Australia</td>\n",
       "      <td>MackayIM</td>\n",
       "      <td>1</td>\n",
       "      <td>366.0</td>\n",
       "      <td>53.0</td>\n",
       "      <td>13.0</td>\n",
       "    </tr>\n",
       "    <tr>\n",
       "      <th>9</th>\n",
       "      <td>hong level pneumonia outbreak word sar era aw ...</td>\n",
       "      <td>2020-01-05 05:05:36</td>\n",
       "      <td>Australia</td>\n",
       "      <td>drng</td>\n",
       "      <td>0</td>\n",
       "      <td>370.0</td>\n",
       "      <td>53.0</td>\n",
       "      <td>13.0</td>\n",
       "    </tr>\n",
       "  </tbody>\n",
       "</table>\n",
       "</div>"
      ],
      "text/plain": [
       "                                                Text                Time  \\\n",
       "0                               bat sever human cell 2019-11-27 18:52:31   \n",
       "1  virologist learn spread year later infect peni... 2019-12-05 19:55:24   \n",
       "2          remind flu flu think flu actual cold late 2019-12-09 06:21:20   \n",
       "3                                 outbreak news east 2019-12-26 18:20:06   \n",
       "4         detect sort known patient case time winter 2019-12-31 21:35:02   \n",
       "5                           east viral novel east wa 2020-01-01 06:58:55   \n",
       "6  wait news china talk social media sever ill pa... 2020-01-01 11:07:07   \n",
       "7  purport lab report share medic detect result h... 2020-01-01 15:18:56   \n",
       "8             comment genet segment wa detect corona 2020-01-01 21:05:03   \n",
       "9  hong level pneumonia outbreak word sar era aw ... 2020-01-05 05:05:36   \n",
       "\n",
       "    Location             Name  Sentiment   DinY  WinY  MinY  \n",
       "0  Australia        batpapers          1  331.0  48.0  11.0  \n",
       "1        NaN          tgk3130          0  339.0  49.0  12.0  \n",
       "2  Australia       DidiFrench          0  343.0  50.0  12.0  \n",
       "3        NaN  katrinamurphyir          0  360.0  52.0  12.0  \n",
       "4  Australia         MackayIM          1  365.0   1.0  12.0  \n",
       "5      Saudi           Da5eel          1  366.0  53.0  13.0  \n",
       "6  Australia         MackayIM          1  366.0  53.0  13.0  \n",
       "7        NaN  alexandraphelan          0  366.0  53.0  13.0  \n",
       "8  Australia         MackayIM          1  366.0  53.0  13.0  \n",
       "9  Australia             drng          0  370.0  53.0  13.0  "
      ]
     },
     "execution_count": 13,
     "metadata": {},
     "output_type": "execute_result"
    }
   ],
   "source": [
    "df_in['MinY'] = df_in['Time'].dt.month + (df_in['Time'].dt.year-2019)*12\n",
    "df_in.head(10)"
   ]
  },
  {
   "cell_type": "code",
   "execution_count": 14,
   "metadata": {},
   "outputs": [],
   "source": [
    "import matplotlib.pyplot as plt"
   ]
  },
  {
   "cell_type": "code",
   "execution_count": 97,
   "metadata": {},
   "outputs": [
    {
     "data": {
      "image/png": "[encoded data removed]",
      "text/plain": [
       "<Figure size 432x288 with 1 Axes>"
      ]
     },
     "metadata": {
      "needs_background": "light"
     },
     "output_type": "display_data"
    }
   ],
   "source": [
    "tempo = 'DinY'\n",
    "sizes = df_in.groupby(tempo).Sentiment.size()\n",
    "maxi = max(sizes)\n",
    "plt.plot(df_in.groupby(tempo).Sentiment.size()/maxi)\n",
    "plt.plot(df_in.groupby(tempo).Sentiment.sum()/maxi)\n",
    "plt.plot(df_in.groupby(tempo).Sentiment.sum()/sizes)\n",
    "plt.ylabel('Sentiment')\n",
    "plt.xlabel('Day')\n",
    "plt.legend(['Total', 'Positive', 'Positive%'])\n",
    "plt.show()"
   ]
  },
  {
   "cell_type": "code",
   "execution_count": 101,
   "metadata": {},
   "outputs": [
    {
     "data": {
      "image/png": "[encoded data removed]",
      "text/plain": [
       "<Figure size 432x288 with 1 Axes>"
      ]
     },
     "metadata": {
      "needs_background": "light"
     },
     "output_type": "display_data"
    }
   ],
   "source": [
    "tempo = 'WinY'\n",
    "sizes = df_in.groupby(tempo).Sentiment.size()\n",
    "maxi = max(sizes)\n",
    "plt.plot(df_in.groupby(tempo).Sentiment.size()/maxi)\n",
    "plt.plot(df_in.groupby(tempo).Sentiment.sum()/maxi)\n",
    "plt.plot(df_in.groupby(tempo).Sentiment.sum()/sizes)\n",
    "plt.ylabel('Sentiment')\n",
    "plt.xlabel('Week')\n",
    "plt.legend(['Total', 'Positive', 'Positive%'])\n",
    "plt.show()"
   ]
  },
  {
   "cell_type": "code",
   "execution_count": 71,
   "metadata": {},
   "outputs": [],
   "source": [
    "df_in.drop( df_in[df_in['WinY'] == 1].index , inplace=True)"
   ]
  },
  {
   "cell_type": "code",
   "execution_count": 100,
   "metadata": {},
   "outputs": [
    {
     "data": {
      "image/png": "[encoded data removed]",
      "text/plain": [
       "<Figure size 432x288 with 1 Axes>"
      ]
     },
     "metadata": {
      "needs_background": "light"
     },
     "output_type": "display_data"
    }
   ],
   "source": [
    "tempo = 'MinY'\n",
    "sizes = df_in.groupby(tempo).Sentiment.size()\n",
    "maxi = max(sizes)\n",
    "plt.plot(df_in.groupby(tempo).Sentiment.size()/maxi)\n",
    "plt.plot(df_in.groupby(tempo).Sentiment.sum()/maxi)\n",
    "plt.plot(df_in.groupby(tempo).Sentiment.sum()/sizes)\n",
    "plt.ylabel('Sentiment')\n",
    "plt.xlabel('Month')\n",
    "plt.legend(['Total', 'Positive', 'Positive%'])\n",
    "plt.show()"
   ]
  },
  {
   "cell_type": "code",
   "execution_count": 102,
   "metadata": {},
   "outputs": [
    {
     "data": {
      "text/html": [
       "<div>\n",
       "<style scoped>\n",
       "    .dataframe tbody tr th:only-of-type {\n",
       "        vertical-align: middle;\n",
       "    }\n",
       "\n",
       "    .dataframe tbody tr th {\n",
       "        vertical-align: top;\n",
       "    }\n",
       "\n",
       "    .dataframe thead th {\n",
       "        text-align: right;\n",
       "    }\n",
       "</style>\n",
       "<table border=\"1\" class=\"dataframe\">\n",
       "  <thead>\n",
       "    <tr style=\"text-align: right;\">\n",
       "      <th></th>\n",
       "      <th>Text</th>\n",
       "      <th>Time</th>\n",
       "      <th>Location</th>\n",
       "      <th>Name</th>\n",
       "      <th>Sentiment</th>\n",
       "      <th>DinY</th>\n",
       "      <th>WinY</th>\n",
       "      <th>MinY</th>\n",
       "    </tr>\n",
       "  </thead>\n",
       "  <tbody>\n",
       "    <tr>\n",
       "      <th>5</th>\n",
       "      <td>east viral novel east wa</td>\n",
       "      <td>2020-01-01 06:58:55</td>\n",
       "      <td>Saudi</td>\n",
       "      <td>Da5eel</td>\n",
       "      <td>1</td>\n",
       "      <td>366</td>\n",
       "      <td>53</td>\n",
       "      <td>13</td>\n",
       "    </tr>\n",
       "    <tr>\n",
       "      <th>6</th>\n",
       "      <td>wait news china talk social media sever ill pa...</td>\n",
       "      <td>2020-01-01 11:07:07</td>\n",
       "      <td>Australia</td>\n",
       "      <td>MackayIM</td>\n",
       "      <td>1</td>\n",
       "      <td>366</td>\n",
       "      <td>53</td>\n",
       "      <td>13</td>\n",
       "    </tr>\n",
       "    <tr>\n",
       "      <th>7</th>\n",
       "      <td>purport lab report share medic detect result h...</td>\n",
       "      <td>2020-01-01 15:18:56</td>\n",
       "      <td>NaN</td>\n",
       "      <td>alexandraphelan</td>\n",
       "      <td>0</td>\n",
       "      <td>366</td>\n",
       "      <td>53</td>\n",
       "      <td>13</td>\n",
       "    </tr>\n",
       "    <tr>\n",
       "      <th>8</th>\n",
       "      <td>comment genet segment wa detect corona</td>\n",
       "      <td>2020-01-01 21:05:03</td>\n",
       "      <td>Australia</td>\n",
       "      <td>MackayIM</td>\n",
       "      <td>1</td>\n",
       "      <td>366</td>\n",
       "      <td>53</td>\n",
       "      <td>13</td>\n",
       "    </tr>\n",
       "    <tr>\n",
       "      <th>9</th>\n",
       "      <td>hong level pneumonia outbreak word sar era aw ...</td>\n",
       "      <td>2020-01-05 05:05:36</td>\n",
       "      <td>Australia</td>\n",
       "      <td>drng</td>\n",
       "      <td>0</td>\n",
       "      <td>370</td>\n",
       "      <td>53</td>\n",
       "      <td>13</td>\n",
       "    </tr>\n",
       "    <tr>\n",
       "      <th>10</th>\n",
       "      <td>usual suspect rule probabl new matter time sar...</td>\n",
       "      <td>2020-01-05 23:31:06</td>\n",
       "      <td>NaN</td>\n",
       "      <td>ketaminh</td>\n",
       "      <td>1</td>\n",
       "      <td>370</td>\n",
       "      <td>53</td>\n",
       "      <td>13</td>\n",
       "    </tr>\n",
       "    <tr>\n",
       "      <th>11</th>\n",
       "      <td>known ha report mention novel said</td>\n",
       "      <td>2020-01-07 15:59:11</td>\n",
       "      <td>NaN</td>\n",
       "      <td>Globalbiosec</td>\n",
       "      <td>1</td>\n",
       "      <td>372</td>\n",
       "      <td>54</td>\n",
       "      <td>13</td>\n",
       "    </tr>\n",
       "    <tr>\n",
       "      <th>12</th>\n",
       "      <td>report link novel pneumonia cluster</td>\n",
       "      <td>2020-01-08 14:47:51</td>\n",
       "      <td>Australia</td>\n",
       "      <td>MackayIM</td>\n",
       "      <td>0</td>\n",
       "      <td>373</td>\n",
       "      <td>54</td>\n",
       "      <td>13</td>\n",
       "    </tr>\n",
       "    <tr>\n",
       "      <th>13</th>\n",
       "      <td>A new thought live probabl mammal urban environ</td>\n",
       "      <td>2020-01-08 15:05:10</td>\n",
       "      <td>Australia</td>\n",
       "      <td>MackayIM</td>\n",
       "      <td>1</td>\n",
       "      <td>373</td>\n",
       "      <td>54</td>\n",
       "      <td>13</td>\n",
       "    </tr>\n",
       "    <tr>\n",
       "      <th>14</th>\n",
       "      <td>pneumonia ha novel china ha</td>\n",
       "      <td>2020-01-08 15:44:56</td>\n",
       "      <td>NaN</td>\n",
       "      <td>alexandraphelan</td>\n",
       "      <td>0</td>\n",
       "      <td>373</td>\n",
       "      <td>54</td>\n",
       "      <td>13</td>\n",
       "    </tr>\n",
       "    <tr>\n",
       "      <th>15</th>\n",
       "      <td>accord news report bat jump host pass human co...</td>\n",
       "      <td>2020-01-08 16:18:50</td>\n",
       "      <td>Saudi</td>\n",
       "      <td>AhmedShehrii</td>\n",
       "      <td>1</td>\n",
       "      <td>373</td>\n",
       "      <td>54</td>\n",
       "      <td>13</td>\n",
       "    </tr>\n",
       "    <tr>\n",
       "      <th>16</th>\n",
       "      <td>china novel found patient</td>\n",
       "      <td>2020-01-08 18:43:29</td>\n",
       "      <td>Canberra</td>\n",
       "      <td>Virologica</td>\n",
       "      <td>1</td>\n",
       "      <td>373</td>\n",
       "      <td>54</td>\n",
       "      <td>13</td>\n",
       "    </tr>\n",
       "    <tr>\n",
       "      <th>17</th>\n",
       "      <td>novel wa genet patient found basic act</td>\n",
       "      <td>2020-01-08 19:24:17</td>\n",
       "      <td>NaN</td>\n",
       "      <td>Globalbiosec</td>\n",
       "      <td>1</td>\n",
       "      <td>373</td>\n",
       "      <td>54</td>\n",
       "      <td>13</td>\n",
       "    </tr>\n",
       "    <tr>\n",
       "      <th>18</th>\n",
       "      <td>scientist ill ha sicken dozen central china ne...</td>\n",
       "      <td>2020-01-08 21:02:28</td>\n",
       "      <td>NaN</td>\n",
       "      <td>Ceballos_Gene</td>\n",
       "      <td>1</td>\n",
       "      <td>373</td>\n",
       "      <td>54</td>\n",
       "      <td>13</td>\n",
       "    </tr>\n",
       "    <tr>\n",
       "      <th>19</th>\n",
       "      <td>took tweet wa clear confirm author think new i...</td>\n",
       "      <td>2020-01-08 21:43:30</td>\n",
       "      <td>NaN</td>\n",
       "      <td>Dr_R_D</td>\n",
       "      <td>0</td>\n",
       "      <td>373</td>\n",
       "      <td>54</td>\n",
       "      <td>13</td>\n",
       "    </tr>\n",
       "    <tr>\n",
       "      <th>20</th>\n",
       "      <td>took tweet wa clear confirm author think new i...</td>\n",
       "      <td>2020-01-08 21:45:03</td>\n",
       "      <td>NaN</td>\n",
       "      <td>LRussellWolpe</td>\n",
       "      <td>0</td>\n",
       "      <td>373</td>\n",
       "      <td>54</td>\n",
       "      <td>13</td>\n",
       "    </tr>\n",
       "    <tr>\n",
       "      <th>21</th>\n",
       "      <td>took tweet wa clear confirm author think new i...</td>\n",
       "      <td>2020-01-08 21:54:54</td>\n",
       "      <td>Australia</td>\n",
       "      <td>gmopundit</td>\n",
       "      <td>0</td>\n",
       "      <td>373</td>\n",
       "      <td>54</td>\n",
       "      <td>13</td>\n",
       "    </tr>\n",
       "    <tr>\n",
       "      <th>22</th>\n",
       "      <td>new scientist pneumonia outbreak</td>\n",
       "      <td>2020-01-08 22:36:20</td>\n",
       "      <td>NaN</td>\n",
       "      <td>ProfPaulYoung</td>\n",
       "      <td>0</td>\n",
       "      <td>373</td>\n",
       "      <td>54</td>\n",
       "      <td>13</td>\n",
       "    </tr>\n",
       "    <tr>\n",
       "      <th>23</th>\n",
       "      <td>pneumonia ha novel china ha</td>\n",
       "      <td>2020-01-08 22:38:46</td>\n",
       "      <td>Australia</td>\n",
       "      <td>jwgale</td>\n",
       "      <td>0</td>\n",
       "      <td>373</td>\n",
       "      <td>54</td>\n",
       "      <td>13</td>\n",
       "    </tr>\n",
       "    <tr>\n",
       "      <th>24</th>\n",
       "      <td>concern novel ha outbreak gain unconfirm No cl...</td>\n",
       "      <td>2020-01-08 23:55:29</td>\n",
       "      <td>Australia</td>\n",
       "      <td>jwgale</td>\n",
       "      <td>0</td>\n",
       "      <td>373</td>\n",
       "      <td>54</td>\n",
       "      <td>13</td>\n",
       "    </tr>\n",
       "    <tr>\n",
       "      <th>25</th>\n",
       "      <td>concern novel ha outbreak gain unconfirm No cl...</td>\n",
       "      <td>2020-01-08 23:59:31</td>\n",
       "      <td>Canberra</td>\n",
       "      <td>CollignonPeter</td>\n",
       "      <td>0</td>\n",
       "      <td>373</td>\n",
       "      <td>54</td>\n",
       "      <td>13</td>\n",
       "    </tr>\n",
       "    <tr>\n",
       "      <th>26</th>\n",
       "      <td>virologist weigh novel china outbreak</td>\n",
       "      <td>2020-01-09 00:02:13</td>\n",
       "      <td>NaN</td>\n",
       "      <td>ProfPaulYoung</td>\n",
       "      <td>0</td>\n",
       "      <td>374</td>\n",
       "      <td>54</td>\n",
       "      <td>13</td>\n",
       "    </tr>\n",
       "    <tr>\n",
       "      <th>27</th>\n",
       "      <td>cluster pneumonia case china novel virus agent...</td>\n",
       "      <td>2020-01-09 00:06:44</td>\n",
       "      <td>Australia</td>\n",
       "      <td>Sound_K151</td>\n",
       "      <td>0</td>\n",
       "      <td>374</td>\n",
       "      <td>54</td>\n",
       "      <td>13</td>\n",
       "    </tr>\n",
       "    <tr>\n",
       "      <th>28</th>\n",
       "      <td>expert previous pneumonia central china ha con...</td>\n",
       "      <td>2020-01-09 00:55:41</td>\n",
       "      <td>NaN</td>\n",
       "      <td>Brockleb</td>\n",
       "      <td>0</td>\n",
       "      <td>374</td>\n",
       "      <td>54</td>\n",
       "      <td>13</td>\n",
       "    </tr>\n",
       "    <tr>\n",
       "      <th>29</th>\n",
       "      <td>alarm pneumonia outbreak central china previou...</td>\n",
       "      <td>2020-01-09 01:16:59</td>\n",
       "      <td>Sydney</td>\n",
       "      <td>BloombergAU</td>\n",
       "      <td>0</td>\n",
       "      <td>374</td>\n",
       "      <td>54</td>\n",
       "      <td>13</td>\n",
       "    </tr>\n",
       "    <tr>\n",
       "      <th>30</th>\n",
       "      <td>accord novel ha patient viral pneumonia outbre...</td>\n",
       "      <td>2020-01-09 01:19:12</td>\n",
       "      <td>Australia</td>\n",
       "      <td>1healthau</td>\n",
       "      <td>0</td>\n",
       "      <td>374</td>\n",
       "      <td>54</td>\n",
       "      <td>13</td>\n",
       "    </tr>\n",
       "    <tr>\n",
       "      <th>31</th>\n",
       "      <td>pneumonia new type accord test expert got pati...</td>\n",
       "      <td>2020-01-09 01:52:38</td>\n",
       "      <td>Queensland</td>\n",
       "      <td>kyliecchan</td>\n",
       "      <td>0</td>\n",
       "      <td>374</td>\n",
       "      <td>54</td>\n",
       "      <td>13</td>\n",
       "    </tr>\n",
       "    <tr>\n",
       "      <th>32</th>\n",
       "      <td>accord report A genom novel ha posit detect ba...</td>\n",
       "      <td>2020-01-09 02:04:35</td>\n",
       "      <td>NaN</td>\n",
       "      <td>jn2003</td>\n",
       "      <td>1</td>\n",
       "      <td>374</td>\n",
       "      <td>54</td>\n",
       "      <td>13</td>\n",
       "    </tr>\n",
       "    <tr>\n",
       "      <th>33</th>\n",
       "      <td>latest news state china central news cluster A...</td>\n",
       "      <td>2020-01-09 02:04:59</td>\n",
       "      <td>Australia</td>\n",
       "      <td>MackayIM</td>\n",
       "      <td>1</td>\n",
       "      <td>374</td>\n",
       "      <td>54</td>\n",
       "      <td>13</td>\n",
       "    </tr>\n",
       "    <tr>\n",
       "      <th>34</th>\n",
       "      <td>wa patient typic wa display electron</td>\n",
       "      <td>2020-01-09 02:06:39</td>\n",
       "      <td>Australia</td>\n",
       "      <td>MackayIM</td>\n",
       "      <td>1</td>\n",
       "      <td>374</td>\n",
       "      <td>54</td>\n",
       "      <td>13</td>\n",
       "    </tr>\n",
       "    <tr>\n",
       "      <th>...</th>\n",
       "      <td>...</td>\n",
       "      <td>...</td>\n",
       "      <td>...</td>\n",
       "      <td>...</td>\n",
       "      <td>...</td>\n",
       "      <td>...</td>\n",
       "      <td>...</td>\n",
       "      <td>...</td>\n",
       "    </tr>\n",
       "    <tr>\n",
       "      <th>99320</th>\n",
       "      <td>watch scam new</td>\n",
       "      <td>2020-01-31 23:57:05</td>\n",
       "      <td>Australia</td>\n",
       "      <td>_Virusman_</td>\n",
       "      <td>0</td>\n",
       "      <td>396</td>\n",
       "      <td>57</td>\n",
       "      <td>13</td>\n",
       "    </tr>\n",
       "    <tr>\n",
       "      <th>99321</th>\n",
       "      <td>unit state warn citizen avoid china health adm...</td>\n",
       "      <td>2020-01-31 23:57:16</td>\n",
       "      <td>Australia</td>\n",
       "      <td>kawunnee</td>\n",
       "      <td>1</td>\n",
       "      <td>396</td>\n",
       "      <td>57</td>\n",
       "      <td>13</td>\n",
       "    </tr>\n",
       "    <tr>\n",
       "      <th>99322</th>\n",
       "      <td>whoa close border new visitor china foreign pa...</td>\n",
       "      <td>2020-01-31 23:57:27</td>\n",
       "      <td>Australia</td>\n",
       "      <td>AngelaKorras</td>\n",
       "      <td>1</td>\n",
       "      <td>396</td>\n",
       "      <td>57</td>\n",
       "      <td>13</td>\n",
       "    </tr>\n",
       "    <tr>\n",
       "      <th>99323</th>\n",
       "      <td>alarm aspect happen china trust act truth publ...</td>\n",
       "      <td>2020-01-31 23:57:29</td>\n",
       "      <td>Australia</td>\n",
       "      <td>peterdrew</td>\n",
       "      <td>1</td>\n",
       "      <td>396</td>\n",
       "      <td>57</td>\n",
       "      <td>13</td>\n",
       "    </tr>\n",
       "    <tr>\n",
       "      <th>99324</th>\n",
       "      <td>russia ha report suspect case citizen return c...</td>\n",
       "      <td>2020-01-31 23:57:34</td>\n",
       "      <td>Australia</td>\n",
       "      <td>SeanRankin2</td>\n",
       "      <td>1</td>\n",
       "      <td>396</td>\n",
       "      <td>57</td>\n",
       "      <td>13</td>\n",
       "    </tr>\n",
       "    <tr>\n",
       "      <th>99325</th>\n",
       "      <td>time reveal doubt come revel smell rose excrem...</td>\n",
       "      <td>2020-01-31 23:57:37</td>\n",
       "      <td>New</td>\n",
       "      <td>himderfella</td>\n",
       "      <td>1</td>\n",
       "      <td>396</td>\n",
       "      <td>57</td>\n",
       "      <td>13</td>\n",
       "    </tr>\n",
       "    <tr>\n",
       "      <th>99326</th>\n",
       "      <td>use spread new</td>\n",
       "      <td>2020-01-31 23:57:38</td>\n",
       "      <td>Australia</td>\n",
       "      <td>_Virusman_</td>\n",
       "      <td>1</td>\n",
       "      <td>396</td>\n",
       "      <td>57</td>\n",
       "      <td>13</td>\n",
       "    </tr>\n",
       "    <tr>\n",
       "      <th>99327</th>\n",
       "      <td>way fought way fight flu</td>\n",
       "      <td>2020-01-31 23:57:38</td>\n",
       "      <td>Sydney</td>\n",
       "      <td>sleepingdingo</td>\n",
       "      <td>0</td>\n",
       "      <td>396</td>\n",
       "      <td>57</td>\n",
       "      <td>13</td>\n",
       "    </tr>\n",
       "    <tr>\n",
       "      <th>99328</th>\n",
       "      <td>govern refer inform brief</td>\n",
       "      <td>2020-01-31 23:57:40</td>\n",
       "      <td>Australia</td>\n",
       "      <td>davidbewart</td>\n",
       "      <td>1</td>\n",
       "      <td>396</td>\n",
       "      <td>57</td>\n",
       "      <td>13</td>\n",
       "    </tr>\n",
       "    <tr>\n",
       "      <th>99329</th>\n",
       "      <td>freak casual racism concern wash hand second s...</td>\n",
       "      <td>2020-01-31 23:57:48</td>\n",
       "      <td>NaN</td>\n",
       "      <td>Sikamikanico</td>\n",
       "      <td>0</td>\n",
       "      <td>396</td>\n",
       "      <td>57</td>\n",
       "      <td>13</td>\n",
       "    </tr>\n",
       "    <tr>\n",
       "      <th>99330</th>\n",
       "      <td>As nation tri curb spread eye biggest threat</td>\n",
       "      <td>2020-01-31 23:57:50</td>\n",
       "      <td>NaN</td>\n",
       "      <td>MissABPositive</td>\n",
       "      <td>1</td>\n",
       "      <td>396</td>\n",
       "      <td>57</td>\n",
       "      <td>13</td>\n",
       "    </tr>\n",
       "    <tr>\n",
       "      <th>99331</th>\n",
       "      <td>racist joke die tire flu kill guess racial ori...</td>\n",
       "      <td>2020-01-31 23:58:08</td>\n",
       "      <td>New</td>\n",
       "      <td>lalisonk</td>\n",
       "      <td>0</td>\n",
       "      <td>396</td>\n",
       "      <td>57</td>\n",
       "      <td>13</td>\n",
       "    </tr>\n",
       "    <tr>\n",
       "      <th>99332</th>\n",
       "      <td>flu death year flu shot death ani use</td>\n",
       "      <td>2020-01-31 23:58:11</td>\n",
       "      <td>Australia</td>\n",
       "      <td>fkawhit</td>\n",
       "      <td>0</td>\n",
       "      <td>396</td>\n",
       "      <td>57</td>\n",
       "      <td>13</td>\n",
       "    </tr>\n",
       "    <tr>\n",
       "      <th>99333</th>\n",
       "      <td>tweet guy said</td>\n",
       "      <td>2020-01-31 23:58:14</td>\n",
       "      <td>Victoria</td>\n",
       "      <td>ducky130819</td>\n",
       "      <td>1</td>\n",
       "      <td>396</td>\n",
       "      <td>57</td>\n",
       "      <td>13</td>\n",
       "    </tr>\n",
       "    <tr>\n",
       "      <th>99334</th>\n",
       "      <td>govern</td>\n",
       "      <td>2020-01-31 23:58:20</td>\n",
       "      <td>NaN</td>\n",
       "      <td>MissABPositive</td>\n",
       "      <td>0</td>\n",
       "      <td>396</td>\n",
       "      <td>57</td>\n",
       "      <td>13</td>\n",
       "    </tr>\n",
       "    <tr>\n",
       "      <th>99335</th>\n",
       "      <td>break claim wa ha man wa extract dure spring t...</td>\n",
       "      <td>2020-01-31 23:58:33</td>\n",
       "      <td>NaN</td>\n",
       "      <td>bo_dashus</td>\n",
       "      <td>0</td>\n",
       "      <td>396</td>\n",
       "      <td>57</td>\n",
       "      <td>13</td>\n",
       "    </tr>\n",
       "    <tr>\n",
       "      <th>99336</th>\n",
       "      <td>wa hold racist hate regard actual tear man ha ...</td>\n",
       "      <td>2020-01-31 23:58:39</td>\n",
       "      <td>NaN</td>\n",
       "      <td>teriyaki_mami</td>\n",
       "      <td>0</td>\n",
       "      <td>396</td>\n",
       "      <td>57</td>\n",
       "      <td>13</td>\n",
       "    </tr>\n",
       "    <tr>\n",
       "      <th>99337</th>\n",
       "      <td>propaganda decad recess let honest head recess...</td>\n",
       "      <td>2020-01-31 23:58:42</td>\n",
       "      <td>Australia</td>\n",
       "      <td>deblamb42</td>\n",
       "      <td>1</td>\n",
       "      <td>396</td>\n",
       "      <td>57</td>\n",
       "      <td>13</td>\n",
       "    </tr>\n",
       "    <tr>\n",
       "      <th>99338</th>\n",
       "      <td>love outbreak</td>\n",
       "      <td>2020-01-31 23:58:49</td>\n",
       "      <td>Australia</td>\n",
       "      <td>hayden_quinn</td>\n",
       "      <td>1</td>\n",
       "      <td>396</td>\n",
       "      <td>57</td>\n",
       "      <td>13</td>\n",
       "    </tr>\n",
       "    <tr>\n",
       "      <th>99339</th>\n",
       "      <td>danger late amid grow infect death govern with...</td>\n",
       "      <td>2020-01-31 23:58:51</td>\n",
       "      <td>Western</td>\n",
       "      <td>dettie1</td>\n",
       "      <td>0</td>\n",
       "      <td>396</td>\n",
       "      <td>57</td>\n",
       "      <td>13</td>\n",
       "    </tr>\n",
       "    <tr>\n",
       "      <th>99340</th>\n",
       "      <td>term death link china ha fatal major virus pas...</td>\n",
       "      <td>2020-01-31 23:58:53</td>\n",
       "      <td>Australia</td>\n",
       "      <td>benign0</td>\n",
       "      <td>0</td>\n",
       "      <td>396</td>\n",
       "      <td>57</td>\n",
       "      <td>13</td>\n",
       "    </tr>\n",
       "    <tr>\n",
       "      <th>99341</th>\n",
       "      <td>redirect user inform search absurd algorithm h...</td>\n",
       "      <td>2020-01-31 23:59:02</td>\n",
       "      <td>Australia</td>\n",
       "      <td>drng</td>\n",
       "      <td>0</td>\n",
       "      <td>396</td>\n",
       "      <td>57</td>\n",
       "      <td>13</td>\n",
       "    </tr>\n",
       "    <tr>\n",
       "      <th>99342</th>\n",
       "      <td>bad outbreak key factor</td>\n",
       "      <td>2020-01-31 23:59:18</td>\n",
       "      <td>NaN</td>\n",
       "      <td>Pillai_Pri</td>\n",
       "      <td>0</td>\n",
       "      <td>396</td>\n",
       "      <td>57</td>\n",
       "      <td>13</td>\n",
       "    </tr>\n",
       "    <tr>\n",
       "      <th>99343</th>\n",
       "      <td>chief staff journal class need explain non lin...</td>\n",
       "      <td>2020-01-31 23:59:19</td>\n",
       "      <td>NaN</td>\n",
       "      <td>LHendricks7</td>\n",
       "      <td>1</td>\n",
       "      <td>396</td>\n",
       "      <td>57</td>\n",
       "      <td>13</td>\n",
       "    </tr>\n",
       "    <tr>\n",
       "      <th>99344</th>\n",
       "      <td>great list journalist import wrap critic human...</td>\n",
       "      <td>2020-01-31 23:59:35</td>\n",
       "      <td>NaN</td>\n",
       "      <td>LRussellWolpe</td>\n",
       "      <td>1</td>\n",
       "      <td>396</td>\n",
       "      <td>57</td>\n",
       "      <td>13</td>\n",
       "    </tr>\n",
       "    <tr>\n",
       "      <th>99345</th>\n",
       "      <td>tell ban travel china</td>\n",
       "      <td>2020-01-31 23:59:42</td>\n",
       "      <td>NaN</td>\n",
       "      <td>shellypuno</td>\n",
       "      <td>0</td>\n",
       "      <td>396</td>\n",
       "      <td>57</td>\n",
       "      <td>13</td>\n",
       "    </tr>\n",
       "    <tr>\n",
       "      <th>99346</th>\n",
       "      <td>predict close boarder china straight land</td>\n",
       "      <td>2020-01-31 23:59:44</td>\n",
       "      <td>Australia</td>\n",
       "      <td>stuartgbriggs</td>\n",
       "      <td>1</td>\n",
       "      <td>396</td>\n",
       "      <td>57</td>\n",
       "      <td>13</td>\n",
       "    </tr>\n",
       "    <tr>\n",
       "      <th>99347</th>\n",
       "      <td>mum north shore protect brunch depth chat paw ...</td>\n",
       "      <td>2020-01-31 23:59:45</td>\n",
       "      <td>New</td>\n",
       "      <td>riotersbloc</td>\n",
       "      <td>1</td>\n",
       "      <td>396</td>\n",
       "      <td>57</td>\n",
       "      <td>13</td>\n",
       "    </tr>\n",
       "    <tr>\n",
       "      <th>99348</th>\n",
       "      <td>corona beer brand respond outbreak globe</td>\n",
       "      <td>2020-01-31 23:59:46</td>\n",
       "      <td>NaN</td>\n",
       "      <td>deemadigan</td>\n",
       "      <td>0</td>\n",
       "      <td>396</td>\n",
       "      <td>57</td>\n",
       "      <td>13</td>\n",
       "    </tr>\n",
       "    <tr>\n",
       "      <th>99349</th>\n",
       "      <td>reveal doubt come revel smell rose excrement u...</td>\n",
       "      <td>2020-01-31 23:59:54</td>\n",
       "      <td>New</td>\n",
       "      <td>himderfella</td>\n",
       "      <td>1</td>\n",
       "      <td>396</td>\n",
       "      <td>57</td>\n",
       "      <td>13</td>\n",
       "    </tr>\n",
       "  </tbody>\n",
       "</table>\n",
       "<p>99345 rows × 8 columns</p>\n",
       "</div>"
      ],
      "text/plain": [
       "                                                    Text                Time  \\\n",
       "5                               east viral novel east wa 2020-01-01 06:58:55   \n",
       "6      wait news china talk social media sever ill pa... 2020-01-01 11:07:07   \n",
       "7      purport lab report share medic detect result h... 2020-01-01 15:18:56   \n",
       "8                 comment genet segment wa detect corona 2020-01-01 21:05:03   \n",
       "9      hong level pneumonia outbreak word sar era aw ... 2020-01-05 05:05:36   \n",
       "...                                                  ...                 ...   \n",
       "99345                              tell ban travel china 2020-01-31 23:59:42   \n",
       "99346          predict close boarder china straight land 2020-01-31 23:59:44   \n",
       "99347  mum north shore protect brunch depth chat paw ... 2020-01-31 23:59:45   \n",
       "99348           corona beer brand respond outbreak globe 2020-01-31 23:59:46   \n",
       "99349  reveal doubt come revel smell rose excrement u... 2020-01-31 23:59:54   \n",
       "\n",
       "        Location             Name  Sentiment  DinY  WinY  MinY  \n",
       "5          Saudi           Da5eel          1   366    53    13  \n",
       "6      Australia         MackayIM          1   366    53    13  \n",
       "7            NaN  alexandraphelan          0   366    53    13  \n",
       "8      Australia         MackayIM          1   366    53    13  \n",
       "9      Australia             drng          0   370    53    13  \n",
       "...          ...              ...        ...   ...   ...   ...  \n",
       "99345        NaN       shellypuno          0   396    57    13  \n",
       "99346  Australia    stuartgbriggs          1   396    57    13  \n",
       "99347        New      riotersbloc          1   396    57    13  \n",
       "99348        NaN       deemadigan          0   396    57    13  \n",
       "99349        New      himderfella          1   396    57    13  \n",
       "\n",
       "[99345 rows x 8 columns]"
      ]
     },
     "execution_count": 102,
     "metadata": {},
     "output_type": "execute_result"
    }
   ],
   "source": [
    "df_in[(df_in['MinY']>12) & (df_in['MinY']<14)]"
   ]
  },
  {
   "cell_type": "code",
   "execution_count": 39,
   "metadata": {},
   "outputs": [
    {
     "data": {
      "text/html": [
       "<div>\n",
       "<style scoped>\n",
       "    .dataframe tbody tr th:only-of-type {\n",
       "        vertical-align: middle;\n",
       "    }\n",
       "\n",
       "    .dataframe tbody tr th {\n",
       "        vertical-align: top;\n",
       "    }\n",
       "\n",
       "    .dataframe thead th {\n",
       "        text-align: right;\n",
       "    }\n",
       "</style>\n",
       "<table border=\"1\" class=\"dataframe\">\n",
       "  <thead>\n",
       "    <tr style=\"text-align: right;\">\n",
       "      <th></th>\n",
       "      <th>Text</th>\n",
       "      <th>Time</th>\n",
       "      <th>Location</th>\n",
       "      <th>Name</th>\n",
       "      <th>Sentiment</th>\n",
       "      <th>DinY</th>\n",
       "      <th>WinY</th>\n",
       "      <th>MinY</th>\n",
       "    </tr>\n",
       "  </thead>\n",
       "  <tbody>\n",
       "    <tr>\n",
       "      <th>0</th>\n",
       "      <td>bat sever human cell</td>\n",
       "      <td>2019-11-27 18:52:31</td>\n",
       "      <td>Australia</td>\n",
       "      <td>batpapers</td>\n",
       "      <td>1</td>\n",
       "      <td>331.0</td>\n",
       "      <td>48.0</td>\n",
       "      <td>11.0</td>\n",
       "    </tr>\n",
       "    <tr>\n",
       "      <th>2</th>\n",
       "      <td>remind flu flu think flu actual cold late</td>\n",
       "      <td>2019-12-09 06:21:20</td>\n",
       "      <td>Australia</td>\n",
       "      <td>DidiFrench</td>\n",
       "      <td>0</td>\n",
       "      <td>343.0</td>\n",
       "      <td>50.0</td>\n",
       "      <td>12.0</td>\n",
       "    </tr>\n",
       "    <tr>\n",
       "      <th>4</th>\n",
       "      <td>detect sort known patient case time winter</td>\n",
       "      <td>2019-12-31 21:35:02</td>\n",
       "      <td>Australia</td>\n",
       "      <td>MackayIM</td>\n",
       "      <td>1</td>\n",
       "      <td>365.0</td>\n",
       "      <td>1.0</td>\n",
       "      <td>12.0</td>\n",
       "    </tr>\n",
       "    <tr>\n",
       "      <th>5</th>\n",
       "      <td>east viral novel east wa</td>\n",
       "      <td>2020-01-01 06:58:55</td>\n",
       "      <td>Saudi</td>\n",
       "      <td>Da5eel</td>\n",
       "      <td>1</td>\n",
       "      <td>366.0</td>\n",
       "      <td>53.0</td>\n",
       "      <td>13.0</td>\n",
       "    </tr>\n",
       "    <tr>\n",
       "      <th>6</th>\n",
       "      <td>wait news china talk social media sever ill pa...</td>\n",
       "      <td>2020-01-01 11:07:07</td>\n",
       "      <td>Australia</td>\n",
       "      <td>MackayIM</td>\n",
       "      <td>1</td>\n",
       "      <td>366.0</td>\n",
       "      <td>53.0</td>\n",
       "      <td>13.0</td>\n",
       "    </tr>\n",
       "    <tr>\n",
       "      <th>8</th>\n",
       "      <td>comment genet segment wa detect corona</td>\n",
       "      <td>2020-01-01 21:05:03</td>\n",
       "      <td>Australia</td>\n",
       "      <td>MackayIM</td>\n",
       "      <td>1</td>\n",
       "      <td>366.0</td>\n",
       "      <td>53.0</td>\n",
       "      <td>13.0</td>\n",
       "    </tr>\n",
       "    <tr>\n",
       "      <th>9</th>\n",
       "      <td>hong level pneumonia outbreak word sar era aw ...</td>\n",
       "      <td>2020-01-05 05:05:36</td>\n",
       "      <td>Australia</td>\n",
       "      <td>drng</td>\n",
       "      <td>0</td>\n",
       "      <td>370.0</td>\n",
       "      <td>53.0</td>\n",
       "      <td>13.0</td>\n",
       "    </tr>\n",
       "    <tr>\n",
       "      <th>12</th>\n",
       "      <td>report link novel pneumonia cluster</td>\n",
       "      <td>2020-01-08 14:47:51</td>\n",
       "      <td>Australia</td>\n",
       "      <td>MackayIM</td>\n",
       "      <td>0</td>\n",
       "      <td>373.0</td>\n",
       "      <td>54.0</td>\n",
       "      <td>13.0</td>\n",
       "    </tr>\n",
       "    <tr>\n",
       "      <th>13</th>\n",
       "      <td>A new thought live probabl mammal urban environ</td>\n",
       "      <td>2020-01-08 15:05:10</td>\n",
       "      <td>Australia</td>\n",
       "      <td>MackayIM</td>\n",
       "      <td>1</td>\n",
       "      <td>373.0</td>\n",
       "      <td>54.0</td>\n",
       "      <td>13.0</td>\n",
       "    </tr>\n",
       "    <tr>\n",
       "      <th>15</th>\n",
       "      <td>accord news report bat jump host pass human co...</td>\n",
       "      <td>2020-01-08 16:18:50</td>\n",
       "      <td>Saudi</td>\n",
       "      <td>AhmedShehrii</td>\n",
       "      <td>1</td>\n",
       "      <td>373.0</td>\n",
       "      <td>54.0</td>\n",
       "      <td>13.0</td>\n",
       "    </tr>\n",
       "  </tbody>\n",
       "</table>\n",
       "</div>"
      ],
      "text/plain": [
       "                                                 Text                Time  \\\n",
       "0                                bat sever human cell 2019-11-27 18:52:31   \n",
       "2           remind flu flu think flu actual cold late 2019-12-09 06:21:20   \n",
       "4          detect sort known patient case time winter 2019-12-31 21:35:02   \n",
       "5                            east viral novel east wa 2020-01-01 06:58:55   \n",
       "6   wait news china talk social media sever ill pa... 2020-01-01 11:07:07   \n",
       "8              comment genet segment wa detect corona 2020-01-01 21:05:03   \n",
       "9   hong level pneumonia outbreak word sar era aw ... 2020-01-05 05:05:36   \n",
       "12                report link novel pneumonia cluster 2020-01-08 14:47:51   \n",
       "13    A new thought live probabl mammal urban environ 2020-01-08 15:05:10   \n",
       "15  accord news report bat jump host pass human co... 2020-01-08 16:18:50   \n",
       "\n",
       "     Location          Name  Sentiment   DinY  WinY  MinY  \n",
       "0   Australia     batpapers          1  331.0  48.0  11.0  \n",
       "2   Australia    DidiFrench          0  343.0  50.0  12.0  \n",
       "4   Australia      MackayIM          1  365.0   1.0  12.0  \n",
       "5       Saudi        Da5eel          1  366.0  53.0  13.0  \n",
       "6   Australia      MackayIM          1  366.0  53.0  13.0  \n",
       "8   Australia      MackayIM          1  366.0  53.0  13.0  \n",
       "9   Australia          drng          0  370.0  53.0  13.0  \n",
       "12  Australia      MackayIM          0  373.0  54.0  13.0  \n",
       "13  Australia      MackayIM          1  373.0  54.0  13.0  \n",
       "15      Saudi  AhmedShehrii          1  373.0  54.0  13.0  "
      ]
     },
     "execution_count": 39,
     "metadata": {},
     "output_type": "execute_result"
    }
   ],
   "source": [
    "df_in2 = df_in.drop( df_in[df_in['Location'].isna() ].index)\n",
    "df_in2.head(10)"
   ]
  },
  {
   "cell_type": "code",
   "execution_count": 72,
   "metadata": {},
   "outputs": [],
   "source": [
    "locs = [loc.lower() for loc in list(df_in2['Location'])]"
   ]
  },
  {
   "cell_type": "code",
   "execution_count": 73,
   "metadata": {},
   "outputs": [],
   "source": [
    "loc2nic = {'australia':'au',\n",
    "           'oceania':'au',\n",
    "           'oz':'au',\n",
    "           'australian capital territory':'act',\n",
    "           'new south wales':'nsw',\n",
    "           'northern territory':'nt',\n",
    "           'queensland':'qld',\n",
    "           'south australia':'sa',\n",
    "           'tasmania':'tas',\n",
    "           'victoria':'vic',\n",
    "           'victoria.':'vic',\n",
    "           'western australia':'wa',\n",
    "           'sydney':'syd',\n",
    "           'brisbane':'bne',\n",
    "           'adelaide':'ald',\n",
    "           'hobart':'ymhb',\n",
    "           'melbourne':'mel',\n",
    "           'perth':'per',\n",
    "           'canberra':'can'}"
   ]
  },
  {
   "cell_type": "code",
   "execution_count": 74,
   "metadata": {},
   "outputs": [],
   "source": [
    "for i, loc in enumerate(locs):\n",
    "    if loc in loc2nic.keys():\n",
    "        locs[i] = loc2nic[loc]"
   ]
  },
  {
   "cell_type": "code",
   "execution_count": 76,
   "metadata": {},
   "outputs": [],
   "source": [
    "for i, loc in enumerate(locs):\n",
    "    if loc not in loc2nic.values():\n",
    "        locs[i] = 'oth'"
   ]
  },
  {
   "cell_type": "code",
   "execution_count": 77,
   "metadata": {},
   "outputs": [
    {
     "data": {
      "text/plain": [
       "{'ald',\n",
       " 'au',\n",
       " 'bne',\n",
       " 'can',\n",
       " 'mel',\n",
       " 'nsw',\n",
       " 'oth',\n",
       " 'per',\n",
       " 'qld',\n",
       " 'syd',\n",
       " 'tas',\n",
       " 'vic',\n",
       " 'ymhb'}"
      ]
     },
     "execution_count": 77,
     "metadata": {},
     "output_type": "execute_result"
    }
   ],
   "source": [
    "set(locs)"
   ]
  },
  {
   "cell_type": "code",
   "execution_count": 78,
   "metadata": {},
   "outputs": [],
   "source": [
    "df_in2['Location'] = locs"
   ]
  },
  {
   "cell_type": "code",
   "execution_count": 79,
   "metadata": {},
   "outputs": [],
   "source": [
    "loc2frq = {}\n",
    "for loc in locs:\n",
    "    if loc in loc2frq.keys():\n",
    "        loc2frq[loc] += 1\n",
    "    else:\n",
    "        loc2frq[loc] = 1\n",
    "#loc2id"
   ]
  },
  {
   "cell_type": "code",
   "execution_count": 80,
   "metadata": {},
   "outputs": [],
   "source": [
    "loc2frq = {k:v for k,v in sorted(loc2frq.items(), key=lambda item: item[1], reverse=True)}"
   ]
  },
  {
   "cell_type": "code",
   "execution_count": 81,
   "metadata": {},
   "outputs": [
    {
     "data": {
      "text/plain": [
       "{'au': 769215,\n",
       " 'oth': 410464,\n",
       " 'syd': 130240,\n",
       " 'mel': 100236,\n",
       " 'vic': 78128,\n",
       " 'qld': 64206,\n",
       " 'can': 38311,\n",
       " 'per': 23861,\n",
       " 'tas': 11895,\n",
       " 'ald': 8484,\n",
       " 'bne': 6432,\n",
       " 'ymhb': 3139,\n",
       " 'nsw': 172}"
      ]
     },
     "execution_count": 81,
     "metadata": {},
     "output_type": "execute_result"
    }
   ],
   "source": [
    "loc2frq"
   ]
  },
  {
   "cell_type": "code",
   "execution_count": 82,
   "metadata": {},
   "outputs": [
    {
     "data": {
      "text/html": [
       "<div>\n",
       "<style scoped>\n",
       "    .dataframe tbody tr th:only-of-type {\n",
       "        vertical-align: middle;\n",
       "    }\n",
       "\n",
       "    .dataframe tbody tr th {\n",
       "        vertical-align: top;\n",
       "    }\n",
       "\n",
       "    .dataframe thead th {\n",
       "        text-align: right;\n",
       "    }\n",
       "</style>\n",
       "<table border=\"1\" class=\"dataframe\">\n",
       "  <thead>\n",
       "    <tr style=\"text-align: right;\">\n",
       "      <th></th>\n",
       "      <th>Text</th>\n",
       "      <th>Time</th>\n",
       "      <th>Location</th>\n",
       "      <th>Name</th>\n",
       "      <th>Sentiment</th>\n",
       "      <th>DinY</th>\n",
       "      <th>WinY</th>\n",
       "      <th>MinY</th>\n",
       "    </tr>\n",
       "  </thead>\n",
       "  <tbody>\n",
       "    <tr>\n",
       "      <th>0</th>\n",
       "      <td>bat sever human cell</td>\n",
       "      <td>2019-11-27 18:52:31</td>\n",
       "      <td>au</td>\n",
       "      <td>batpapers</td>\n",
       "      <td>1</td>\n",
       "      <td>331.0</td>\n",
       "      <td>48.0</td>\n",
       "      <td>11.0</td>\n",
       "    </tr>\n",
       "    <tr>\n",
       "      <th>2</th>\n",
       "      <td>remind flu flu think flu actual cold late</td>\n",
       "      <td>2019-12-09 06:21:20</td>\n",
       "      <td>au</td>\n",
       "      <td>DidiFrench</td>\n",
       "      <td>0</td>\n",
       "      <td>343.0</td>\n",
       "      <td>50.0</td>\n",
       "      <td>12.0</td>\n",
       "    </tr>\n",
       "    <tr>\n",
       "      <th>4</th>\n",
       "      <td>detect sort known patient case time winter</td>\n",
       "      <td>2019-12-31 21:35:02</td>\n",
       "      <td>au</td>\n",
       "      <td>MackayIM</td>\n",
       "      <td>1</td>\n",
       "      <td>365.0</td>\n",
       "      <td>1.0</td>\n",
       "      <td>12.0</td>\n",
       "    </tr>\n",
       "    <tr>\n",
       "      <th>5</th>\n",
       "      <td>east viral novel east wa</td>\n",
       "      <td>2020-01-01 06:58:55</td>\n",
       "      <td>oth</td>\n",
       "      <td>Da5eel</td>\n",
       "      <td>1</td>\n",
       "      <td>366.0</td>\n",
       "      <td>53.0</td>\n",
       "      <td>13.0</td>\n",
       "    </tr>\n",
       "    <tr>\n",
       "      <th>6</th>\n",
       "      <td>wait news china talk social media sever ill pa...</td>\n",
       "      <td>2020-01-01 11:07:07</td>\n",
       "      <td>au</td>\n",
       "      <td>MackayIM</td>\n",
       "      <td>1</td>\n",
       "      <td>366.0</td>\n",
       "      <td>53.0</td>\n",
       "      <td>13.0</td>\n",
       "    </tr>\n",
       "  </tbody>\n",
       "</table>\n",
       "</div>"
      ],
      "text/plain": [
       "                                                Text                Time  \\\n",
       "0                               bat sever human cell 2019-11-27 18:52:31   \n",
       "2          remind flu flu think flu actual cold late 2019-12-09 06:21:20   \n",
       "4         detect sort known patient case time winter 2019-12-31 21:35:02   \n",
       "5                           east viral novel east wa 2020-01-01 06:58:55   \n",
       "6  wait news china talk social media sever ill pa... 2020-01-01 11:07:07   \n",
       "\n",
       "  Location        Name  Sentiment   DinY  WinY  MinY  \n",
       "0       au   batpapers          1  331.0  48.0  11.0  \n",
       "2       au  DidiFrench          0  343.0  50.0  12.0  \n",
       "4       au    MackayIM          1  365.0   1.0  12.0  \n",
       "5      oth      Da5eel          1  366.0  53.0  13.0  \n",
       "6       au    MackayIM          1  366.0  53.0  13.0  "
      ]
     },
     "execution_count": 82,
     "metadata": {},
     "output_type": "execute_result"
    }
   ],
   "source": [
    "df_in2.head()"
   ]
  },
  {
   "cell_type": "code",
   "execution_count": 89,
   "metadata": {},
   "outputs": [
    {
     "data": {
      "image/png": "[encoded data removed]",
      "text/plain": [
       "<Figure size 432x288 with 1 Axes>"
      ]
     },
     "metadata": {
      "needs_background": "light"
     },
     "output_type": "display_data"
    }
   ],
   "source": [
    "# plt.plot((df_in2.groupby('Location').Sentiment.sum()/df_in2.groupby('Location').Sentiment.size()))\n",
    "# plt.ylabel('sentiment')\n",
    "# plt.xlabel('Space')\n",
    "# plt.show()\n",
    "\n",
    "\n",
    "tempo = 'Location'\n",
    "sizes = df_in2.groupby(tempo).Sentiment.size()\n",
    "maxi = max(sizes)\n",
    "plt.bar(list(set(locs)), df_in2.groupby(tempo).Sentiment.size()/maxi)\n",
    "#plt.bar(list(set(locs)), df_in2.groupby(tempo).Sentiment.sum()/maxi)\n",
    "#plt.bar(list(set(locs)), df_in2.groupby(tempo).Sentiment.sum()/sizes)\n",
    "plt.ylabel('Sentiment')\n",
    "plt.xlabel('Space')\n",
    "#plt.legend(['Total', 'Positive', 'Positive%'])\n",
    "plt.legend(['Total'])\n",
    "plt.show()"
   ]
  },
  {
   "cell_type": "code",
   "execution_count": 90,
   "metadata": {},
   "outputs": [
    {
     "data": {
      "image/png": "[encoded data removed]",
      "text/plain": [
       "<Figure size 432x288 with 1 Axes>"
      ]
     },
     "metadata": {
      "needs_background": "light"
     },
     "output_type": "display_data"
    }
   ],
   "source": [
    "# plt.plot((df_in2.groupby('Location').Sentiment.sum()/df_in2.groupby('Location').Sentiment.size()))\n",
    "# plt.ylabel('sentiment')\n",
    "# plt.xlabel('Space')\n",
    "# plt.show()\n",
    "\n",
    "\n",
    "tempo = 'Location'\n",
    "sizes = df_in2.groupby(tempo).Sentiment.size()\n",
    "maxi = max(sizes)\n",
    "#plt.bar(list(set(locs)), df_in2.groupby(tempo).Sentiment.size()/maxi)\n",
    "plt.bar(list(set(locs)), df_in2.groupby(tempo).Sentiment.sum()/maxi)\n",
    "#plt.bar(list(set(locs)), df_in2.groupby(tempo).Sentiment.sum()/sizes)\n",
    "plt.ylabel('Sentiment')\n",
    "plt.xlabel('Space')\n",
    "#plt.legend(['Total', 'Positive', 'Positive%'])\n",
    "plt.legend(['Positive'])\n",
    "plt.show()"
   ]
  },
  {
   "cell_type": "code",
   "execution_count": 143,
   "metadata": {},
   "outputs": [
    {
     "data": {
      "image/png": "[encoded data removed]",
      "text/plain": [
       "<Figure size 432x288 with 1 Axes>"
      ]
     },
     "metadata": {
      "needs_background": "light"
     },
     "output_type": "display_data"
    }
   ],
   "source": [
    "# plt.plot((df_in2.groupby('Location').Sentiment.sum()/df_in2.groupby('Location').Sentiment.size()))\n",
    "# plt.ylabel('sentiment')\n",
    "# plt.xlabel('Space')\n",
    "# plt.show()\n",
    "\n",
    "\n",
    "tempo = 'Location'\n",
    "sizes = df_in2.groupby(tempo).Sentiment.size()\n",
    "maxi = max(sizes)\n",
    "plt.ylim((0, 1))\n",
    "#plt.bar(list(set(locs)), df_in2.groupby(tempo).Sentiment.size()/maxi)\n",
    "#plt.bar(list(set(locs)), df_in2.groupby(tempo).Sentiment.sum()/maxi)\n",
    "plt.bar(list(set(locs)), df_in2.groupby(tempo).Sentiment.sum()/sizes)\n",
    "plt.ylabel('Sentiment')\n",
    "plt.xlabel('Space')\n",
    "#plt.legend(['Total', 'Positive', 'Positive%'])\n",
    "plt.legend(['Positive%'])\n",
    "plt.grid()\n",
    "plt.show()"
   ]
  },
  {
   "cell_type": "code",
   "execution_count": 135,
   "metadata": {},
   "outputs": [
    {
     "data": {
      "image/png": "[encoded data removed]",
      "text/plain": [
       "<Figure size 432x288 with 1 Axes>"
      ]
     },
     "metadata": {
      "needs_background": "light"
     },
     "output_type": "display_data"
    }
   ],
   "source": [
    "tempo = 'Location'\n",
    "sizes = df_in2.groupby(tempo).Sentiment.size()\n",
    "maxi = max(sizes)\n",
    "plt.scatter(list(set(locs)), df_in2.groupby(tempo).Sentiment.size()/maxi)\n",
    "plt.scatter(list(set(locs)), df_in2.groupby(tempo).Sentiment.sum()/maxi)\n",
    "#plt.scatter(list(set(locs)), df_in2.groupby(tempo).Sentiment.sum()/sizes)\n",
    "plt.ylabel('Sentiment')\n",
    "plt.xlabel('Space')\n",
    "plt.legend(['Total', 'Positive', 'Positive%'])\n",
    "plt.show()"
   ]
  },
  {
   "cell_type": "code",
   "execution_count": 92,
   "metadata": {},
   "outputs": [
    {
     "data": {
      "text/plain": [
       "WinY  Location\n",
       "1.0   au             1\n",
       "48.0  au             1\n",
       "50.0  au             0\n",
       "53.0  au             2\n",
       "      oth            1\n",
       "                  ... \n",
       "67.0  qld          931\n",
       "      syd         1666\n",
       "      tas          159\n",
       "      vic          887\n",
       "      ymhb          39\n",
       "Name: Sentiment, Length: 180, dtype: int64"
      ]
     },
     "execution_count": 92,
     "metadata": {},
     "output_type": "execute_result"
    }
   ],
   "source": [
    "XYZ = df_in2.groupby(['WinY', 'Location']).Sentiment.sum()\n",
    "XYZ"
   ]
  },
  {
   "cell_type": "code",
   "execution_count": 94,
   "metadata": {},
   "outputs": [
    {
     "data": {
      "text/plain": [
       "1"
      ]
     },
     "execution_count": 94,
     "metadata": {},
     "output_type": "execute_result"
    }
   ],
   "source": [
    "XYZ.get((48,  'au'))"
   ]
  },
  {
   "cell_type": "code",
   "execution_count": 95,
   "metadata": {},
   "outputs": [
    {
     "data": {
      "text/plain": [
       "([1.0, 48.0, 50.0, 53.0, 53.0], ['au', 'au', 'au', 'au', 'oth'])"
      ]
     },
     "execution_count": 95,
     "metadata": {},
     "output_type": "execute_result"
    }
   ],
   "source": [
    "time = []\n",
    "locations = []\n",
    "for key in XYZ.keys():\n",
    "    time.append(key[0])\n",
    "    locations.append(key[1])\n",
    "time[:5], locations[:5]"
   ]
  },
  {
   "cell_type": "code",
   "execution_count": 96,
   "metadata": {},
   "outputs": [
    {
     "data": {
      "text/plain": [
       "[1, 1, 0, 2, 1, 0, 38, 0, 4, 0]"
      ]
     },
     "execution_count": 96,
     "metadata": {},
     "output_type": "execute_result"
    }
   ],
   "source": [
    "# sentiments = list(XYZ.values)\n",
    "# sentiments[:10]"
   ]
  },
  {
   "cell_type": "code",
   "execution_count": 109,
   "metadata": {},
   "outputs": [],
   "source": [
    "loc2id = {}\n",
    "id2loc = list(set(locations))\n",
    "for i,loc in enumerate(id2loc):\n",
    "    loc2id[loc] = i"
   ]
  },
  {
   "cell_type": "code",
   "execution_count": 110,
   "metadata": {},
   "outputs": [],
   "source": [
    "for idx, loc in enumerate(locations):\n",
    "    locations[idx] = loc2id[loc]"
   ]
  },
  {
   "cell_type": "code",
   "execution_count": 113,
   "metadata": {},
   "outputs": [
    {
     "data": {
      "text/plain": [
       "[4, 4, 4, 4, 2, 10, 4, 8, 11, 0]"
      ]
     },
     "execution_count": 113,
     "metadata": {},
     "output_type": "execute_result"
    }
   ],
   "source": [
    "locations[:10]"
   ]
  },
  {
   "cell_type": "code",
   "execution_count": 114,
   "metadata": {},
   "outputs": [],
   "source": [
    "import matplotlib.pyplot as plt\n",
    "from mpl_toolkits.mplot3d import Axes3D\n",
    "import numpy as np"
   ]
  },
  {
   "cell_type": "code",
   "execution_count": 115,
   "metadata": {},
   "outputs": [],
   "source": [
    "X, Y = np.meshgrid(time, locations)"
   ]
  },
  {
   "cell_type": "code",
   "execution_count": 122,
   "metadata": {},
   "outputs": [
    {
     "data": {
      "text/plain": [
       "array([[4, 4, 4, ..., 4, 4, 4],\n",
       "       [4, 4, 4, ..., 4, 4, 4],\n",
       "       [4, 4, 4, ..., 4, 4, 4],\n",
       "       ...,\n",
       "       [5, 5, 5, ..., 5, 5, 5],\n",
       "       [9, 9, 9, ..., 9, 9, 9],\n",
       "       [6, 6, 6, ..., 6, 6, 6]])"
      ]
     },
     "execution_count": 122,
     "metadata": {},
     "output_type": "execute_result"
    }
   ],
   "source": [
    "Y"
   ]
  },
  {
   "cell_type": "code",
   "execution_count": 120,
   "metadata": {},
   "outputs": [
    {
     "data": {
      "text/plain": [
       "{'mel': 0,\n",
       " 'syd': 1,\n",
       " 'oth': 2,\n",
       " 'nsw': 3,\n",
       " 'au': 4,\n",
       " 'tas': 5,\n",
       " 'ymhb': 6,\n",
       " 'per': 7,\n",
       " 'bne': 8,\n",
       " 'vic': 9,\n",
       " 'ald': 10,\n",
       " 'can': 11,\n",
       " 'qld': 12}"
      ]
     },
     "execution_count": 120,
     "metadata": {},
     "output_type": "execute_result"
    }
   ],
   "source": [
    "loc2id"
   ]
  },
  {
   "cell_type": "code",
   "execution_count": 123,
   "metadata": {},
   "outputs": [],
   "source": [
    "def z_function(X, Y):\n",
    "    Z = []\n",
    "    for i in range(len(X)):\n",
    "        z = []\n",
    "        for j in range(len(X[i])):\n",
    "            val = XYZ.get((X[i][j],  id2loc[Y[i][j]]))\n",
    "            if val:\n",
    "                z.append(val)\n",
    "            else:\n",
    "                z.append(0)\n",
    "        Z.append(z)\n",
    "    return Z"
   ]
  },
  {
   "cell_type": "code",
   "execution_count": 124,
   "metadata": {},
   "outputs": [],
   "source": [
    "Z = z_function(X, Y)"
   ]
  },
  {
   "cell_type": "code",
   "execution_count": 125,
   "metadata": {},
   "outputs": [],
   "source": [
    "Z1 = np.array(Z)"
   ]
  },
  {
   "cell_type": "code",
   "execution_count": 126,
   "metadata": {},
   "outputs": [
    {
     "data": {
      "text/plain": [
       "array([[    1,     1,     0, ..., 10116, 10116, 10116],\n",
       "       [    1,     1,     0, ..., 10116, 10116, 10116],\n",
       "       [    1,     1,     0, ..., 10116, 10116, 10116],\n",
       "       ...,\n",
       "       [    0,     0,     0, ...,   159,   159,   159],\n",
       "       [    0,     0,     0, ...,   887,   887,   887],\n",
       "       [    0,     0,     0, ...,    39,    39,    39]], dtype=int64)"
      ]
     },
     "execution_count": 126,
     "metadata": {},
     "output_type": "execute_result"
    }
   ],
   "source": [
    "Z1"
   ]
  },
  {
   "cell_type": "code",
   "execution_count": 130,
   "metadata": {},
   "outputs": [
    {
     "data": {
      "image/png": "[encoded data removed]",
      "text/plain": [
       "<Figure size 432x288 with 1 Axes>"
      ]
     },
     "metadata": {
      "needs_background": "light"
     },
     "output_type": "display_data"
    }
   ],
   "source": [
    "ax = plt.axes(projection='3d')\n",
    "ax.plot_surface(X, Y, Z1, rstride=1, cstride=1,\n",
    "                cmap='winter', edgecolor='none')\n",
    "ax.set_xlabel('Time')\n",
    "ax.set_ylabel('Location')\n",
    "ax.set_zlabel('Sentiment')\n",
    "ax.set_title('Sentiment distribution over time and space');"
   ]
  },
  {
   "cell_type": "code",
   "execution_count": null,
   "metadata": {},
   "outputs": [],
   "source": []
  },
  {
   "cell_type": "code",
   "execution_count": 144,
   "metadata": {},
   "outputs": [],
   "source": [
    "xpos = X.flatten()\n",
    "ypos = Y.flatten()"
   ]
  },
  {
   "cell_type": "code",
   "execution_count": 146,
   "metadata": {},
   "outputs": [
    {
     "data": {
      "text/plain": [
       "array([4, 4, 4, ..., 6, 6, 6])"
      ]
     },
     "execution_count": 146,
     "metadata": {},
     "output_type": "execute_result"
    }
   ],
   "source": [
    "ypos"
   ]
  },
  {
   "cell_type": "code",
   "execution_count": 171,
   "metadata": {},
   "outputs": [
    {
     "data": {
      "text/plain": [
       "{0, 1, 2, 3, 4, 5, 6, 7, 8, 9, 10, 11, 12}"
      ]
     },
     "execution_count": 171,
     "metadata": {},
     "output_type": "execute_result"
    }
   ],
   "source": [
    "set(ypos)"
   ]
  },
  {
   "cell_type": "code",
   "execution_count": 155,
   "metadata": {},
   "outputs": [
    {
     "data": {
      "text/plain": [
       "array([[    1,     1,     0, ..., 10116, 10116, 10116],\n",
       "       [    1,     1,     0, ..., 10116, 10116, 10116],\n",
       "       [    1,     1,     0, ..., 10116, 10116, 10116],\n",
       "       ...,\n",
       "       [    0,     0,     0, ...,   159,   159,   159],\n",
       "       [    0,     0,     0, ...,   887,   887,   887],\n",
       "       [    0,     0,     0, ...,    39,    39,    39]], dtype=int64)"
      ]
     },
     "execution_count": 155,
     "metadata": {},
     "output_type": "execute_result"
    }
   ],
   "source": [
    "Z1"
   ]
  },
  {
   "cell_type": "code",
   "execution_count": 156,
   "metadata": {},
   "outputs": [],
   "source": [
    "lx= len(Z1[0])  # Work out matrix dimensions\n",
    "ly= len(Z1[:,0])"
   ]
  },
  {
   "cell_type": "code",
   "execution_count": 158,
   "metadata": {},
   "outputs": [
    {
     "data": {
      "text/plain": [
       "array([0., 0., 0., ..., 0., 0., 0.])"
      ]
     },
     "execution_count": 158,
     "metadata": {},
     "output_type": "execute_result"
    }
   ],
   "source": [
    "zpos = np.zeros(lx*ly) # position in z direction\n",
    "zpos"
   ]
  },
  {
   "cell_type": "code",
   "execution_count": 168,
   "metadata": {},
   "outputs": [],
   "source": [
    "dx = np.ones_like(zpos)# diameter of x (i.e. size of the bar in x direction)\n",
    "dy = dx.copy() # diameter of y \n",
    "dz = Z1.flatten() # diameter of z"
   ]
  },
  {
   "cell_type": "code",
   "execution_count": 170,
   "metadata": {},
   "outputs": [
    {
     "data": {
      "image/png": "[encoded data removed]",
      "text/plain": [
       "<Figure size 432x288 with 1 Axes>"
      ]
     },
     "metadata": {
      "needs_background": "light"
     },
     "output_type": "display_data"
    }
   ],
   "source": [
    "from mpl_toolkits.mplot3d import Axes3D\n",
    "import matplotlib.pyplot as plt\n",
    "import numpy as np\n",
    "\n",
    "fig = plt.figure()\n",
    "ax = Axes3D(fig)\n",
    "\n",
    "ax.bar3d(xpos,ypos,zpos, dx, dy, dz)\n",
    "\n",
    "#sh()\n",
    "#ax.w_xaxis.set_ticklabels(column_names)\n",
    "ax.w_yaxis.set_ticklabels(id2loc)\n",
    "ax.set_xlabel('Week')\n",
    "ax.set_ylabel('Location')\n",
    "ax.set_zlabel('Sentiment')\n",
    "\n",
    "plt.show()"
   ]
  },
  {
   "cell_type": "code",
   "execution_count": null,
   "metadata": {},
   "outputs": [],
   "source": []
  },
  {
   "cell_type": "code",
   "execution_count": 106,
   "metadata": {},
   "outputs": [
    {
     "ename": "TypeError",
     "evalue": "cannot perform reduce with flexible type",
     "output_type": "error",
     "traceback": [
      "\u001b[1;31m---------------------------------------------------------------------------\u001b[0m",
      "\u001b[1;31mTypeError\u001b[0m                                 Traceback (most recent call last)",
      "\u001b[1;32m<ipython-input-106-4caad0a6ef84>\u001b[0m in \u001b[0;36m<module>\u001b[1;34m\u001b[0m\n\u001b[0;32m      1\u001b[0m \u001b[0max\u001b[0m \u001b[1;33m=\u001b[0m \u001b[0mplt\u001b[0m\u001b[1;33m.\u001b[0m\u001b[0maxes\u001b[0m\u001b[1;33m(\u001b[0m\u001b[0mprojection\u001b[0m\u001b[1;33m=\u001b[0m\u001b[1;34m'3d'\u001b[0m\u001b[1;33m)\u001b[0m\u001b[1;33m\u001b[0m\u001b[1;33m\u001b[0m\u001b[0m\n\u001b[0;32m      2\u001b[0m ax.plot_surface(X, Y, Z1, rstride=10, cstride=10,\n\u001b[1;32m----> 3\u001b[1;33m                 cmap='winter', edgecolor='none')\n\u001b[0m\u001b[0;32m      4\u001b[0m \u001b[0max\u001b[0m\u001b[1;33m.\u001b[0m\u001b[0mset_title\u001b[0m\u001b[1;33m(\u001b[0m\u001b[1;34m'Sentiment distribution over time and space'\u001b[0m\u001b[1;33m)\u001b[0m\u001b[1;33m;\u001b[0m\u001b[1;33m\u001b[0m\u001b[1;33m\u001b[0m\u001b[0m\n",
      "\u001b[1;32m~\\AppData\\Local\\Continuum\\anaconda3\\lib\\site-packages\\mpl_toolkits\\mplot3d\\axes3d.py\u001b[0m in \u001b[0;36mplot_surface\u001b[1;34m(self, X, Y, Z, norm, vmin, vmax, lightsource, *args, **kwargs)\u001b[0m\n\u001b[0;32m   1690\u001b[0m         \u001b[1;32melif\u001b[0m \u001b[0mcmap\u001b[0m\u001b[1;33m:\u001b[0m\u001b[1;33m\u001b[0m\u001b[1;33m\u001b[0m\u001b[0m\n\u001b[0;32m   1691\u001b[0m             \u001b[1;31m# doesn't vectorize because polys is jagged\u001b[0m\u001b[1;33m\u001b[0m\u001b[1;33m\u001b[0m\u001b[1;33m\u001b[0m\u001b[0m\n\u001b[1;32m-> 1692\u001b[1;33m             \u001b[0mavg_z\u001b[0m \u001b[1;33m=\u001b[0m \u001b[0mnp\u001b[0m\u001b[1;33m.\u001b[0m\u001b[0marray\u001b[0m\u001b[1;33m(\u001b[0m\u001b[1;33m[\u001b[0m\u001b[0mps\u001b[0m\u001b[1;33m[\u001b[0m\u001b[1;33m:\u001b[0m\u001b[1;33m,\u001b[0m \u001b[1;36m2\u001b[0m\u001b[1;33m]\u001b[0m\u001b[1;33m.\u001b[0m\u001b[0mmean\u001b[0m\u001b[1;33m(\u001b[0m\u001b[1;33m)\u001b[0m \u001b[1;32mfor\u001b[0m \u001b[0mps\u001b[0m \u001b[1;32min\u001b[0m \u001b[0mpolys\u001b[0m\u001b[1;33m]\u001b[0m\u001b[1;33m)\u001b[0m\u001b[1;33m\u001b[0m\u001b[1;33m\u001b[0m\u001b[0m\n\u001b[0m\u001b[0;32m   1693\u001b[0m             \u001b[0mpolyc\u001b[0m\u001b[1;33m.\u001b[0m\u001b[0mset_array\u001b[0m\u001b[1;33m(\u001b[0m\u001b[0mavg_z\u001b[0m\u001b[1;33m)\u001b[0m\u001b[1;33m\u001b[0m\u001b[1;33m\u001b[0m\u001b[0m\n\u001b[0;32m   1694\u001b[0m             \u001b[1;32mif\u001b[0m \u001b[0mvmin\u001b[0m \u001b[1;32mis\u001b[0m \u001b[1;32mnot\u001b[0m \u001b[1;32mNone\u001b[0m \u001b[1;32mor\u001b[0m \u001b[0mvmax\u001b[0m \u001b[1;32mis\u001b[0m \u001b[1;32mnot\u001b[0m \u001b[1;32mNone\u001b[0m\u001b[1;33m:\u001b[0m\u001b[1;33m\u001b[0m\u001b[1;33m\u001b[0m\u001b[0m\n",
      "\u001b[1;32m~\\AppData\\Local\\Continuum\\anaconda3\\lib\\site-packages\\mpl_toolkits\\mplot3d\\axes3d.py\u001b[0m in \u001b[0;36m<listcomp>\u001b[1;34m(.0)\u001b[0m\n\u001b[0;32m   1690\u001b[0m         \u001b[1;32melif\u001b[0m \u001b[0mcmap\u001b[0m\u001b[1;33m:\u001b[0m\u001b[1;33m\u001b[0m\u001b[1;33m\u001b[0m\u001b[0m\n\u001b[0;32m   1691\u001b[0m             \u001b[1;31m# doesn't vectorize because polys is jagged\u001b[0m\u001b[1;33m\u001b[0m\u001b[1;33m\u001b[0m\u001b[1;33m\u001b[0m\u001b[0m\n\u001b[1;32m-> 1692\u001b[1;33m             \u001b[0mavg_z\u001b[0m \u001b[1;33m=\u001b[0m \u001b[0mnp\u001b[0m\u001b[1;33m.\u001b[0m\u001b[0marray\u001b[0m\u001b[1;33m(\u001b[0m\u001b[1;33m[\u001b[0m\u001b[0mps\u001b[0m\u001b[1;33m[\u001b[0m\u001b[1;33m:\u001b[0m\u001b[1;33m,\u001b[0m \u001b[1;36m2\u001b[0m\u001b[1;33m]\u001b[0m\u001b[1;33m.\u001b[0m\u001b[0mmean\u001b[0m\u001b[1;33m(\u001b[0m\u001b[1;33m)\u001b[0m \u001b[1;32mfor\u001b[0m \u001b[0mps\u001b[0m \u001b[1;32min\u001b[0m \u001b[0mpolys\u001b[0m\u001b[1;33m]\u001b[0m\u001b[1;33m)\u001b[0m\u001b[1;33m\u001b[0m\u001b[1;33m\u001b[0m\u001b[0m\n\u001b[0m\u001b[0;32m   1693\u001b[0m             \u001b[0mpolyc\u001b[0m\u001b[1;33m.\u001b[0m\u001b[0mset_array\u001b[0m\u001b[1;33m(\u001b[0m\u001b[0mavg_z\u001b[0m\u001b[1;33m)\u001b[0m\u001b[1;33m\u001b[0m\u001b[1;33m\u001b[0m\u001b[0m\n\u001b[0;32m   1694\u001b[0m             \u001b[1;32mif\u001b[0m \u001b[0mvmin\u001b[0m \u001b[1;32mis\u001b[0m \u001b[1;32mnot\u001b[0m \u001b[1;32mNone\u001b[0m \u001b[1;32mor\u001b[0m \u001b[0mvmax\u001b[0m \u001b[1;32mis\u001b[0m \u001b[1;32mnot\u001b[0m \u001b[1;32mNone\u001b[0m\u001b[1;33m:\u001b[0m\u001b[1;33m\u001b[0m\u001b[1;33m\u001b[0m\u001b[0m\n",
      "\u001b[1;32m~\\AppData\\Local\\Continuum\\anaconda3\\lib\\site-packages\\numpy\\core\\_methods.py\u001b[0m in \u001b[0;36m_mean\u001b[1;34m(a, axis, dtype, out, keepdims)\u001b[0m\n\u001b[0;32m     73\u001b[0m             \u001b[0mis_float16_result\u001b[0m \u001b[1;33m=\u001b[0m \u001b[1;32mTrue\u001b[0m\u001b[1;33m\u001b[0m\u001b[1;33m\u001b[0m\u001b[0m\n\u001b[0;32m     74\u001b[0m \u001b[1;33m\u001b[0m\u001b[0m\n\u001b[1;32m---> 75\u001b[1;33m     \u001b[0mret\u001b[0m \u001b[1;33m=\u001b[0m \u001b[0mumr_sum\u001b[0m\u001b[1;33m(\u001b[0m\u001b[0marr\u001b[0m\u001b[1;33m,\u001b[0m \u001b[0maxis\u001b[0m\u001b[1;33m,\u001b[0m \u001b[0mdtype\u001b[0m\u001b[1;33m,\u001b[0m \u001b[0mout\u001b[0m\u001b[1;33m,\u001b[0m \u001b[0mkeepdims\u001b[0m\u001b[1;33m)\u001b[0m\u001b[1;33m\u001b[0m\u001b[1;33m\u001b[0m\u001b[0m\n\u001b[0m\u001b[0;32m     76\u001b[0m     \u001b[1;32mif\u001b[0m \u001b[0misinstance\u001b[0m\u001b[1;33m(\u001b[0m\u001b[0mret\u001b[0m\u001b[1;33m,\u001b[0m \u001b[0mmu\u001b[0m\u001b[1;33m.\u001b[0m\u001b[0mndarray\u001b[0m\u001b[1;33m)\u001b[0m\u001b[1;33m:\u001b[0m\u001b[1;33m\u001b[0m\u001b[1;33m\u001b[0m\u001b[0m\n\u001b[0;32m     77\u001b[0m         ret = um.true_divide(\n",
      "\u001b[1;31mTypeError\u001b[0m: cannot perform reduce with flexible type"
     ]
    },
    {
     "data": {
      "image/png": "[encoded data removed]",
      "text/plain": [
       "<Figure size 432x288 with 1 Axes>"
      ]
     },
     "metadata": {
      "needs_background": "light"
     },
     "output_type": "display_data"
    }
   ],
   "source": [
    "# ax = plt.axes(projection='3d')\n",
    "# ax.plot_surface(X, Y, Z1, rstride=10, cstride=10,\n",
    "#                 cmap='winter', edgecolor='none')\n",
    "# ax.set_title('Sentiment distribution over time and space');"
   ]
  },
  {
   "cell_type": "code",
   "execution_count": null,
   "metadata": {},
   "outputs": [],
   "source": [
    "# ax = plt.axes(projection='3d')\n",
    "# ax.plot_surface(X, Y, Z1, rstride=1, cstride=1,\n",
    "#                 cmap='winter', edgecolor='none')\n",
    "# ax.set_xlabel('Time')\n",
    "# ax.set_ylabel('Location')\n",
    "# ax.set_zlabel('Sentiment')\n",
    "# ax.set_title('Sentiment distribution over time and space');"
   ]
  }
 ],
 "metadata": {
  "kernelspec": {
   "display_name": "Python 3",
   "language": "python",
   "name": "python3"
  },
  "language_info": {
   "codemirror_mode": {
    "name": "ipython",
    "version": 3
   },
   "file_extension": ".py",
   "mimetype": "text/x-python",
   "name": "python",
   "nbconvert_exporter": "python",
   "pygments_lexer": "ipython3",
   "version": "3.7.3"
  }
 },
 "nbformat": 4,
 "nbformat_minor": 2
}
