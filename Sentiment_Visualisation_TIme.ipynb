{
 "cells": [
  {
   "cell_type": "code",
   "execution_count": 1,
   "metadata": {},
   "outputs": [],
   "source": [
    "import pandas as pd"
   ]
  },
  {
   "cell_type": "code",
   "execution_count": 2,
   "metadata": {},
   "outputs": [
    {
     "data": {
      "text/plain": [
       "'C:\\\\Users\\\\basharm\\\\PythonJupyter\\\\CoVID19CodeGit\\\\data\\\\australian_space\\\\'"
      ]
     },
     "execution_count": 2,
     "metadata": {},
     "output_type": "execute_result"
    }
   ],
   "source": [
    "BASE_UNLABELLED = 'C:\\\\Users\\\\basharm\\\\PythonJupyter\\\\CoVID19CodeGit\\\\data\\\\australian_space\\\\'\n",
    "BASE_UNLABELLED"
   ]
  },
  {
   "cell_type": "code",
   "execution_count": 3,
   "metadata": {},
   "outputs": [],
   "source": [
    "df_in = pd.read_csv(BASE_UNLABELLED+'au_tweet_sentiment.csv', encoding='utf8')"
   ]
  },
  {
   "cell_type": "code",
   "execution_count": 4,
   "metadata": {},
   "outputs": [
    {
     "data": {
      "text/html": [
       "<div>\n",
       "<style scoped>\n",
       "    .dataframe tbody tr th:only-of-type {\n",
       "        vertical-align: middle;\n",
       "    }\n",
       "\n",
       "    .dataframe tbody tr th {\n",
       "        vertical-align: top;\n",
       "    }\n",
       "\n",
       "    .dataframe thead th {\n",
       "        text-align: right;\n",
       "    }\n",
       "</style>\n",
       "<table border=\"1\" class=\"dataframe\">\n",
       "  <thead>\n",
       "    <tr style=\"text-align: right;\">\n",
       "      <th></th>\n",
       "      <th>Text</th>\n",
       "      <th>Time</th>\n",
       "      <th>Location</th>\n",
       "      <th>Name</th>\n",
       "      <th>Sentiment</th>\n",
       "    </tr>\n",
       "  </thead>\n",
       "  <tbody>\n",
       "    <tr>\n",
       "      <th>0</th>\n",
       "      <td>bat sever human cell</td>\n",
       "      <td>2019-11-27 18:52:31</td>\n",
       "      <td>Australia</td>\n",
       "      <td>batpapers</td>\n",
       "      <td>1</td>\n",
       "    </tr>\n",
       "    <tr>\n",
       "      <th>1</th>\n",
       "      <td>virologist learn spread year later infect peni...</td>\n",
       "      <td>2019-12-05 19:55:24</td>\n",
       "      <td>NaN</td>\n",
       "      <td>tgk3130</td>\n",
       "      <td>0</td>\n",
       "    </tr>\n",
       "    <tr>\n",
       "      <th>2</th>\n",
       "      <td>remind flu flu think flu actual cold late</td>\n",
       "      <td>2019-12-09 06:21:20</td>\n",
       "      <td>Australia</td>\n",
       "      <td>DidiFrench</td>\n",
       "      <td>0</td>\n",
       "    </tr>\n",
       "    <tr>\n",
       "      <th>3</th>\n",
       "      <td>outbreak news east</td>\n",
       "      <td>2019-12-26 18:20:06</td>\n",
       "      <td>NaN</td>\n",
       "      <td>katrinamurphyir</td>\n",
       "      <td>0</td>\n",
       "    </tr>\n",
       "    <tr>\n",
       "      <th>4</th>\n",
       "      <td>detect sort known patient case time winter</td>\n",
       "      <td>2019-12-31 21:35:02</td>\n",
       "      <td>Australia</td>\n",
       "      <td>MackayIM</td>\n",
       "      <td>1</td>\n",
       "    </tr>\n",
       "  </tbody>\n",
       "</table>\n",
       "</div>"
      ],
      "text/plain": [
       "                                                Text                 Time  \\\n",
       "0                               bat sever human cell  2019-11-27 18:52:31   \n",
       "1  virologist learn spread year later infect peni...  2019-12-05 19:55:24   \n",
       "2          remind flu flu think flu actual cold late  2019-12-09 06:21:20   \n",
       "3                                 outbreak news east  2019-12-26 18:20:06   \n",
       "4         detect sort known patient case time winter  2019-12-31 21:35:02   \n",
       "\n",
       "    Location             Name  Sentiment  \n",
       "0  Australia        batpapers          1  \n",
       "1        NaN          tgk3130          0  \n",
       "2  Australia       DidiFrench          0  \n",
       "3        NaN  katrinamurphyir          0  \n",
       "4  Australia         MackayIM          1  "
      ]
     },
     "execution_count": 4,
     "metadata": {},
     "output_type": "execute_result"
    }
   ],
   "source": [
    "df_in.head()"
   ]
  },
  {
   "cell_type": "code",
   "execution_count": 5,
   "metadata": {},
   "outputs": [],
   "source": [
    "df_in['Time'] =pd.to_datetime(df_in['Time'])"
   ]
  },
  {
   "cell_type": "code",
   "execution_count": 6,
   "metadata": {},
   "outputs": [
    {
     "data": {
      "text/html": [
       "<div>\n",
       "<style scoped>\n",
       "    .dataframe tbody tr th:only-of-type {\n",
       "        vertical-align: middle;\n",
       "    }\n",
       "\n",
       "    .dataframe tbody tr th {\n",
       "        vertical-align: top;\n",
       "    }\n",
       "\n",
       "    .dataframe thead th {\n",
       "        text-align: right;\n",
       "    }\n",
       "</style>\n",
       "<table border=\"1\" class=\"dataframe\">\n",
       "  <thead>\n",
       "    <tr style=\"text-align: right;\">\n",
       "      <th></th>\n",
       "      <th>Text</th>\n",
       "      <th>Time</th>\n",
       "      <th>Location</th>\n",
       "      <th>Name</th>\n",
       "      <th>Sentiment</th>\n",
       "      <th>DinY</th>\n",
       "    </tr>\n",
       "  </thead>\n",
       "  <tbody>\n",
       "    <tr>\n",
       "      <th>0</th>\n",
       "      <td>bat sever human cell</td>\n",
       "      <td>2019-11-27 18:52:31</td>\n",
       "      <td>Australia</td>\n",
       "      <td>batpapers</td>\n",
       "      <td>1</td>\n",
       "      <td>331.0</td>\n",
       "    </tr>\n",
       "    <tr>\n",
       "      <th>1</th>\n",
       "      <td>virologist learn spread year later infect peni...</td>\n",
       "      <td>2019-12-05 19:55:24</td>\n",
       "      <td>NaN</td>\n",
       "      <td>tgk3130</td>\n",
       "      <td>0</td>\n",
       "      <td>339.0</td>\n",
       "    </tr>\n",
       "    <tr>\n",
       "      <th>2</th>\n",
       "      <td>remind flu flu think flu actual cold late</td>\n",
       "      <td>2019-12-09 06:21:20</td>\n",
       "      <td>Australia</td>\n",
       "      <td>DidiFrench</td>\n",
       "      <td>0</td>\n",
       "      <td>343.0</td>\n",
       "    </tr>\n",
       "    <tr>\n",
       "      <th>3</th>\n",
       "      <td>outbreak news east</td>\n",
       "      <td>2019-12-26 18:20:06</td>\n",
       "      <td>NaN</td>\n",
       "      <td>katrinamurphyir</td>\n",
       "      <td>0</td>\n",
       "      <td>360.0</td>\n",
       "    </tr>\n",
       "    <tr>\n",
       "      <th>4</th>\n",
       "      <td>detect sort known patient case time winter</td>\n",
       "      <td>2019-12-31 21:35:02</td>\n",
       "      <td>Australia</td>\n",
       "      <td>MackayIM</td>\n",
       "      <td>1</td>\n",
       "      <td>365.0</td>\n",
       "    </tr>\n",
       "  </tbody>\n",
       "</table>\n",
       "</div>"
      ],
      "text/plain": [
       "                                                Text                Time  \\\n",
       "0                               bat sever human cell 2019-11-27 18:52:31   \n",
       "1  virologist learn spread year later infect peni... 2019-12-05 19:55:24   \n",
       "2          remind flu flu think flu actual cold late 2019-12-09 06:21:20   \n",
       "3                                 outbreak news east 2019-12-26 18:20:06   \n",
       "4         detect sort known patient case time winter 2019-12-31 21:35:02   \n",
       "\n",
       "    Location             Name  Sentiment   DinY  \n",
       "0  Australia        batpapers          1  331.0  \n",
       "1        NaN          tgk3130          0  339.0  \n",
       "2  Australia       DidiFrench          0  343.0  \n",
       "3        NaN  katrinamurphyir          0  360.0  \n",
       "4  Australia         MackayIM          1  365.0  "
      ]
     },
     "execution_count": 6,
     "metadata": {},
     "output_type": "execute_result"
    }
   ],
   "source": [
    "df_in['DinY'] = df_in['Time'].dt.dayofyear + (df_in['Time'].dt.year-2019)*365\n",
    "df_in.head()"
   ]
  },
  {
   "cell_type": "code",
   "execution_count": null,
   "metadata": {},
   "outputs": [],
   "source": [
    "#df_in['Time'].dt.dayofyear + (df_in['Time'].dt.year-2019)*365"
   ]
  },
  {
   "cell_type": "code",
   "execution_count": 7,
   "metadata": {},
   "outputs": [
    {
     "data": {
      "text/html": [
       "<div>\n",
       "<style scoped>\n",
       "    .dataframe tbody tr th:only-of-type {\n",
       "        vertical-align: middle;\n",
       "    }\n",
       "\n",
       "    .dataframe tbody tr th {\n",
       "        vertical-align: top;\n",
       "    }\n",
       "\n",
       "    .dataframe thead th {\n",
       "        text-align: right;\n",
       "    }\n",
       "</style>\n",
       "<table border=\"1\" class=\"dataframe\">\n",
       "  <thead>\n",
       "    <tr style=\"text-align: right;\">\n",
       "      <th></th>\n",
       "      <th>Text</th>\n",
       "      <th>Time</th>\n",
       "      <th>Location</th>\n",
       "      <th>Name</th>\n",
       "      <th>Sentiment</th>\n",
       "      <th>DinY</th>\n",
       "      <th>WinY</th>\n",
       "    </tr>\n",
       "  </thead>\n",
       "  <tbody>\n",
       "    <tr>\n",
       "      <th>0</th>\n",
       "      <td>bat sever human cell</td>\n",
       "      <td>2019-11-27 18:52:31</td>\n",
       "      <td>Australia</td>\n",
       "      <td>batpapers</td>\n",
       "      <td>1</td>\n",
       "      <td>331.0</td>\n",
       "      <td>48.0</td>\n",
       "    </tr>\n",
       "    <tr>\n",
       "      <th>1</th>\n",
       "      <td>virologist learn spread year later infect peni...</td>\n",
       "      <td>2019-12-05 19:55:24</td>\n",
       "      <td>NaN</td>\n",
       "      <td>tgk3130</td>\n",
       "      <td>0</td>\n",
       "      <td>339.0</td>\n",
       "      <td>49.0</td>\n",
       "    </tr>\n",
       "    <tr>\n",
       "      <th>2</th>\n",
       "      <td>remind flu flu think flu actual cold late</td>\n",
       "      <td>2019-12-09 06:21:20</td>\n",
       "      <td>Australia</td>\n",
       "      <td>DidiFrench</td>\n",
       "      <td>0</td>\n",
       "      <td>343.0</td>\n",
       "      <td>50.0</td>\n",
       "    </tr>\n",
       "    <tr>\n",
       "      <th>3</th>\n",
       "      <td>outbreak news east</td>\n",
       "      <td>2019-12-26 18:20:06</td>\n",
       "      <td>NaN</td>\n",
       "      <td>katrinamurphyir</td>\n",
       "      <td>0</td>\n",
       "      <td>360.0</td>\n",
       "      <td>52.0</td>\n",
       "    </tr>\n",
       "    <tr>\n",
       "      <th>4</th>\n",
       "      <td>detect sort known patient case time winter</td>\n",
       "      <td>2019-12-31 21:35:02</td>\n",
       "      <td>Australia</td>\n",
       "      <td>MackayIM</td>\n",
       "      <td>1</td>\n",
       "      <td>365.0</td>\n",
       "      <td>1.0</td>\n",
       "    </tr>\n",
       "    <tr>\n",
       "      <th>5</th>\n",
       "      <td>east viral novel east wa</td>\n",
       "      <td>2020-01-01 06:58:55</td>\n",
       "      <td>Saudi</td>\n",
       "      <td>Da5eel</td>\n",
       "      <td>1</td>\n",
       "      <td>366.0</td>\n",
       "      <td>53.0</td>\n",
       "    </tr>\n",
       "    <tr>\n",
       "      <th>6</th>\n",
       "      <td>wait news china talk social media sever ill pa...</td>\n",
       "      <td>2020-01-01 11:07:07</td>\n",
       "      <td>Australia</td>\n",
       "      <td>MackayIM</td>\n",
       "      <td>1</td>\n",
       "      <td>366.0</td>\n",
       "      <td>53.0</td>\n",
       "    </tr>\n",
       "    <tr>\n",
       "      <th>7</th>\n",
       "      <td>purport lab report share medic detect result h...</td>\n",
       "      <td>2020-01-01 15:18:56</td>\n",
       "      <td>NaN</td>\n",
       "      <td>alexandraphelan</td>\n",
       "      <td>0</td>\n",
       "      <td>366.0</td>\n",
       "      <td>53.0</td>\n",
       "    </tr>\n",
       "    <tr>\n",
       "      <th>8</th>\n",
       "      <td>comment genet segment wa detect corona</td>\n",
       "      <td>2020-01-01 21:05:03</td>\n",
       "      <td>Australia</td>\n",
       "      <td>MackayIM</td>\n",
       "      <td>1</td>\n",
       "      <td>366.0</td>\n",
       "      <td>53.0</td>\n",
       "    </tr>\n",
       "    <tr>\n",
       "      <th>9</th>\n",
       "      <td>hong level pneumonia outbreak word sar era aw ...</td>\n",
       "      <td>2020-01-05 05:05:36</td>\n",
       "      <td>Australia</td>\n",
       "      <td>drng</td>\n",
       "      <td>0</td>\n",
       "      <td>370.0</td>\n",
       "      <td>53.0</td>\n",
       "    </tr>\n",
       "  </tbody>\n",
       "</table>\n",
       "</div>"
      ],
      "text/plain": [
       "                                                Text                Time  \\\n",
       "0                               bat sever human cell 2019-11-27 18:52:31   \n",
       "1  virologist learn spread year later infect peni... 2019-12-05 19:55:24   \n",
       "2          remind flu flu think flu actual cold late 2019-12-09 06:21:20   \n",
       "3                                 outbreak news east 2019-12-26 18:20:06   \n",
       "4         detect sort known patient case time winter 2019-12-31 21:35:02   \n",
       "5                           east viral novel east wa 2020-01-01 06:58:55   \n",
       "6  wait news china talk social media sever ill pa... 2020-01-01 11:07:07   \n",
       "7  purport lab report share medic detect result h... 2020-01-01 15:18:56   \n",
       "8             comment genet segment wa detect corona 2020-01-01 21:05:03   \n",
       "9  hong level pneumonia outbreak word sar era aw ... 2020-01-05 05:05:36   \n",
       "\n",
       "    Location             Name  Sentiment   DinY  WinY  \n",
       "0  Australia        batpapers          1  331.0  48.0  \n",
       "1        NaN          tgk3130          0  339.0  49.0  \n",
       "2  Australia       DidiFrench          0  343.0  50.0  \n",
       "3        NaN  katrinamurphyir          0  360.0  52.0  \n",
       "4  Australia         MackayIM          1  365.0   1.0  \n",
       "5      Saudi           Da5eel          1  366.0  53.0  \n",
       "6  Australia         MackayIM          1  366.0  53.0  \n",
       "7        NaN  alexandraphelan          0  366.0  53.0  \n",
       "8  Australia         MackayIM          1  366.0  53.0  \n",
       "9  Australia             drng          0  370.0  53.0  "
      ]
     },
     "execution_count": 7,
     "metadata": {},
     "output_type": "execute_result"
    }
   ],
   "source": [
    "df_in['WinY'] = df_in['Time'].dt.week + (df_in['Time'].dt.year-2019)*52\n",
    "df_in.head(10)"
   ]
  },
  {
   "cell_type": "code",
   "execution_count": 8,
   "metadata": {},
   "outputs": [
    {
     "data": {
      "text/html": [
       "<div>\n",
       "<style scoped>\n",
       "    .dataframe tbody tr th:only-of-type {\n",
       "        vertical-align: middle;\n",
       "    }\n",
       "\n",
       "    .dataframe tbody tr th {\n",
       "        vertical-align: top;\n",
       "    }\n",
       "\n",
       "    .dataframe thead th {\n",
       "        text-align: right;\n",
       "    }\n",
       "</style>\n",
       "<table border=\"1\" class=\"dataframe\">\n",
       "  <thead>\n",
       "    <tr style=\"text-align: right;\">\n",
       "      <th></th>\n",
       "      <th>Text</th>\n",
       "      <th>Time</th>\n",
       "      <th>Location</th>\n",
       "      <th>Name</th>\n",
       "      <th>Sentiment</th>\n",
       "      <th>DinY</th>\n",
       "      <th>WinY</th>\n",
       "      <th>MinY</th>\n",
       "    </tr>\n",
       "  </thead>\n",
       "  <tbody>\n",
       "    <tr>\n",
       "      <th>0</th>\n",
       "      <td>bat sever human cell</td>\n",
       "      <td>2019-11-27 18:52:31</td>\n",
       "      <td>Australia</td>\n",
       "      <td>batpapers</td>\n",
       "      <td>1</td>\n",
       "      <td>331.0</td>\n",
       "      <td>48.0</td>\n",
       "      <td>11.0</td>\n",
       "    </tr>\n",
       "    <tr>\n",
       "      <th>1</th>\n",
       "      <td>virologist learn spread year later infect peni...</td>\n",
       "      <td>2019-12-05 19:55:24</td>\n",
       "      <td>NaN</td>\n",
       "      <td>tgk3130</td>\n",
       "      <td>0</td>\n",
       "      <td>339.0</td>\n",
       "      <td>49.0</td>\n",
       "      <td>12.0</td>\n",
       "    </tr>\n",
       "    <tr>\n",
       "      <th>2</th>\n",
       "      <td>remind flu flu think flu actual cold late</td>\n",
       "      <td>2019-12-09 06:21:20</td>\n",
       "      <td>Australia</td>\n",
       "      <td>DidiFrench</td>\n",
       "      <td>0</td>\n",
       "      <td>343.0</td>\n",
       "      <td>50.0</td>\n",
       "      <td>12.0</td>\n",
       "    </tr>\n",
       "    <tr>\n",
       "      <th>3</th>\n",
       "      <td>outbreak news east</td>\n",
       "      <td>2019-12-26 18:20:06</td>\n",
       "      <td>NaN</td>\n",
       "      <td>katrinamurphyir</td>\n",
       "      <td>0</td>\n",
       "      <td>360.0</td>\n",
       "      <td>52.0</td>\n",
       "      <td>12.0</td>\n",
       "    </tr>\n",
       "    <tr>\n",
       "      <th>4</th>\n",
       "      <td>detect sort known patient case time winter</td>\n",
       "      <td>2019-12-31 21:35:02</td>\n",
       "      <td>Australia</td>\n",
       "      <td>MackayIM</td>\n",
       "      <td>1</td>\n",
       "      <td>365.0</td>\n",
       "      <td>1.0</td>\n",
       "      <td>12.0</td>\n",
       "    </tr>\n",
       "    <tr>\n",
       "      <th>5</th>\n",
       "      <td>east viral novel east wa</td>\n",
       "      <td>2020-01-01 06:58:55</td>\n",
       "      <td>Saudi</td>\n",
       "      <td>Da5eel</td>\n",
       "      <td>1</td>\n",
       "      <td>366.0</td>\n",
       "      <td>53.0</td>\n",
       "      <td>13.0</td>\n",
       "    </tr>\n",
       "    <tr>\n",
       "      <th>6</th>\n",
       "      <td>wait news china talk social media sever ill pa...</td>\n",
       "      <td>2020-01-01 11:07:07</td>\n",
       "      <td>Australia</td>\n",
       "      <td>MackayIM</td>\n",
       "      <td>1</td>\n",
       "      <td>366.0</td>\n",
       "      <td>53.0</td>\n",
       "      <td>13.0</td>\n",
       "    </tr>\n",
       "    <tr>\n",
       "      <th>7</th>\n",
       "      <td>purport lab report share medic detect result h...</td>\n",
       "      <td>2020-01-01 15:18:56</td>\n",
       "      <td>NaN</td>\n",
       "      <td>alexandraphelan</td>\n",
       "      <td>0</td>\n",
       "      <td>366.0</td>\n",
       "      <td>53.0</td>\n",
       "      <td>13.0</td>\n",
       "    </tr>\n",
       "    <tr>\n",
       "      <th>8</th>\n",
       "      <td>comment genet segment wa detect corona</td>\n",
       "      <td>2020-01-01 21:05:03</td>\n",
       "      <td>Australia</td>\n",
       "      <td>MackayIM</td>\n",
       "      <td>1</td>\n",
       "      <td>366.0</td>\n",
       "      <td>53.0</td>\n",
       "      <td>13.0</td>\n",
       "    </tr>\n",
       "    <tr>\n",
       "      <th>9</th>\n",
       "      <td>hong level pneumonia outbreak word sar era aw ...</td>\n",
       "      <td>2020-01-05 05:05:36</td>\n",
       "      <td>Australia</td>\n",
       "      <td>drng</td>\n",
       "      <td>0</td>\n",
       "      <td>370.0</td>\n",
       "      <td>53.0</td>\n",
       "      <td>13.0</td>\n",
       "    </tr>\n",
       "  </tbody>\n",
       "</table>\n",
       "</div>"
      ],
      "text/plain": [
       "                                                Text                Time  \\\n",
       "0                               bat sever human cell 2019-11-27 18:52:31   \n",
       "1  virologist learn spread year later infect peni... 2019-12-05 19:55:24   \n",
       "2          remind flu flu think flu actual cold late 2019-12-09 06:21:20   \n",
       "3                                 outbreak news east 2019-12-26 18:20:06   \n",
       "4         detect sort known patient case time winter 2019-12-31 21:35:02   \n",
       "5                           east viral novel east wa 2020-01-01 06:58:55   \n",
       "6  wait news china talk social media sever ill pa... 2020-01-01 11:07:07   \n",
       "7  purport lab report share medic detect result h... 2020-01-01 15:18:56   \n",
       "8             comment genet segment wa detect corona 2020-01-01 21:05:03   \n",
       "9  hong level pneumonia outbreak word sar era aw ... 2020-01-05 05:05:36   \n",
       "\n",
       "    Location             Name  Sentiment   DinY  WinY  MinY  \n",
       "0  Australia        batpapers          1  331.0  48.0  11.0  \n",
       "1        NaN          tgk3130          0  339.0  49.0  12.0  \n",
       "2  Australia       DidiFrench          0  343.0  50.0  12.0  \n",
       "3        NaN  katrinamurphyir          0  360.0  52.0  12.0  \n",
       "4  Australia         MackayIM          1  365.0   1.0  12.0  \n",
       "5      Saudi           Da5eel          1  366.0  53.0  13.0  \n",
       "6  Australia         MackayIM          1  366.0  53.0  13.0  \n",
       "7        NaN  alexandraphelan          0  366.0  53.0  13.0  \n",
       "8  Australia         MackayIM          1  366.0  53.0  13.0  \n",
       "9  Australia             drng          0  370.0  53.0  13.0  "
      ]
     },
     "execution_count": 8,
     "metadata": {},
     "output_type": "execute_result"
    }
   ],
   "source": [
    "df_in['MinY'] = df_in['Time'].dt.month + (df_in['Time'].dt.year-2019)*12\n",
    "df_in.head(10)"
   ]
  },
  {
   "cell_type": "code",
   "execution_count": 12,
   "metadata": {},
   "outputs": [],
   "source": [
    "import matplotlib.pyplot as plt\n",
    "import numpy as np"
   ]
  },
  {
   "cell_type": "code",
   "execution_count": 22,
   "metadata": {},
   "outputs": [],
   "source": [
    "df_in = df_in.drop(df_in[df_in['DinY'].isna()].index)"
   ]
  },
  {
   "cell_type": "code",
   "execution_count": 26,
   "metadata": {},
   "outputs": [
    {
     "data": {
      "image/png": "[encoded data removed]",
      "text/plain": [
       "<Figure size 432x288 with 1 Axes>"
      ]
     },
     "metadata": {
      "needs_background": "light"
     },
     "output_type": "display_data"
    }
   ],
   "source": [
    "tempo = 'DinY'\n",
    "sizes = df_in.groupby(tempo).Sentiment.size()\n",
    "maxi = max(sizes)\n",
    "plt.plot(df_in.groupby(tempo).Sentiment.size()/maxi)\n",
    "plt.plot(df_in.groupby(tempo).Sentiment.sum()/maxi)\n",
    "plt.plot(df_in.groupby(tempo).Sentiment.sum()/sizes)\n",
    "plt.xticks(np.arange(331, 463, 10), [x*10 for x in range(140)])\n",
    "plt.ylabel('Sentiment')\n",
    "plt.xlabel('Day')\n",
    "plt.legend(['Total', 'Positive', 'Positive%'])\n",
    "plt.show()"
   ]
  },
  {
   "cell_type": "code",
   "execution_count": 28,
   "metadata": {},
   "outputs": [],
   "source": [
    "df_in = df_in.drop(df_in[df_in['WinY']==1.0].index)"
   ]
  },
  {
   "cell_type": "code",
   "execution_count": 35,
   "metadata": {},
   "outputs": [
    {
     "data": {
      "text/plain": [
       "{48.0,\n",
       " 49.0,\n",
       " 50.0,\n",
       " 52.0,\n",
       " 53.0,\n",
       " 54.0,\n",
       " 55.0,\n",
       " 56.0,\n",
       " 57.0,\n",
       " 58.0,\n",
       " 59.0,\n",
       " 60.0,\n",
       " 61.0,\n",
       " 62.0,\n",
       " 63.0,\n",
       " 64.0,\n",
       " 65.0,\n",
       " 66.0,\n",
       " 67.0}"
      ]
     },
     "execution_count": 35,
     "metadata": {},
     "output_type": "execute_result"
    }
   ],
   "source": [
    "set(df_in.WinY)"
   ]
  },
  {
   "cell_type": "code",
   "execution_count": 38,
   "metadata": {},
   "outputs": [
    {
     "data": {
      "image/png": "[encoded data removed]",
      "text/plain": [
       "<Figure size 432x288 with 1 Axes>"
      ]
     },
     "metadata": {
      "needs_background": "light"
     },
     "output_type": "display_data"
    }
   ],
   "source": [
    "tempo = 'WinY'\n",
    "sizes = df_in.groupby(tempo).Sentiment.size()\n",
    "maxi = max(sizes)\n",
    "plt.plot(df_in.groupby(tempo).Sentiment.size()/maxi)\n",
    "plt.plot(df_in.groupby(tempo).Sentiment.sum()/maxi)\n",
    "plt.plot(df_in.groupby(tempo).Sentiment.sum()/sizes)\n",
    "plt.xticks(np.arange(48, 68, 1), [x for x in range(20)])\n",
    "plt.ylabel('Sentiment')\n",
    "plt.xlabel('Week')\n",
    "plt.legend(['Total', 'Positive', 'Positive vs Total Ratio'])\n",
    "plt.show()"
   ]
  },
  {
   "cell_type": "code",
   "execution_count": null,
   "metadata": {},
   "outputs": [],
   "source": [
    "df_in.drop( df_in[df_in['WinY'] == 1].index , inplace=True)"
   ]
  },
  {
   "cell_type": "code",
   "execution_count": null,
   "metadata": {},
   "outputs": [],
   "source": [
    "tempo = 'MinY'\n",
    "sizes = df_in.groupby(tempo).Sentiment.size()\n",
    "maxi = max(sizes)\n",
    "plt.plot(df_in.groupby(tempo).Sentiment.size()/maxi)\n",
    "plt.plot(df_in.groupby(tempo).Sentiment.sum()/maxi)\n",
    "plt.plot(df_in.groupby(tempo).Sentiment.sum()/sizes)\n",
    "plt.ylabel('Sentiment')\n",
    "plt.xlabel('Month')\n",
    "plt.legend(['Total', 'Positive', 'Positive%'])\n",
    "plt.show()"
   ]
  },
  {
   "cell_type": "code",
   "execution_count": null,
   "metadata": {},
   "outputs": [],
   "source": [
    "df_in[(df_in['MinY']>12) & (df_in['MinY']<14)]"
   ]
  },
  {
   "cell_type": "code",
   "execution_count": null,
   "metadata": {},
   "outputs": [],
   "source": [
    "df_in2 = df_in.drop( df_in[df_in['Location'].isna() ].index)\n",
    "df_in2.head(10)"
   ]
  },
  {
   "cell_type": "code",
   "execution_count": null,
   "metadata": {},
   "outputs": [],
   "source": [
    "locs = [loc.lower() for loc in list(df_in2['Location'])]"
   ]
  },
  {
   "cell_type": "code",
   "execution_count": null,
   "metadata": {},
   "outputs": [],
   "source": [
    "loc2nic = {'australia':'au',\n",
    "           'oceania':'au',\n",
    "           'oz':'au',\n",
    "           'australian capital territory':'act',\n",
    "           'new south wales':'nsw',\n",
    "           'northern territory':'nt',\n",
    "           'queensland':'qld',\n",
    "           'south australia':'sa',\n",
    "           'tasmania':'tas',\n",
    "           'victoria':'vic',\n",
    "           'victoria.':'vic',\n",
    "           'western australia':'wa',\n",
    "           'sydney':'syd',\n",
    "           'brisbane':'bne',\n",
    "           'adelaide':'ald',\n",
    "           'hobart':'ymhb',\n",
    "           'melbourne':'mel',\n",
    "           'perth':'per',\n",
    "           'canberra':'can'}"
   ]
  },
  {
   "cell_type": "code",
   "execution_count": null,
   "metadata": {},
   "outputs": [],
   "source": [
    "for i, loc in enumerate(locs):\n",
    "    if loc in loc2nic.keys():\n",
    "        locs[i] = loc2nic[loc]"
   ]
  },
  {
   "cell_type": "code",
   "execution_count": null,
   "metadata": {},
   "outputs": [],
   "source": [
    "for i, loc in enumerate(locs):\n",
    "    if loc not in loc2nic.values():\n",
    "        locs[i] = 'oth'"
   ]
  },
  {
   "cell_type": "code",
   "execution_count": null,
   "metadata": {},
   "outputs": [],
   "source": [
    "set(locs)"
   ]
  },
  {
   "cell_type": "code",
   "execution_count": null,
   "metadata": {},
   "outputs": [],
   "source": [
    "df_in2['Location'] = locs"
   ]
  },
  {
   "cell_type": "code",
   "execution_count": null,
   "metadata": {},
   "outputs": [],
   "source": [
    "loc2frq = {}\n",
    "for loc in locs:\n",
    "    if loc in loc2frq.keys():\n",
    "        loc2frq[loc] += 1\n",
    "    else:\n",
    "        loc2frq[loc] = 1\n",
    "#loc2id"
   ]
  },
  {
   "cell_type": "code",
   "execution_count": null,
   "metadata": {},
   "outputs": [],
   "source": [
    "loc2frq = {k:v for k,v in sorted(loc2frq.items(), key=lambda item: item[1], reverse=True)}"
   ]
  },
  {
   "cell_type": "code",
   "execution_count": null,
   "metadata": {},
   "outputs": [],
   "source": [
    "loc2frq"
   ]
  },
  {
   "cell_type": "code",
   "execution_count": null,
   "metadata": {},
   "outputs": [],
   "source": [
    "df_in2.head()"
   ]
  },
  {
   "cell_type": "code",
   "execution_count": null,
   "metadata": {},
   "outputs": [],
   "source": [
    "# plt.plot((df_in2.groupby('Location').Sentiment.sum()/df_in2.groupby('Location').Sentiment.size()))\n",
    "# plt.ylabel('sentiment')\n",
    "# plt.xlabel('Space')\n",
    "# plt.show()\n",
    "\n",
    "\n",
    "tempo = 'Location'\n",
    "sizes = df_in2.groupby(tempo).Sentiment.size()\n",
    "maxi = max(sizes)\n",
    "plt.bar(list(set(locs)), df_in2.groupby(tempo).Sentiment.size()/maxi)\n",
    "#plt.bar(list(set(locs)), df_in2.groupby(tempo).Sentiment.sum()/maxi)\n",
    "#plt.bar(list(set(locs)), df_in2.groupby(tempo).Sentiment.sum()/sizes)\n",
    "plt.ylabel('Sentiment')\n",
    "plt.xlabel('Space')\n",
    "#plt.legend(['Total', 'Positive', 'Positive%'])\n",
    "plt.legend(['Total'])\n",
    "plt.show()"
   ]
  },
  {
   "cell_type": "code",
   "execution_count": null,
   "metadata": {},
   "outputs": [],
   "source": [
    "# plt.plot((df_in2.groupby('Location').Sentiment.sum()/df_in2.groupby('Location').Sentiment.size()))\n",
    "# plt.ylabel('sentiment')\n",
    "# plt.xlabel('Space')\n",
    "# plt.show()\n",
    "\n",
    "\n",
    "tempo = 'Location'\n",
    "sizes = df_in2.groupby(tempo).Sentiment.size()\n",
    "maxi = max(sizes)\n",
    "#plt.bar(list(set(locs)), df_in2.groupby(tempo).Sentiment.size()/maxi)\n",
    "plt.bar(list(set(locs)), df_in2.groupby(tempo).Sentiment.sum()/maxi)\n",
    "#plt.bar(list(set(locs)), df_in2.groupby(tempo).Sentiment.sum()/sizes)\n",
    "plt.ylabel('Sentiment')\n",
    "plt.xlabel('Space')\n",
    "#plt.legend(['Total', 'Positive', 'Positive%'])\n",
    "plt.legend(['Positive'])\n",
    "plt.show()"
   ]
  },
  {
   "cell_type": "code",
   "execution_count": null,
   "metadata": {},
   "outputs": [],
   "source": [
    "# plt.plot((df_in2.groupby('Location').Sentiment.sum()/df_in2.groupby('Location').Sentiment.size()))\n",
    "# plt.ylabel('sentiment')\n",
    "# plt.xlabel('Space')\n",
    "# plt.show()\n",
    "\n",
    "\n",
    "tempo = 'Location'\n",
    "sizes = df_in2.groupby(tempo).Sentiment.size()\n",
    "maxi = max(sizes)\n",
    "plt.ylim((0, 1))\n",
    "#plt.bar(list(set(locs)), df_in2.groupby(tempo).Sentiment.size()/maxi)\n",
    "#plt.bar(list(set(locs)), df_in2.groupby(tempo).Sentiment.sum()/maxi)\n",
    "plt.bar(list(set(locs)), df_in2.groupby(tempo).Sentiment.sum()/sizes)\n",
    "plt.ylabel('Sentiment')\n",
    "plt.xlabel('Space')\n",
    "#plt.legend(['Total', 'Positive', 'Positive%'])\n",
    "plt.legend(['Positive%'])\n",
    "plt.grid()\n",
    "plt.show()"
   ]
  },
  {
   "cell_type": "code",
   "execution_count": null,
   "metadata": {},
   "outputs": [],
   "source": [
    "tempo = 'Location'\n",
    "sizes = df_in2.groupby(tempo).Sentiment.size()\n",
    "maxi = max(sizes)\n",
    "plt.scatter(list(set(locs)), df_in2.groupby(tempo).Sentiment.size()/maxi)\n",
    "plt.scatter(list(set(locs)), df_in2.groupby(tempo).Sentiment.sum()/maxi)\n",
    "#plt.scatter(list(set(locs)), df_in2.groupby(tempo).Sentiment.sum()/sizes)\n",
    "plt.ylabel('Sentiment')\n",
    "plt.xlabel('Space')\n",
    "plt.legend(['Total', 'Positive', 'Positive%'])\n",
    "plt.show()"
   ]
  },
  {
   "cell_type": "code",
   "execution_count": null,
   "metadata": {},
   "outputs": [],
   "source": [
    "XYZ = df_in2.groupby(['WinY', 'Location']).Sentiment.sum()\n",
    "XYZ"
   ]
  },
  {
   "cell_type": "code",
   "execution_count": null,
   "metadata": {},
   "outputs": [],
   "source": [
    "XYZ.get((48,  'au'))"
   ]
  },
  {
   "cell_type": "code",
   "execution_count": null,
   "metadata": {},
   "outputs": [],
   "source": [
    "time = []\n",
    "locations = []\n",
    "for key in XYZ.keys():\n",
    "    time.append(key[0])\n",
    "    locations.append(key[1])\n",
    "time[:5], locations[:5]"
   ]
  },
  {
   "cell_type": "code",
   "execution_count": null,
   "metadata": {},
   "outputs": [],
   "source": [
    "# sentiments = list(XYZ.values)\n",
    "# sentiments[:10]"
   ]
  },
  {
   "cell_type": "code",
   "execution_count": null,
   "metadata": {},
   "outputs": [],
   "source": [
    "loc2id = {}\n",
    "id2loc = list(set(locations))\n",
    "for i,loc in enumerate(id2loc):\n",
    "    loc2id[loc] = i"
   ]
  },
  {
   "cell_type": "code",
   "execution_count": null,
   "metadata": {},
   "outputs": [],
   "source": [
    "for idx, loc in enumerate(locations):\n",
    "    locations[idx] = loc2id[loc]"
   ]
  },
  {
   "cell_type": "code",
   "execution_count": null,
   "metadata": {},
   "outputs": [],
   "source": [
    "locations[:10]"
   ]
  },
  {
   "cell_type": "code",
   "execution_count": null,
   "metadata": {},
   "outputs": [],
   "source": [
    "import matplotlib.pyplot as plt\n",
    "from mpl_toolkits.mplot3d import Axes3D\n",
    "import numpy as np"
   ]
  },
  {
   "cell_type": "code",
   "execution_count": null,
   "metadata": {},
   "outputs": [],
   "source": [
    "X, Y = np.meshgrid(time, locations)"
   ]
  },
  {
   "cell_type": "code",
   "execution_count": null,
   "metadata": {},
   "outputs": [],
   "source": [
    "Y"
   ]
  },
  {
   "cell_type": "code",
   "execution_count": null,
   "metadata": {},
   "outputs": [],
   "source": [
    "loc2id"
   ]
  },
  {
   "cell_type": "code",
   "execution_count": null,
   "metadata": {},
   "outputs": [],
   "source": [
    "def z_function(X, Y):\n",
    "    Z = []\n",
    "    for i in range(len(X)):\n",
    "        z = []\n",
    "        for j in range(len(X[i])):\n",
    "            val = XYZ.get((X[i][j],  id2loc[Y[i][j]]))\n",
    "            if val:\n",
    "                z.append(val)\n",
    "            else:\n",
    "                z.append(0)\n",
    "        Z.append(z)\n",
    "    return Z"
   ]
  },
  {
   "cell_type": "code",
   "execution_count": null,
   "metadata": {},
   "outputs": [],
   "source": [
    "Z = z_function(X, Y)"
   ]
  },
  {
   "cell_type": "code",
   "execution_count": null,
   "metadata": {},
   "outputs": [],
   "source": [
    "Z1 = np.array(Z)"
   ]
  },
  {
   "cell_type": "code",
   "execution_count": null,
   "metadata": {},
   "outputs": [],
   "source": [
    "Z1"
   ]
  },
  {
   "cell_type": "code",
   "execution_count": null,
   "metadata": {},
   "outputs": [],
   "source": [
    "ax = plt.axes(projection='3d')\n",
    "ax.plot_surface(X, Y, Z1, rstride=1, cstride=1,\n",
    "                cmap='winter', edgecolor='none')\n",
    "ax.set_xlabel('Time')\n",
    "ax.set_ylabel('Location')\n",
    "ax.set_zlabel('Sentiment')\n",
    "ax.set_title('Sentiment distribution over time and space');"
   ]
  },
  {
   "cell_type": "code",
   "execution_count": null,
   "metadata": {},
   "outputs": [],
   "source": []
  },
  {
   "cell_type": "code",
   "execution_count": null,
   "metadata": {},
   "outputs": [],
   "source": [
    "xpos = X.flatten()\n",
    "ypos = Y.flatten()"
   ]
  },
  {
   "cell_type": "code",
   "execution_count": null,
   "metadata": {},
   "outputs": [],
   "source": [
    "ypos"
   ]
  },
  {
   "cell_type": "code",
   "execution_count": null,
   "metadata": {},
   "outputs": [],
   "source": [
    "set(ypos)"
   ]
  },
  {
   "cell_type": "code",
   "execution_count": null,
   "metadata": {},
   "outputs": [],
   "source": [
    "Z1"
   ]
  },
  {
   "cell_type": "code",
   "execution_count": null,
   "metadata": {},
   "outputs": [],
   "source": [
    "lx= len(Z1[0])  # Work out matrix dimensions\n",
    "ly= len(Z1[:,0])"
   ]
  },
  {
   "cell_type": "code",
   "execution_count": null,
   "metadata": {},
   "outputs": [],
   "source": [
    "zpos = np.zeros(lx*ly) # position in z direction\n",
    "zpos"
   ]
  },
  {
   "cell_type": "code",
   "execution_count": null,
   "metadata": {},
   "outputs": [],
   "source": [
    "dx = np.ones_like(zpos)# diameter of x (i.e. size of the bar in x direction)\n",
    "dy = dx.copy() # diameter of y \n",
    "dz = Z1.flatten() # diameter of z"
   ]
  },
  {
   "cell_type": "code",
   "execution_count": null,
   "metadata": {},
   "outputs": [],
   "source": [
    "from mpl_toolkits.mplot3d import Axes3D\n",
    "import matplotlib.pyplot as plt\n",
    "import numpy as np\n",
    "\n",
    "fig = plt.figure()\n",
    "ax = Axes3D(fig)\n",
    "\n",
    "ax.bar3d(xpos,ypos,zpos, dx, dy, dz)\n",
    "\n",
    "#sh()\n",
    "#ax.w_xaxis.set_ticklabels(column_names)\n",
    "ax.w_yaxis.set_ticklabels(id2loc)\n",
    "ax.set_xlabel('Week')\n",
    "ax.set_ylabel('Location')\n",
    "ax.set_zlabel('Sentiment')\n",
    "\n",
    "plt.show()"
   ]
  },
  {
   "cell_type": "code",
   "execution_count": null,
   "metadata": {},
   "outputs": [],
   "source": []
  },
  {
   "cell_type": "code",
   "execution_count": null,
   "metadata": {},
   "outputs": [],
   "source": [
    "# ax = plt.axes(projection='3d')\n",
    "# ax.plot_surface(X, Y, Z1, rstride=10, cstride=10,\n",
    "#                 cmap='winter', edgecolor='none')\n",
    "# ax.set_title('Sentiment distribution over time and space');"
   ]
  },
  {
   "cell_type": "code",
   "execution_count": null,
   "metadata": {},
   "outputs": [],
   "source": [
    "# ax = plt.axes(projection='3d')\n",
    "# ax.plot_surface(X, Y, Z1, rstride=1, cstride=1,\n",
    "#                 cmap='winter', edgecolor='none')\n",
    "# ax.set_xlabel('Time')\n",
    "# ax.set_ylabel('Location')\n",
    "# ax.set_zlabel('Sentiment')\n",
    "# ax.set_title('Sentiment distribution over time and space');"
   ]
  }
 ],
 "metadata": {
  "kernelspec": {
   "display_name": "Python 3",
   "language": "python",
   "name": "python3"
  },
  "language_info": {
   "codemirror_mode": {
    "name": "ipython",
    "version": 3
   },
   "file_extension": ".py",
   "mimetype": "text/x-python",
   "name": "python",
   "nbconvert_exporter": "python",
   "pygments_lexer": "ipython3",
   "version": "3.7.3"
  }
 },
 "nbformat": 4,
 "nbformat_minor": 2
}
